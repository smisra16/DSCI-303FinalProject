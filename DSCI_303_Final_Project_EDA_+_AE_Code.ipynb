{
  "cells": [
    {
      "cell_type": "code",
      "execution_count": 1,
      "metadata": {
        "id": "KTB5WSm8QQph"
      },
      "outputs": [],
      "source": [
        "#Imports Necessary Libraries import pandas as pd\n",
        "import seaborn as sns\n",
        "import matplotlib.pyplot as plt\n",
        "import math\n",
        "import numpy as np"
      ]
    },
    {
      "cell_type": "code",
      "execution_count": 2,
      "metadata": {
        "id": "oOO-WUc_QQp1"
      },
      "outputs": [],
      "source": [
        "#Data Visualization - Distributions"
      ]
    },
    {
      "cell_type": "code",
      "execution_count": 3,
      "metadata": {
        "colab": {
          "base_uri": "https://localhost:8080/",
          "height": 647
        },
        "id": "nJxzNWV3xBKX",
        "outputId": "cd4f6010-d98d-4e28-cb99-c0db96e9f894"
      },
      "outputs": [
        {
          "output_type": "execute_result",
          "data": {
            "text/plain": [
              "   Unnamed: 0  column_label       firm date_review  \\\n",
              "0           1             1  Sotheby-s  2021-05-25   \n",
              "1           2             1  Sotheby-s  2021-05-25   \n",
              "2           3             1  Sotheby-s  2021-05-24   \n",
              "3           4             1  Sotheby-s  2021-05-22   \n",
              "4           5             1  Sotheby-s  2021-05-15   \n",
              "\n",
              "                         job_title                             current  \\\n",
              "0                Financial Analyst   Former Employee, more than 1 year   \n",
              "1                    Administrator                     Former Employee   \n",
              "2   Client Services Representative   Former Employee, more than 1 year   \n",
              "3               Anonymous Employee                    Current Employee   \n",
              "4                    Administrator  Current Employee, less than 1 year   \n",
              "\n",
              "                   location  overall_rating  work_life_balance  \\\n",
              "0              New York, NY               1                1.0   \n",
              "1                 Hong Kong               4                4.0   \n",
              "2  London, England, England               4                5.0   \n",
              "3                 Hong Kong               3                2.0   \n",
              "4  London, England, England               4                4.0   \n",
              "\n",
              "   culture_values  ...  career_opp  comp_benefits  senior_mgmt  recommend  \\\n",
              "0             1.0  ...         1.0            2.0          1.0          x   \n",
              "1             5.0  ...         3.0            4.0          4.0          o   \n",
              "2             4.0  ...         5.0            4.0          5.0          v   \n",
              "3             2.0  ...         3.0            2.0          3.0          o   \n",
              "4             4.0  ...         3.0            3.0          3.0          v   \n",
              "\n",
              "  ceo_approv outlook                                           headline  \\\n",
              "0          r       x                                        Don't do it   \n",
              "1          o       o                        international auction house   \n",
              "2          v       v                Fast-paced, difficult and rewarding   \n",
              "3          o       o                                             Review   \n",
              "4          r       v  Fun job and nice people but huge workload and ...   \n",
              "\n",
              "                                                pros  \\\n",
              "0  People in leadership roles have been there for...   \n",
              "1  great exposure, respectful environment and bea...   \n",
              "2                    Good team, support and training   \n",
              "3    Exposure to artworks, great team of specialists   \n",
              "4  Fantastic art, nice enthusiastic people and a ...   \n",
              "\n",
              "                                                cons use  \n",
              "0  Pressure to do whatever the leaders want\\r\\nNo... NaN  \n",
              "1         OT during peak seasons and often underpaid NaN  \n",
              "2       High-stress with relatively low conpensation NaN  \n",
              "3                 Work life balance, company culture NaN  \n",
              "4                     Very low pay and huge workload NaN  \n",
              "\n",
              "[5 rows x 21 columns]"
            ],
            "text/html": [
              "\n",
              "  <div id=\"df-4996d876-9081-4624-87c2-32fbe9d56275\">\n",
              "    <div class=\"colab-df-container\">\n",
              "      <div>\n",
              "<style scoped>\n",
              "    .dataframe tbody tr th:only-of-type {\n",
              "        vertical-align: middle;\n",
              "    }\n",
              "\n",
              "    .dataframe tbody tr th {\n",
              "        vertical-align: top;\n",
              "    }\n",
              "\n",
              "    .dataframe thead th {\n",
              "        text-align: right;\n",
              "    }\n",
              "</style>\n",
              "<table border=\"1\" class=\"dataframe\">\n",
              "  <thead>\n",
              "    <tr style=\"text-align: right;\">\n",
              "      <th></th>\n",
              "      <th>Unnamed: 0</th>\n",
              "      <th>column_label</th>\n",
              "      <th>firm</th>\n",
              "      <th>date_review</th>\n",
              "      <th>job_title</th>\n",
              "      <th>current</th>\n",
              "      <th>location</th>\n",
              "      <th>overall_rating</th>\n",
              "      <th>work_life_balance</th>\n",
              "      <th>culture_values</th>\n",
              "      <th>...</th>\n",
              "      <th>career_opp</th>\n",
              "      <th>comp_benefits</th>\n",
              "      <th>senior_mgmt</th>\n",
              "      <th>recommend</th>\n",
              "      <th>ceo_approv</th>\n",
              "      <th>outlook</th>\n",
              "      <th>headline</th>\n",
              "      <th>pros</th>\n",
              "      <th>cons</th>\n",
              "      <th>use</th>\n",
              "    </tr>\n",
              "  </thead>\n",
              "  <tbody>\n",
              "    <tr>\n",
              "      <th>0</th>\n",
              "      <td>1</td>\n",
              "      <td>1</td>\n",
              "      <td>Sotheby-s</td>\n",
              "      <td>2021-05-25</td>\n",
              "      <td>Financial Analyst</td>\n",
              "      <td>Former Employee, more than 1 year</td>\n",
              "      <td>New York, NY</td>\n",
              "      <td>1</td>\n",
              "      <td>1.0</td>\n",
              "      <td>1.0</td>\n",
              "      <td>...</td>\n",
              "      <td>1.0</td>\n",
              "      <td>2.0</td>\n",
              "      <td>1.0</td>\n",
              "      <td>x</td>\n",
              "      <td>r</td>\n",
              "      <td>x</td>\n",
              "      <td>Don't do it</td>\n",
              "      <td>People in leadership roles have been there for...</td>\n",
              "      <td>Pressure to do whatever the leaders want\\r\\nNo...</td>\n",
              "      <td>NaN</td>\n",
              "    </tr>\n",
              "    <tr>\n",
              "      <th>1</th>\n",
              "      <td>2</td>\n",
              "      <td>1</td>\n",
              "      <td>Sotheby-s</td>\n",
              "      <td>2021-05-25</td>\n",
              "      <td>Administrator</td>\n",
              "      <td>Former Employee</td>\n",
              "      <td>Hong Kong</td>\n",
              "      <td>4</td>\n",
              "      <td>4.0</td>\n",
              "      <td>5.0</td>\n",
              "      <td>...</td>\n",
              "      <td>3.0</td>\n",
              "      <td>4.0</td>\n",
              "      <td>4.0</td>\n",
              "      <td>o</td>\n",
              "      <td>o</td>\n",
              "      <td>o</td>\n",
              "      <td>international auction house</td>\n",
              "      <td>great exposure, respectful environment and bea...</td>\n",
              "      <td>OT during peak seasons and often underpaid</td>\n",
              "      <td>NaN</td>\n",
              "    </tr>\n",
              "    <tr>\n",
              "      <th>2</th>\n",
              "      <td>3</td>\n",
              "      <td>1</td>\n",
              "      <td>Sotheby-s</td>\n",
              "      <td>2021-05-24</td>\n",
              "      <td>Client Services Representative</td>\n",
              "      <td>Former Employee, more than 1 year</td>\n",
              "      <td>London, England, England</td>\n",
              "      <td>4</td>\n",
              "      <td>5.0</td>\n",
              "      <td>4.0</td>\n",
              "      <td>...</td>\n",
              "      <td>5.0</td>\n",
              "      <td>4.0</td>\n",
              "      <td>5.0</td>\n",
              "      <td>v</td>\n",
              "      <td>v</td>\n",
              "      <td>v</td>\n",
              "      <td>Fast-paced, difficult and rewarding</td>\n",
              "      <td>Good team, support and training</td>\n",
              "      <td>High-stress with relatively low conpensation</td>\n",
              "      <td>NaN</td>\n",
              "    </tr>\n",
              "    <tr>\n",
              "      <th>3</th>\n",
              "      <td>4</td>\n",
              "      <td>1</td>\n",
              "      <td>Sotheby-s</td>\n",
              "      <td>2021-05-22</td>\n",
              "      <td>Anonymous Employee</td>\n",
              "      <td>Current Employee</td>\n",
              "      <td>Hong Kong</td>\n",
              "      <td>3</td>\n",
              "      <td>2.0</td>\n",
              "      <td>2.0</td>\n",
              "      <td>...</td>\n",
              "      <td>3.0</td>\n",
              "      <td>2.0</td>\n",
              "      <td>3.0</td>\n",
              "      <td>o</td>\n",
              "      <td>o</td>\n",
              "      <td>o</td>\n",
              "      <td>Review</td>\n",
              "      <td>Exposure to artworks, great team of specialists</td>\n",
              "      <td>Work life balance, company culture</td>\n",
              "      <td>NaN</td>\n",
              "    </tr>\n",
              "    <tr>\n",
              "      <th>4</th>\n",
              "      <td>5</td>\n",
              "      <td>1</td>\n",
              "      <td>Sotheby-s</td>\n",
              "      <td>2021-05-15</td>\n",
              "      <td>Administrator</td>\n",
              "      <td>Current Employee, less than 1 year</td>\n",
              "      <td>London, England, England</td>\n",
              "      <td>4</td>\n",
              "      <td>4.0</td>\n",
              "      <td>4.0</td>\n",
              "      <td>...</td>\n",
              "      <td>3.0</td>\n",
              "      <td>3.0</td>\n",
              "      <td>3.0</td>\n",
              "      <td>v</td>\n",
              "      <td>r</td>\n",
              "      <td>v</td>\n",
              "      <td>Fun job and nice people but huge workload and ...</td>\n",
              "      <td>Fantastic art, nice enthusiastic people and a ...</td>\n",
              "      <td>Very low pay and huge workload</td>\n",
              "      <td>NaN</td>\n",
              "    </tr>\n",
              "  </tbody>\n",
              "</table>\n",
              "<p>5 rows × 21 columns</p>\n",
              "</div>\n",
              "      <button class=\"colab-df-convert\" onclick=\"convertToInteractive('df-4996d876-9081-4624-87c2-32fbe9d56275')\"\n",
              "              title=\"Convert this dataframe to an interactive table.\"\n",
              "              style=\"display:none;\">\n",
              "        \n",
              "  <svg xmlns=\"http://www.w3.org/2000/svg\" height=\"24px\"viewBox=\"0 0 24 24\"\n",
              "       width=\"24px\">\n",
              "    <path d=\"M0 0h24v24H0V0z\" fill=\"none\"/>\n",
              "    <path d=\"M18.56 5.44l.94 2.06.94-2.06 2.06-.94-2.06-.94-.94-2.06-.94 2.06-2.06.94zm-11 1L8.5 8.5l.94-2.06 2.06-.94-2.06-.94L8.5 2.5l-.94 2.06-2.06.94zm10 10l.94 2.06.94-2.06 2.06-.94-2.06-.94-.94-2.06-.94 2.06-2.06.94z\"/><path d=\"M17.41 7.96l-1.37-1.37c-.4-.4-.92-.59-1.43-.59-.52 0-1.04.2-1.43.59L10.3 9.45l-7.72 7.72c-.78.78-.78 2.05 0 2.83L4 21.41c.39.39.9.59 1.41.59.51 0 1.02-.2 1.41-.59l7.78-7.78 2.81-2.81c.8-.78.8-2.07 0-2.86zM5.41 20L4 18.59l7.72-7.72 1.47 1.35L5.41 20z\"/>\n",
              "  </svg>\n",
              "      </button>\n",
              "      \n",
              "  <style>\n",
              "    .colab-df-container {\n",
              "      display:flex;\n",
              "      flex-wrap:wrap;\n",
              "      gap: 12px;\n",
              "    }\n",
              "\n",
              "    .colab-df-convert {\n",
              "      background-color: #E8F0FE;\n",
              "      border: none;\n",
              "      border-radius: 50%;\n",
              "      cursor: pointer;\n",
              "      display: none;\n",
              "      fill: #1967D2;\n",
              "      height: 32px;\n",
              "      padding: 0 0 0 0;\n",
              "      width: 32px;\n",
              "    }\n",
              "\n",
              "    .colab-df-convert:hover {\n",
              "      background-color: #E2EBFA;\n",
              "      box-shadow: 0px 1px 2px rgba(60, 64, 67, 0.3), 0px 1px 3px 1px rgba(60, 64, 67, 0.15);\n",
              "      fill: #174EA6;\n",
              "    }\n",
              "\n",
              "    [theme=dark] .colab-df-convert {\n",
              "      background-color: #3B4455;\n",
              "      fill: #D2E3FC;\n",
              "    }\n",
              "\n",
              "    [theme=dark] .colab-df-convert:hover {\n",
              "      background-color: #434B5C;\n",
              "      box-shadow: 0px 1px 3px 1px rgba(0, 0, 0, 0.15);\n",
              "      filter: drop-shadow(0px 1px 2px rgba(0, 0, 0, 0.3));\n",
              "      fill: #FFFFFF;\n",
              "    }\n",
              "  </style>\n",
              "\n",
              "      <script>\n",
              "        const buttonEl =\n",
              "          document.querySelector('#df-4996d876-9081-4624-87c2-32fbe9d56275 button.colab-df-convert');\n",
              "        buttonEl.style.display =\n",
              "          google.colab.kernel.accessAllowed ? 'block' : 'none';\n",
              "\n",
              "        async function convertToInteractive(key) {\n",
              "          const element = document.querySelector('#df-4996d876-9081-4624-87c2-32fbe9d56275');\n",
              "          const dataTable =\n",
              "            await google.colab.kernel.invokeFunction('convertToInteractive',\n",
              "                                                     [key], {});\n",
              "          if (!dataTable) return;\n",
              "\n",
              "          const docLinkHtml = 'Like what you see? Visit the ' +\n",
              "            '<a target=\"_blank\" href=https://colab.research.google.com/notebooks/data_table.ipynb>data table notebook</a>'\n",
              "            + ' to learn more about interactive tables.';\n",
              "          element.innerHTML = '';\n",
              "          dataTable['output_type'] = 'display_data';\n",
              "          await google.colab.output.renderOutput(dataTable, element);\n",
              "          const docLink = document.createElement('div');\n",
              "          docLink.innerHTML = docLinkHtml;\n",
              "          element.appendChild(docLink);\n",
              "        }\n",
              "      </script>\n",
              "    </div>\n",
              "  </div>\n",
              "  "
            ]
          },
          "metadata": {},
          "execution_count": 3
        }
      ],
      "source": [
        "project_df = pd.read_csv('glassdoor_reviews.csv')\n",
        "project_df.head()"
      ]
    },
    {
      "cell_type": "code",
      "execution_count": null,
      "metadata": {
        "colab": {
          "base_uri": "https://localhost:8080/"
        },
        "id": "lYMi5_fbL-HQ",
        "outputId": "6921229b-340a-41a3-ddeb-25fba112fb77"
      },
      "outputs": [
        {
          "output_type": "stream",
          "name": "stdout",
          "text": [
            "<class 'pandas.core.frame.DataFrame'>\n",
            "RangeIndex: 838566 entries, 0 to 838565\n",
            "Data columns (total 21 columns):\n",
            " #   Column               Non-Null Count   Dtype  \n",
            "---  ------               --------------   -----  \n",
            " 0   Unnamed: 0           838566 non-null  int64  \n",
            " 1   column_label         838566 non-null  int64  \n",
            " 2   firm                 838566 non-null  object \n",
            " 3   date_review          838566 non-null  object \n",
            " 4   job_title            838566 non-null  object \n",
            " 5   current              838566 non-null  object \n",
            " 6   location             541228 non-null  object \n",
            " 7   overall_rating       838566 non-null  int64  \n",
            " 8   work_life_balance    688672 non-null  float64\n",
            " 9   culture_values       647193 non-null  float64\n",
            " 10  diversity_inclusion  136066 non-null  float64\n",
            " 11  career_opp           691065 non-null  float64\n",
            " 12  comp_benefits        688484 non-null  float64\n",
            " 13  senior_mgmt          682690 non-null  float64\n",
            " 14  recommend            838566 non-null  object \n",
            " 15  ceo_approv           838566 non-null  object \n",
            " 16  outlook              838566 non-null  object \n",
            " 17  headline             836347 non-null  object \n",
            " 18  pros                 838566 non-null  object \n",
            " 19  cons                 838558 non-null  object \n",
            " 20  use                  0 non-null       float64\n",
            "dtypes: float64(7), int64(3), object(11)\n",
            "memory usage: 134.4+ MB\n"
          ]
        }
      ],
      "source": [
        "project_df.info()"
      ]
    },
    {
      "cell_type": "code",
      "execution_count": null,
      "metadata": {
        "colab": {
          "base_uri": "https://localhost:8080/"
        },
        "id": "sgXRBPB9MU7W",
        "outputId": "26fbd4e3-c705-46c2-ded3-e09d9c7129e7"
      },
      "outputs": [
        {
          "output_type": "stream",
          "name": "stdout",
          "text": [
            "List of dropped columns: Unnamed: 0, column_label, diversity_inclusion, use, \n",
            "\n"
          ]
        }
      ],
      "source": [
        "#Drops columns with a lot of missing data for distribution analysis \n",
        "project_df2 = project_df[[column for column in project_df if project_df[column].count() / len(project_df) >= 0.3]]\n",
        "del project_df2[\"Unnamed: 0\"]\n",
        "del project_df2[\"column_label\"]\n",
        "print(\"List of dropped columns:\", end=\" \")\n",
        "for c in project_df.columns:\n",
        "    if c not in project_df2.columns:\n",
        "        print(c, end=\", \")\n",
        "print('\\n')\n",
        "project_df = project_df2"
      ]
    },
    {
      "cell_type": "code",
      "execution_count": null,
      "metadata": {
        "colab": {
          "base_uri": "https://localhost:8080/",
          "height": 658
        },
        "id": "cEf3Ytg5OCYF",
        "outputId": "c3804fc3-288d-48e1-c57e-a5967e3d3e2a"
      },
      "outputs": [
        {
          "output_type": "stream",
          "name": "stdout",
          "text": [
            "count    838566.000000\n",
            "mean          3.655956\n",
            "std           1.174684\n",
            "min           1.000000\n",
            "25%           3.000000\n",
            "50%           4.000000\n",
            "75%           5.000000\n",
            "max           5.000000\n",
            "Name: overall_rating, dtype: float64\n"
          ]
        },
        {
          "output_type": "display_data",
          "data": {
            "text/plain": [
              "<Figure size 648x576 with 1 Axes>"
            ],
            "image/png": "[encoded data removed]"
          },
          "metadata": {
            "needs_background": "light"
          }
        }
      ],
      "source": [
        "#Plots the distribution of the proposed label: overall rating \n",
        "print(project_df['overall_rating'].describe())\n",
        "plt.figure(figsize=(9, 8))\n",
        "\n",
        "sns.histplot(project_df['overall_rating'], color='g', bins=5);"
      ]
    },
    {
      "cell_type": "code",
      "execution_count": null,
      "metadata": {
        "colab": {
          "base_uri": "https://localhost:8080/",
          "height": 206
        },
        "id": "jKc4muymRBna",
        "outputId": "1cdc30e5-05ee-490a-975e-fc5f28cb2b8e"
      },
      "outputs": [
        {
          "output_type": "execute_result",
          "data": {
            "text/plain": [
              "   overall_rating  work_life_balance  culture_values  career_opp  \\\n",
              "0               1                1.0             1.0         1.0   \n",
              "1               4                4.0             5.0         3.0   \n",
              "2               4                5.0             4.0         5.0   \n",
              "3               3                2.0             2.0         3.0   \n",
              "4               4                4.0             4.0         3.0   \n",
              "\n",
              "   comp_benefits  senior_mgmt  \n",
              "0            2.0          1.0  \n",
              "1            4.0          4.0  \n",
              "2            4.0          5.0  \n",
              "3            2.0          3.0  \n",
              "4            3.0          3.0  "
            ],
            "text/html": [
              "\n",
              "  <div id=\"df-865b1906-b24e-459c-b982-924de2cc8937\">\n",
              "    <div class=\"colab-df-container\">\n",
              "      <div>\n",
              "<style scoped>\n",
              "    .dataframe tbody tr th:only-of-type {\n",
              "        vertical-align: middle;\n",
              "    }\n",
              "\n",
              "    .dataframe tbody tr th {\n",
              "        vertical-align: top;\n",
              "    }\n",
              "\n",
              "    .dataframe thead th {\n",
              "        text-align: right;\n",
              "    }\n",
              "</style>\n",
              "<table border=\"1\" class=\"dataframe\">\n",
              "  <thead>\n",
              "    <tr style=\"text-align: right;\">\n",
              "      <th></th>\n",
              "      <th>overall_rating</th>\n",
              "      <th>work_life_balance</th>\n",
              "      <th>culture_values</th>\n",
              "      <th>career_opp</th>\n",
              "      <th>comp_benefits</th>\n",
              "      <th>senior_mgmt</th>\n",
              "    </tr>\n",
              "  </thead>\n",
              "  <tbody>\n",
              "    <tr>\n",
              "      <th>0</th>\n",
              "      <td>1</td>\n",
              "      <td>1.0</td>\n",
              "      <td>1.0</td>\n",
              "      <td>1.0</td>\n",
              "      <td>2.0</td>\n",
              "      <td>1.0</td>\n",
              "    </tr>\n",
              "    <tr>\n",
              "      <th>1</th>\n",
              "      <td>4</td>\n",
              "      <td>4.0</td>\n",
              "      <td>5.0</td>\n",
              "      <td>3.0</td>\n",
              "      <td>4.0</td>\n",
              "      <td>4.0</td>\n",
              "    </tr>\n",
              "    <tr>\n",
              "      <th>2</th>\n",
              "      <td>4</td>\n",
              "      <td>5.0</td>\n",
              "      <td>4.0</td>\n",
              "      <td>5.0</td>\n",
              "      <td>4.0</td>\n",
              "      <td>5.0</td>\n",
              "    </tr>\n",
              "    <tr>\n",
              "      <th>3</th>\n",
              "      <td>3</td>\n",
              "      <td>2.0</td>\n",
              "      <td>2.0</td>\n",
              "      <td>3.0</td>\n",
              "      <td>2.0</td>\n",
              "      <td>3.0</td>\n",
              "    </tr>\n",
              "    <tr>\n",
              "      <th>4</th>\n",
              "      <td>4</td>\n",
              "      <td>4.0</td>\n",
              "      <td>4.0</td>\n",
              "      <td>3.0</td>\n",
              "      <td>3.0</td>\n",
              "      <td>3.0</td>\n",
              "    </tr>\n",
              "  </tbody>\n",
              "</table>\n",
              "</div>\n",
              "      <button class=\"colab-df-convert\" onclick=\"convertToInteractive('df-865b1906-b24e-459c-b982-924de2cc8937')\"\n",
              "              title=\"Convert this dataframe to an interactive table.\"\n",
              "              style=\"display:none;\">\n",
              "        \n",
              "  <svg xmlns=\"http://www.w3.org/2000/svg\" height=\"24px\"viewBox=\"0 0 24 24\"\n",
              "       width=\"24px\">\n",
              "    <path d=\"M0 0h24v24H0V0z\" fill=\"none\"/>\n",
              "    <path d=\"M18.56 5.44l.94 2.06.94-2.06 2.06-.94-2.06-.94-.94-2.06-.94 2.06-2.06.94zm-11 1L8.5 8.5l.94-2.06 2.06-.94-2.06-.94L8.5 2.5l-.94 2.06-2.06.94zm10 10l.94 2.06.94-2.06 2.06-.94-2.06-.94-.94-2.06-.94 2.06-2.06.94z\"/><path d=\"M17.41 7.96l-1.37-1.37c-.4-.4-.92-.59-1.43-.59-.52 0-1.04.2-1.43.59L10.3 9.45l-7.72 7.72c-.78.78-.78 2.05 0 2.83L4 21.41c.39.39.9.59 1.41.59.51 0 1.02-.2 1.41-.59l7.78-7.78 2.81-2.81c.8-.78.8-2.07 0-2.86zM5.41 20L4 18.59l7.72-7.72 1.47 1.35L5.41 20z\"/>\n",
              "  </svg>\n",
              "      </button>\n",
              "      \n",
              "  <style>\n",
              "    .colab-df-container {\n",
              "      display:flex;\n",
              "      flex-wrap:wrap;\n",
              "      gap: 12px;\n",
              "    }\n",
              "\n",
              "    .colab-df-convert {\n",
              "      background-color: #E8F0FE;\n",
              "      border: none;\n",
              "      border-radius: 50%;\n",
              "      cursor: pointer;\n",
              "      display: none;\n",
              "      fill: #1967D2;\n",
              "      height: 32px;\n",
              "      padding: 0 0 0 0;\n",
              "      width: 32px;\n",
              "    }\n",
              "\n",
              "    .colab-df-convert:hover {\n",
              "      background-color: #E2EBFA;\n",
              "      box-shadow: 0px 1px 2px rgba(60, 64, 67, 0.3), 0px 1px 3px 1px rgba(60, 64, 67, 0.15);\n",
              "      fill: #174EA6;\n",
              "    }\n",
              "\n",
              "    [theme=dark] .colab-df-convert {\n",
              "      background-color: #3B4455;\n",
              "      fill: #D2E3FC;\n",
              "    }\n",
              "\n",
              "    [theme=dark] .colab-df-convert:hover {\n",
              "      background-color: #434B5C;\n",
              "      box-shadow: 0px 1px 3px 1px rgba(0, 0, 0, 0.15);\n",
              "      filter: drop-shadow(0px 1px 2px rgba(0, 0, 0, 0.3));\n",
              "      fill: #FFFFFF;\n",
              "    }\n",
              "  </style>\n",
              "\n",
              "      <script>\n",
              "        const buttonEl =\n",
              "          document.querySelector('#df-865b1906-b24e-459c-b982-924de2cc8937 button.colab-df-convert');\n",
              "        buttonEl.style.display =\n",
              "          google.colab.kernel.accessAllowed ? 'block' : 'none';\n",
              "\n",
              "        async function convertToInteractive(key) {\n",
              "          const element = document.querySelector('#df-865b1906-b24e-459c-b982-924de2cc8937');\n",
              "          const dataTable =\n",
              "            await google.colab.kernel.invokeFunction('convertToInteractive',\n",
              "                                                     [key], {});\n",
              "          if (!dataTable) return;\n",
              "\n",
              "          const docLinkHtml = 'Like what you see? Visit the ' +\n",
              "            '<a target=\"_blank\" href=https://colab.research.google.com/notebooks/data_table.ipynb>data table notebook</a>'\n",
              "            + ' to learn more about interactive tables.';\n",
              "          element.innerHTML = '';\n",
              "          dataTable['output_type'] = 'display_data';\n",
              "          await google.colab.output.renderOutput(dataTable, element);\n",
              "          const docLink = document.createElement('div');\n",
              "          docLink.innerHTML = docLinkHtml;\n",
              "          element.appendChild(docLink);\n",
              "        }\n",
              "      </script>\n",
              "    </div>\n",
              "  </div>\n",
              "  "
            ]
          },
          "metadata": {},
          "execution_count": 8
        }
      ],
      "source": [
        "#Identifies the continuous variables (numerical)\n",
        "project_df_num = project_df.select_dtypes(include = 'number')\n",
        "project_df_num.head()"
      ]
    },
    {
      "cell_type": "code",
      "execution_count": null,
      "metadata": {
        "colab": {
          "base_uri": "https://localhost:8080/",
          "height": 1000
        },
        "id": "v6Ry0AU5R5Xy",
        "outputId": "de2caa54-d7c0-47e2-845b-93ced75bedbf"
      },
      "outputs": [
        {
          "output_type": "execute_result",
          "data": {
            "text/plain": [
              "array([[<matplotlib.axes._subplots.AxesSubplot object at 0x7f3aba44b6d0>,\n",
              "        <matplotlib.axes._subplots.AxesSubplot object at 0x7f3aba47dc50>],\n",
              "       [<matplotlib.axes._subplots.AxesSubplot object at 0x7f3aba442290>,\n",
              "        <matplotlib.axes._subplots.AxesSubplot object at 0x7f3aba3f7890>],\n",
              "       [<matplotlib.axes._subplots.AxesSubplot object at 0x7f3aba3ade90>,\n",
              "        <matplotlib.axes._subplots.AxesSubplot object at 0x7f3aba3724d0>]],\n",
              "      dtype=object)"
            ]
          },
          "metadata": {},
          "execution_count": 9
        },
        {
          "output_type": "display_data",
          "data": {
            "text/plain": [
              "<Figure size 1152x1440 with 6 Axes>"
            ],
            "image/png": "[encoded data removed]"
          },
          "metadata": {
            "needs_background": "light"
          }
        }
      ],
      "source": [
        "#Plots distributions of each of the numerical vaiables \n",
        "project_df_num.hist(figsize=(16, 20), bins=5, xlabelsize=8, ylabelsize=8)"
      ]
    },
    {
      "cell_type": "code",
      "execution_count": null,
      "metadata": {
        "colab": {
          "base_uri": "https://localhost:8080/"
        },
        "id": "7jI1yw7iSP2E",
        "outputId": "8fdc819b-0d1a-449e-94e8-3713c5b80208"
      },
      "outputs": [
        {
          "output_type": "stream",
          "name": "stdout",
          "text": [
            "There is 11 non numerical features including:\n",
            "['firm', 'date_review', 'job_title', 'current', 'location', 'recommend', 'ceo_approv', 'outlook', 'headline', 'pros', 'cons']\n"
          ]
        }
      ],
      "source": [
        "#Identifies the non-numerical features \n",
        "project_df_not_num = project_df.select_dtypes(include = ['O'])\n",
        "print('There is {} non numerical features including:\\n{}'.format(len(project_df_not_num.columns), project_df_not_num.columns.tolist()))"
      ]
    },
    {
      "cell_type": "code",
      "execution_count": null,
      "metadata": {
        "id": "I4haHPhTwxuF"
      },
      "outputs": [],
      "source": [
        "#Data Visualization - Correlation"
      ]
    },
    {
      "cell_type": "code",
      "execution_count": null,
      "metadata": {
        "colab": {
          "base_uri": "https://localhost:8080/",
          "height": 600
        },
        "id": "U5S9wNxqY5A3",
        "outputId": "5150be4f-eef9-4ae6-d683-03f552818705"
      },
      "outputs": [
        {
          "output_type": "execute_result",
          "data": {
            "text/plain": [
              "        firm date_review                        job_title  \\\n",
              "0  Sotheby-s  2021-05-25                Financial Analyst   \n",
              "1  Sotheby-s  2021-05-25                    Administrator   \n",
              "2  Sotheby-s  2021-05-24   Client Services Representative   \n",
              "3  Sotheby-s  2021-05-22               Anonymous Employee   \n",
              "4  Sotheby-s  2021-05-15                    Administrator   \n",
              "\n",
              "                              current                  location  \\\n",
              "0   Former Employee, more than 1 year              New York, NY   \n",
              "1                     Former Employee                 Hong Kong   \n",
              "2   Former Employee, more than 1 year  London, England, England   \n",
              "3                    Current Employee                 Hong Kong   \n",
              "4  Current Employee, less than 1 year  London, England, England   \n",
              "\n",
              "   work_life_balance  culture_values  career_opp  comp_benefits  senior_mgmt  \\\n",
              "0                1.0             1.0         1.0            2.0          1.0   \n",
              "1                4.0             5.0         3.0            4.0          4.0   \n",
              "2                5.0             4.0         5.0            4.0          5.0   \n",
              "3                2.0             2.0         3.0            2.0          3.0   \n",
              "4                4.0             4.0         3.0            3.0          3.0   \n",
              "\n",
              "  recommend ceo_approv outlook  \\\n",
              "0         x          r       x   \n",
              "1         o          o       o   \n",
              "2         v          v       v   \n",
              "3         o          o       o   \n",
              "4         v          r       v   \n",
              "\n",
              "                                            headline  \\\n",
              "0                                        Don't do it   \n",
              "1                        international auction house   \n",
              "2                Fast-paced, difficult and rewarding   \n",
              "3                                             Review   \n",
              "4  Fun job and nice people but huge workload and ...   \n",
              "\n",
              "                                                pros  \\\n",
              "0  People in leadership roles have been there for...   \n",
              "1  great exposure, respectful environment and bea...   \n",
              "2                    Good team, support and training   \n",
              "3    Exposure to artworks, great team of specialists   \n",
              "4  Fantastic art, nice enthusiastic people and a ...   \n",
              "\n",
              "                                                cons  overall_rating  \n",
              "0  Pressure to do whatever the leaders want\\r\\nNo...               1  \n",
              "1         OT during peak seasons and often underpaid               4  \n",
              "2       High-stress with relatively low conpensation               4  \n",
              "3                 Work life balance, company culture               3  \n",
              "4                     Very low pay and huge workload               4  "
            ],
            "text/html": [
              "\n",
              "  <div id=\"df-d17c6148-208b-4321-8528-b7b8aa30ba90\">\n",
              "    <div class=\"colab-df-container\">\n",
              "      <div>\n",
              "<style scoped>\n",
              "    .dataframe tbody tr th:only-of-type {\n",
              "        vertical-align: middle;\n",
              "    }\n",
              "\n",
              "    .dataframe tbody tr th {\n",
              "        vertical-align: top;\n",
              "    }\n",
              "\n",
              "    .dataframe thead th {\n",
              "        text-align: right;\n",
              "    }\n",
              "</style>\n",
              "<table border=\"1\" class=\"dataframe\">\n",
              "  <thead>\n",
              "    <tr style=\"text-align: right;\">\n",
              "      <th></th>\n",
              "      <th>firm</th>\n",
              "      <th>date_review</th>\n",
              "      <th>job_title</th>\n",
              "      <th>current</th>\n",
              "      <th>location</th>\n",
              "      <th>work_life_balance</th>\n",
              "      <th>culture_values</th>\n",
              "      <th>career_opp</th>\n",
              "      <th>comp_benefits</th>\n",
              "      <th>senior_mgmt</th>\n",
              "      <th>recommend</th>\n",
              "      <th>ceo_approv</th>\n",
              "      <th>outlook</th>\n",
              "      <th>headline</th>\n",
              "      <th>pros</th>\n",
              "      <th>cons</th>\n",
              "      <th>overall_rating</th>\n",
              "    </tr>\n",
              "  </thead>\n",
              "  <tbody>\n",
              "    <tr>\n",
              "      <th>0</th>\n",
              "      <td>Sotheby-s</td>\n",
              "      <td>2021-05-25</td>\n",
              "      <td>Financial Analyst</td>\n",
              "      <td>Former Employee, more than 1 year</td>\n",
              "      <td>New York, NY</td>\n",
              "      <td>1.0</td>\n",
              "      <td>1.0</td>\n",
              "      <td>1.0</td>\n",
              "      <td>2.0</td>\n",
              "      <td>1.0</td>\n",
              "      <td>x</td>\n",
              "      <td>r</td>\n",
              "      <td>x</td>\n",
              "      <td>Don't do it</td>\n",
              "      <td>People in leadership roles have been there for...</td>\n",
              "      <td>Pressure to do whatever the leaders want\\r\\nNo...</td>\n",
              "      <td>1</td>\n",
              "    </tr>\n",
              "    <tr>\n",
              "      <th>1</th>\n",
              "      <td>Sotheby-s</td>\n",
              "      <td>2021-05-25</td>\n",
              "      <td>Administrator</td>\n",
              "      <td>Former Employee</td>\n",
              "      <td>Hong Kong</td>\n",
              "      <td>4.0</td>\n",
              "      <td>5.0</td>\n",
              "      <td>3.0</td>\n",
              "      <td>4.0</td>\n",
              "      <td>4.0</td>\n",
              "      <td>o</td>\n",
              "      <td>o</td>\n",
              "      <td>o</td>\n",
              "      <td>international auction house</td>\n",
              "      <td>great exposure, respectful environment and bea...</td>\n",
              "      <td>OT during peak seasons and often underpaid</td>\n",
              "      <td>4</td>\n",
              "    </tr>\n",
              "    <tr>\n",
              "      <th>2</th>\n",
              "      <td>Sotheby-s</td>\n",
              "      <td>2021-05-24</td>\n",
              "      <td>Client Services Representative</td>\n",
              "      <td>Former Employee, more than 1 year</td>\n",
              "      <td>London, England, England</td>\n",
              "      <td>5.0</td>\n",
              "      <td>4.0</td>\n",
              "      <td>5.0</td>\n",
              "      <td>4.0</td>\n",
              "      <td>5.0</td>\n",
              "      <td>v</td>\n",
              "      <td>v</td>\n",
              "      <td>v</td>\n",
              "      <td>Fast-paced, difficult and rewarding</td>\n",
              "      <td>Good team, support and training</td>\n",
              "      <td>High-stress with relatively low conpensation</td>\n",
              "      <td>4</td>\n",
              "    </tr>\n",
              "    <tr>\n",
              "      <th>3</th>\n",
              "      <td>Sotheby-s</td>\n",
              "      <td>2021-05-22</td>\n",
              "      <td>Anonymous Employee</td>\n",
              "      <td>Current Employee</td>\n",
              "      <td>Hong Kong</td>\n",
              "      <td>2.0</td>\n",
              "      <td>2.0</td>\n",
              "      <td>3.0</td>\n",
              "      <td>2.0</td>\n",
              "      <td>3.0</td>\n",
              "      <td>o</td>\n",
              "      <td>o</td>\n",
              "      <td>o</td>\n",
              "      <td>Review</td>\n",
              "      <td>Exposure to artworks, great team of specialists</td>\n",
              "      <td>Work life balance, company culture</td>\n",
              "      <td>3</td>\n",
              "    </tr>\n",
              "    <tr>\n",
              "      <th>4</th>\n",
              "      <td>Sotheby-s</td>\n",
              "      <td>2021-05-15</td>\n",
              "      <td>Administrator</td>\n",
              "      <td>Current Employee, less than 1 year</td>\n",
              "      <td>London, England, England</td>\n",
              "      <td>4.0</td>\n",
              "      <td>4.0</td>\n",
              "      <td>3.0</td>\n",
              "      <td>3.0</td>\n",
              "      <td>3.0</td>\n",
              "      <td>v</td>\n",
              "      <td>r</td>\n",
              "      <td>v</td>\n",
              "      <td>Fun job and nice people but huge workload and ...</td>\n",
              "      <td>Fantastic art, nice enthusiastic people and a ...</td>\n",
              "      <td>Very low pay and huge workload</td>\n",
              "      <td>4</td>\n",
              "    </tr>\n",
              "  </tbody>\n",
              "</table>\n",
              "</div>\n",
              "      <button class=\"colab-df-convert\" onclick=\"convertToInteractive('df-d17c6148-208b-4321-8528-b7b8aa30ba90')\"\n",
              "              title=\"Convert this dataframe to an interactive table.\"\n",
              "              style=\"display:none;\">\n",
              "        \n",
              "  <svg xmlns=\"http://www.w3.org/2000/svg\" height=\"24px\"viewBox=\"0 0 24 24\"\n",
              "       width=\"24px\">\n",
              "    <path d=\"M0 0h24v24H0V0z\" fill=\"none\"/>\n",
              "    <path d=\"M18.56 5.44l.94 2.06.94-2.06 2.06-.94-2.06-.94-.94-2.06-.94 2.06-2.06.94zm-11 1L8.5 8.5l.94-2.06 2.06-.94-2.06-.94L8.5 2.5l-.94 2.06-2.06.94zm10 10l.94 2.06.94-2.06 2.06-.94-2.06-.94-.94-2.06-.94 2.06-2.06.94z\"/><path d=\"M17.41 7.96l-1.37-1.37c-.4-.4-.92-.59-1.43-.59-.52 0-1.04.2-1.43.59L10.3 9.45l-7.72 7.72c-.78.78-.78 2.05 0 2.83L4 21.41c.39.39.9.59 1.41.59.51 0 1.02-.2 1.41-.59l7.78-7.78 2.81-2.81c.8-.78.8-2.07 0-2.86zM5.41 20L4 18.59l7.72-7.72 1.47 1.35L5.41 20z\"/>\n",
              "  </svg>\n",
              "      </button>\n",
              "      \n",
              "  <style>\n",
              "    .colab-df-container {\n",
              "      display:flex;\n",
              "      flex-wrap:wrap;\n",
              "      gap: 12px;\n",
              "    }\n",
              "\n",
              "    .colab-df-convert {\n",
              "      background-color: #E8F0FE;\n",
              "      border: none;\n",
              "      border-radius: 50%;\n",
              "      cursor: pointer;\n",
              "      display: none;\n",
              "      fill: #1967D2;\n",
              "      height: 32px;\n",
              "      padding: 0 0 0 0;\n",
              "      width: 32px;\n",
              "    }\n",
              "\n",
              "    .colab-df-convert:hover {\n",
              "      background-color: #E2EBFA;\n",
              "      box-shadow: 0px 1px 2px rgba(60, 64, 67, 0.3), 0px 1px 3px 1px rgba(60, 64, 67, 0.15);\n",
              "      fill: #174EA6;\n",
              "    }\n",
              "\n",
              "    [theme=dark] .colab-df-convert {\n",
              "      background-color: #3B4455;\n",
              "      fill: #D2E3FC;\n",
              "    }\n",
              "\n",
              "    [theme=dark] .colab-df-convert:hover {\n",
              "      background-color: #434B5C;\n",
              "      box-shadow: 0px 1px 3px 1px rgba(0, 0, 0, 0.15);\n",
              "      filter: drop-shadow(0px 1px 2px rgba(0, 0, 0, 0.3));\n",
              "      fill: #FFFFFF;\n",
              "    }\n",
              "  </style>\n",
              "\n",
              "      <script>\n",
              "        const buttonEl =\n",
              "          document.querySelector('#df-d17c6148-208b-4321-8528-b7b8aa30ba90 button.colab-df-convert');\n",
              "        buttonEl.style.display =\n",
              "          google.colab.kernel.accessAllowed ? 'block' : 'none';\n",
              "\n",
              "        async function convertToInteractive(key) {\n",
              "          const element = document.querySelector('#df-d17c6148-208b-4321-8528-b7b8aa30ba90');\n",
              "          const dataTable =\n",
              "            await google.colab.kernel.invokeFunction('convertToInteractive',\n",
              "                                                     [key], {});\n",
              "          if (!dataTable) return;\n",
              "\n",
              "          const docLinkHtml = 'Like what you see? Visit the ' +\n",
              "            '<a target=\"_blank\" href=https://colab.research.google.com/notebooks/data_table.ipynb>data table notebook</a>'\n",
              "            + ' to learn more about interactive tables.';\n",
              "          element.innerHTML = '';\n",
              "          dataTable['output_type'] = 'display_data';\n",
              "          await google.colab.output.renderOutput(dataTable, element);\n",
              "          const docLink = document.createElement('div');\n",
              "          docLink.innerHTML = docLinkHtml;\n",
              "          element.appendChild(docLink);\n",
              "        }\n",
              "      </script>\n",
              "    </div>\n",
              "  </div>\n",
              "  "
            ]
          },
          "metadata": {},
          "execution_count": 11
        }
      ],
      "source": [
        "#Creates a new column order by moving the label to the last column \n",
        "new_col_order = [col for col in project_df.columns if col != 'overall_rating'] + ['overall_rating']\n",
        "project_df = project_df[new_col_order]\n",
        "project_df.head()"
      ]
    },
    {
      "cell_type": "code",
      "execution_count": null,
      "metadata": {
        "colab": {
          "base_uri": "https://localhost:8080/"
        },
        "id": "d_C6WCJ0WqUr",
        "outputId": "cbb94258-5d86-47d6-ef17-38626cc3ce7b"
      },
      "outputs": [
        {
          "output_type": "stream",
          "name": "stdout",
          "text": [
            "There are 5 strongly correlated values with Overall Rating:\n",
            "culture_values       0.766156\n",
            "senior_mgmt          0.751829\n",
            "career_opp           0.715081\n",
            "comp_benefits        0.609950\n",
            "work_life_balance    0.563333\n",
            "Name: overall_rating, dtype: float64\n"
          ]
        }
      ],
      "source": [
        "#Identifies strong correlations with the label \n",
        "project_df_corr = project_df.corr()['overall_rating'][:-1]\n",
        "golden_features_list = project_df_corr[abs(project_df_corr) > 0.5].sort_values(ascending=False)\n",
        "print(\"There are {} strongly correlated values with Overall Rating:\\n{}\".format(len(golden_features_list), golden_features_list))"
      ]
    },
    {
      "cell_type": "code",
      "execution_count": null,
      "metadata": {
        "colab": {
          "base_uri": "https://localhost:8080/",
          "height": 527
        },
        "id": "RHwRdCC3Z3ak",
        "outputId": "0e572aa4-da63-4410-ad0e-36eb6b9e6ebf"
      },
      "outputs": [
        {
          "output_type": "display_data",
          "data": {
            "text/plain": [
              "<Figure size 576x576 with 2 Axes>"
            ],
            "image/png": "[encoded data removed]"
          },
          "metadata": {
            "needs_background": "light"
          }
        }
      ],
      "source": [
        "#Creates a heatmap for feature correlation analysis \n",
        "project_df_corr = project_df.corr()\n",
        "plt.figure(figsize=(8, 8))\n",
        "\n",
        "sns.heatmap(project_df_corr, \n",
        "            cmap='viridis', vmax=1.0, vmin=-1.0, linewidths=0.1,\n",
        "            annot=True, annot_kws={\"size\": 8}, square=True);"
      ]
    },
    {
      "cell_type": "code",
      "execution_count": null,
      "metadata": {
        "colab": {
          "base_uri": "https://localhost:8080/",
          "height": 674
        },
        "id": "KHk_-PseccMY",
        "outputId": "20d458ba-038f-430c-8cd7-5193a22d2295"
      },
      "outputs": [
        {
          "output_type": "display_data",
          "data": {
            "text/plain": [
              "<Figure size 1296x864 with 6 Axes>"
            ],
            "image/png": "[encoded data removed]"
          },
          "metadata": {
            "needs_background": "light"
          }
        }
      ],
      "source": [
        "fig, ax = plt.subplots(round(len(golden_features_list) / 3), 3, figsize = (18, 12))\n",
        "\n",
        "for i, ax in enumerate(fig.axes):\n",
        "    if i < len(golden_features_list) - 1:\n",
        "        sns.regplot(x=golden_features_list.index[i],y='overall_rating', data=project_df, ax=ax)"
      ]
    },
    {
      "cell_type": "code",
      "execution_count": null,
      "metadata": {
        "id": "7iuudUoew0Zo"
      },
      "outputs": [],
      "source": [
        "#Data Preprocessing - Data Cleaning"
      ]
    },
    {
      "cell_type": "code",
      "execution_count": 4,
      "metadata": {
        "id": "IUXDJw-2ctFI"
      },
      "outputs": [],
      "source": [
        "project_df = pd.read_csv('glassdoor_reviews.csv')\n",
        "y = project_df.overall_rating\n",
        "#Drops the label for processing/feature engineering\n",
        "project_df.drop(['overall_rating'], axis=1, inplace=True)"
      ]
    },
    {
      "cell_type": "code",
      "execution_count": 5,
      "metadata": {
        "colab": {
          "base_uri": "https://localhost:8080/",
          "height": 363
        },
        "id": "qmlGe-r6c48P",
        "outputId": "d6e35a5d-abd1-4f61-af89-dc99ba6dc2b1"
      },
      "outputs": [
        {
          "output_type": "execute_result",
          "data": {
            "text/plain": [
              "                     Missing Ratio\n",
              "use                     100.000000\n",
              "diversity_inclusion      83.773967\n",
              "location                 35.457913\n",
              "culture_values           22.821459\n",
              "senior_mgmt              18.588400\n",
              "comp_benefits            17.897458\n",
              "work_life_balance        17.875039\n",
              "career_opp               17.589671\n",
              "headline                  0.264618\n",
              "cons                      0.000954"
            ],
            "text/html": [
              "\n",
              "  <div id=\"df-3644905d-bde6-41d2-9fda-0f83519f8a30\">\n",
              "    <div class=\"colab-df-container\">\n",
              "      <div>\n",
              "<style scoped>\n",
              "    .dataframe tbody tr th:only-of-type {\n",
              "        vertical-align: middle;\n",
              "    }\n",
              "\n",
              "    .dataframe tbody tr th {\n",
              "        vertical-align: top;\n",
              "    }\n",
              "\n",
              "    .dataframe thead th {\n",
              "        text-align: right;\n",
              "    }\n",
              "</style>\n",
              "<table border=\"1\" class=\"dataframe\">\n",
              "  <thead>\n",
              "    <tr style=\"text-align: right;\">\n",
              "      <th></th>\n",
              "      <th>Missing Ratio</th>\n",
              "    </tr>\n",
              "  </thead>\n",
              "  <tbody>\n",
              "    <tr>\n",
              "      <th>use</th>\n",
              "      <td>100.000000</td>\n",
              "    </tr>\n",
              "    <tr>\n",
              "      <th>diversity_inclusion</th>\n",
              "      <td>83.773967</td>\n",
              "    </tr>\n",
              "    <tr>\n",
              "      <th>location</th>\n",
              "      <td>35.457913</td>\n",
              "    </tr>\n",
              "    <tr>\n",
              "      <th>culture_values</th>\n",
              "      <td>22.821459</td>\n",
              "    </tr>\n",
              "    <tr>\n",
              "      <th>senior_mgmt</th>\n",
              "      <td>18.588400</td>\n",
              "    </tr>\n",
              "    <tr>\n",
              "      <th>comp_benefits</th>\n",
              "      <td>17.897458</td>\n",
              "    </tr>\n",
              "    <tr>\n",
              "      <th>work_life_balance</th>\n",
              "      <td>17.875039</td>\n",
              "    </tr>\n",
              "    <tr>\n",
              "      <th>career_opp</th>\n",
              "      <td>17.589671</td>\n",
              "    </tr>\n",
              "    <tr>\n",
              "      <th>headline</th>\n",
              "      <td>0.264618</td>\n",
              "    </tr>\n",
              "    <tr>\n",
              "      <th>cons</th>\n",
              "      <td>0.000954</td>\n",
              "    </tr>\n",
              "  </tbody>\n",
              "</table>\n",
              "</div>\n",
              "      <button class=\"colab-df-convert\" onclick=\"convertToInteractive('df-3644905d-bde6-41d2-9fda-0f83519f8a30')\"\n",
              "              title=\"Convert this dataframe to an interactive table.\"\n",
              "              style=\"display:none;\">\n",
              "        \n",
              "  <svg xmlns=\"http://www.w3.org/2000/svg\" height=\"24px\"viewBox=\"0 0 24 24\"\n",
              "       width=\"24px\">\n",
              "    <path d=\"M0 0h24v24H0V0z\" fill=\"none\"/>\n",
              "    <path d=\"M18.56 5.44l.94 2.06.94-2.06 2.06-.94-2.06-.94-.94-2.06-.94 2.06-2.06.94zm-11 1L8.5 8.5l.94-2.06 2.06-.94-2.06-.94L8.5 2.5l-.94 2.06-2.06.94zm10 10l.94 2.06.94-2.06 2.06-.94-2.06-.94-.94-2.06-.94 2.06-2.06.94z\"/><path d=\"M17.41 7.96l-1.37-1.37c-.4-.4-.92-.59-1.43-.59-.52 0-1.04.2-1.43.59L10.3 9.45l-7.72 7.72c-.78.78-.78 2.05 0 2.83L4 21.41c.39.39.9.59 1.41.59.51 0 1.02-.2 1.41-.59l7.78-7.78 2.81-2.81c.8-.78.8-2.07 0-2.86zM5.41 20L4 18.59l7.72-7.72 1.47 1.35L5.41 20z\"/>\n",
              "  </svg>\n",
              "      </button>\n",
              "      \n",
              "  <style>\n",
              "    .colab-df-container {\n",
              "      display:flex;\n",
              "      flex-wrap:wrap;\n",
              "      gap: 12px;\n",
              "    }\n",
              "\n",
              "    .colab-df-convert {\n",
              "      background-color: #E8F0FE;\n",
              "      border: none;\n",
              "      border-radius: 50%;\n",
              "      cursor: pointer;\n",
              "      display: none;\n",
              "      fill: #1967D2;\n",
              "      height: 32px;\n",
              "      padding: 0 0 0 0;\n",
              "      width: 32px;\n",
              "    }\n",
              "\n",
              "    .colab-df-convert:hover {\n",
              "      background-color: #E2EBFA;\n",
              "      box-shadow: 0px 1px 2px rgba(60, 64, 67, 0.3), 0px 1px 3px 1px rgba(60, 64, 67, 0.15);\n",
              "      fill: #174EA6;\n",
              "    }\n",
              "\n",
              "    [theme=dark] .colab-df-convert {\n",
              "      background-color: #3B4455;\n",
              "      fill: #D2E3FC;\n",
              "    }\n",
              "\n",
              "    [theme=dark] .colab-df-convert:hover {\n",
              "      background-color: #434B5C;\n",
              "      box-shadow: 0px 1px 3px 1px rgba(0, 0, 0, 0.15);\n",
              "      filter: drop-shadow(0px 1px 2px rgba(0, 0, 0, 0.3));\n",
              "      fill: #FFFFFF;\n",
              "    }\n",
              "  </style>\n",
              "\n",
              "      <script>\n",
              "        const buttonEl =\n",
              "          document.querySelector('#df-3644905d-bde6-41d2-9fda-0f83519f8a30 button.colab-df-convert');\n",
              "        buttonEl.style.display =\n",
              "          google.colab.kernel.accessAllowed ? 'block' : 'none';\n",
              "\n",
              "        async function convertToInteractive(key) {\n",
              "          const element = document.querySelector('#df-3644905d-bde6-41d2-9fda-0f83519f8a30');\n",
              "          const dataTable =\n",
              "            await google.colab.kernel.invokeFunction('convertToInteractive',\n",
              "                                                     [key], {});\n",
              "          if (!dataTable) return;\n",
              "\n",
              "          const docLinkHtml = 'Like what you see? Visit the ' +\n",
              "            '<a target=\"_blank\" href=https://colab.research.google.com/notebooks/data_table.ipynb>data table notebook</a>'\n",
              "            + ' to learn more about interactive tables.';\n",
              "          element.innerHTML = '';\n",
              "          dataTable['output_type'] = 'display_data';\n",
              "          await google.colab.output.renderOutput(dataTable, element);\n",
              "          const docLink = document.createElement('div');\n",
              "          docLink.innerHTML = docLinkHtml;\n",
              "          element.appendChild(docLink);\n",
              "        }\n",
              "      </script>\n",
              "    </div>\n",
              "  </div>\n",
              "  "
            ]
          },
          "metadata": {},
          "execution_count": 5
        }
      ],
      "source": [
        "#Finding the Missing Data\n",
        "project_df_na = (project_df.isnull().sum() / len(project_df)) * 100\n",
        "project_df_na = project_df_na.drop(project_df_na[project_df_na == 0].index).sort_values(ascending=False)[:30]\n",
        "project_missing_data = pd.DataFrame({'Missing Ratio' :project_df_na})\n",
        "project_missing_data.head(20)"
      ]
    },
    {
      "cell_type": "code",
      "execution_count": 6,
      "metadata": {
        "colab": {
          "base_uri": "https://localhost:8080/",
          "height": 566
        },
        "id": "z63jbfOof_i4",
        "outputId": "7ec8c34a-cb8d-48c4-bd67-56ec6dbf8538"
      },
      "outputs": [
        {
          "output_type": "execute_result",
          "data": {
            "text/plain": [
              "Text(0.5, 1.0, 'Percent missing data by feature')"
            ]
          },
          "metadata": {},
          "execution_count": 6
        },
        {
          "output_type": "display_data",
          "data": {
            "text/plain": [
              "<Figure size 504x504 with 1 Axes>"
            ],
            "image/png": "[encoded data removed]"
          },
          "metadata": {
            "needs_background": "light"
          }
        }
      ],
      "source": [
        "#Plots the percentage of missing data for each feature \n",
        "f, ax = plt.subplots(figsize=(7, 7))\n",
        "plt.xticks(rotation='90')\n",
        "sns.barplot(x=project_df_na.index, y=project_df_na)\n",
        "plt.xlabel('Features', fontsize=15)\n",
        "plt.ylabel('Percent of missing values', fontsize=15)\n",
        "plt.title('Percent missing data by feature', fontsize=15)"
      ]
    },
    {
      "cell_type": "code",
      "source": [
        "#Imputes missing values with the median value for continuous features\n",
        "#Imputes missing values with None for categorical features\n",
        "#Deletes columns with high percentages of missing values "
      ],
      "metadata": {
        "id": "IrbamAhhIplo"
      },
      "execution_count": 7,
      "outputs": []
    },
    {
      "cell_type": "code",
      "execution_count": 8,
      "metadata": {
        "id": "-tBR1CwWgPNm"
      },
      "outputs": [],
      "source": [
        "del project_df[\"use\"]"
      ]
    },
    {
      "cell_type": "code",
      "execution_count": 9,
      "metadata": {
        "id": "b2HwihadZPbE"
      },
      "outputs": [],
      "source": [
        "del project_df[\"diversity_inclusion\"]"
      ]
    },
    {
      "cell_type": "code",
      "execution_count": 10,
      "metadata": {
        "id": "L4tcJsOQhfJx"
      },
      "outputs": [],
      "source": [
        "project_df[\"location\"] = project_df[\"location\"].fillna(\"None\")"
      ]
    },
    {
      "cell_type": "code",
      "execution_count": 11,
      "metadata": {
        "id": "oG7jsrKsiMOO"
      },
      "outputs": [],
      "source": [
        "project_df[\"culture_values\"].fillna(project_df[\"culture_values\"].median(), inplace=True)"
      ]
    },
    {
      "cell_type": "code",
      "execution_count": 12,
      "metadata": {
        "id": "pKlX7NRGiVJg"
      },
      "outputs": [],
      "source": [
        "project_df[\"senior_mgmt\"].fillna(project_df[\"senior_mgmt\"].median(), inplace=True)"
      ]
    },
    {
      "cell_type": "code",
      "execution_count": 13,
      "metadata": {
        "id": "Q9HQnM7Kicca"
      },
      "outputs": [],
      "source": [
        "project_df[\"comp_benefits\"].fillna(project_df[\"comp_benefits\"].median(), inplace=True)"
      ]
    },
    {
      "cell_type": "code",
      "execution_count": 14,
      "metadata": {
        "id": "g0O7uIrMi0ub"
      },
      "outputs": [],
      "source": [
        "project_df[\"work_life_balance\"].fillna(project_df[\"work_life_balance\"].median(), inplace=True)"
      ]
    },
    {
      "cell_type": "code",
      "execution_count": 15,
      "metadata": {
        "id": "061Jsclri7-X"
      },
      "outputs": [],
      "source": [
        "project_df[\"career_opp\"].fillna(project_df[\"career_opp\"].median(), inplace=True)"
      ]
    },
    {
      "cell_type": "code",
      "execution_count": 16,
      "metadata": {
        "id": "Rg4yy6hEjhs0"
      },
      "outputs": [],
      "source": [
        "project_df[\"headline\"] = project_df[\"headline\"].fillna(\"None\")"
      ]
    },
    {
      "cell_type": "code",
      "execution_count": 17,
      "metadata": {
        "id": "mTyn3qcYj6Et"
      },
      "outputs": [],
      "source": [
        "project_df[\"cons\"] = project_df[\"cons\"].fillna(\"None\")"
      ]
    },
    {
      "cell_type": "code",
      "execution_count": 18,
      "metadata": {
        "colab": {
          "base_uri": "https://localhost:8080/",
          "height": 49
        },
        "id": "xm8MgmYRkKD-",
        "outputId": "4aa2cc78-5632-4720-c6c2-dd37db8c8619"
      },
      "outputs": [
        {
          "output_type": "execute_result",
          "data": {
            "text/plain": [
              "Empty DataFrame\n",
              "Columns: [Missing Ratio]\n",
              "Index: []"
            ],
            "text/html": [
              "\n",
              "  <div id=\"df-533fe8c7-2cc4-4c35-bd6a-7dc9e2ce7877\">\n",
              "    <div class=\"colab-df-container\">\n",
              "      <div>\n",
              "<style scoped>\n",
              "    .dataframe tbody tr th:only-of-type {\n",
              "        vertical-align: middle;\n",
              "    }\n",
              "\n",
              "    .dataframe tbody tr th {\n",
              "        vertical-align: top;\n",
              "    }\n",
              "\n",
              "    .dataframe thead th {\n",
              "        text-align: right;\n",
              "    }\n",
              "</style>\n",
              "<table border=\"1\" class=\"dataframe\">\n",
              "  <thead>\n",
              "    <tr style=\"text-align: right;\">\n",
              "      <th></th>\n",
              "      <th>Missing Ratio</th>\n",
              "    </tr>\n",
              "  </thead>\n",
              "  <tbody>\n",
              "  </tbody>\n",
              "</table>\n",
              "</div>\n",
              "      <button class=\"colab-df-convert\" onclick=\"convertToInteractive('df-533fe8c7-2cc4-4c35-bd6a-7dc9e2ce7877')\"\n",
              "              title=\"Convert this dataframe to an interactive table.\"\n",
              "              style=\"display:none;\">\n",
              "        \n",
              "  <svg xmlns=\"http://www.w3.org/2000/svg\" height=\"24px\"viewBox=\"0 0 24 24\"\n",
              "       width=\"24px\">\n",
              "    <path d=\"M0 0h24v24H0V0z\" fill=\"none\"/>\n",
              "    <path d=\"M18.56 5.44l.94 2.06.94-2.06 2.06-.94-2.06-.94-.94-2.06-.94 2.06-2.06.94zm-11 1L8.5 8.5l.94-2.06 2.06-.94-2.06-.94L8.5 2.5l-.94 2.06-2.06.94zm10 10l.94 2.06.94-2.06 2.06-.94-2.06-.94-.94-2.06-.94 2.06-2.06.94z\"/><path d=\"M17.41 7.96l-1.37-1.37c-.4-.4-.92-.59-1.43-.59-.52 0-1.04.2-1.43.59L10.3 9.45l-7.72 7.72c-.78.78-.78 2.05 0 2.83L4 21.41c.39.39.9.59 1.41.59.51 0 1.02-.2 1.41-.59l7.78-7.78 2.81-2.81c.8-.78.8-2.07 0-2.86zM5.41 20L4 18.59l7.72-7.72 1.47 1.35L5.41 20z\"/>\n",
              "  </svg>\n",
              "      </button>\n",
              "      \n",
              "  <style>\n",
              "    .colab-df-container {\n",
              "      display:flex;\n",
              "      flex-wrap:wrap;\n",
              "      gap: 12px;\n",
              "    }\n",
              "\n",
              "    .colab-df-convert {\n",
              "      background-color: #E8F0FE;\n",
              "      border: none;\n",
              "      border-radius: 50%;\n",
              "      cursor: pointer;\n",
              "      display: none;\n",
              "      fill: #1967D2;\n",
              "      height: 32px;\n",
              "      padding: 0 0 0 0;\n",
              "      width: 32px;\n",
              "    }\n",
              "\n",
              "    .colab-df-convert:hover {\n",
              "      background-color: #E2EBFA;\n",
              "      box-shadow: 0px 1px 2px rgba(60, 64, 67, 0.3), 0px 1px 3px 1px rgba(60, 64, 67, 0.15);\n",
              "      fill: #174EA6;\n",
              "    }\n",
              "\n",
              "    [theme=dark] .colab-df-convert {\n",
              "      background-color: #3B4455;\n",
              "      fill: #D2E3FC;\n",
              "    }\n",
              "\n",
              "    [theme=dark] .colab-df-convert:hover {\n",
              "      background-color: #434B5C;\n",
              "      box-shadow: 0px 1px 3px 1px rgba(0, 0, 0, 0.15);\n",
              "      filter: drop-shadow(0px 1px 2px rgba(0, 0, 0, 0.3));\n",
              "      fill: #FFFFFF;\n",
              "    }\n",
              "  </style>\n",
              "\n",
              "      <script>\n",
              "        const buttonEl =\n",
              "          document.querySelector('#df-533fe8c7-2cc4-4c35-bd6a-7dc9e2ce7877 button.colab-df-convert');\n",
              "        buttonEl.style.display =\n",
              "          google.colab.kernel.accessAllowed ? 'block' : 'none';\n",
              "\n",
              "        async function convertToInteractive(key) {\n",
              "          const element = document.querySelector('#df-533fe8c7-2cc4-4c35-bd6a-7dc9e2ce7877');\n",
              "          const dataTable =\n",
              "            await google.colab.kernel.invokeFunction('convertToInteractive',\n",
              "                                                     [key], {});\n",
              "          if (!dataTable) return;\n",
              "\n",
              "          const docLinkHtml = 'Like what you see? Visit the ' +\n",
              "            '<a target=\"_blank\" href=https://colab.research.google.com/notebooks/data_table.ipynb>data table notebook</a>'\n",
              "            + ' to learn more about interactive tables.';\n",
              "          element.innerHTML = '';\n",
              "          dataTable['output_type'] = 'display_data';\n",
              "          await google.colab.output.renderOutput(dataTable, element);\n",
              "          const docLink = document.createElement('div');\n",
              "          docLink.innerHTML = docLinkHtml;\n",
              "          element.appendChild(docLink);\n",
              "        }\n",
              "      </script>\n",
              "    </div>\n",
              "  </div>\n",
              "  "
            ]
          },
          "metadata": {},
          "execution_count": 18
        }
      ],
      "source": [
        "#Checks if there is still any missing data\n",
        "project_df_na = (project_df.isnull().sum() / len(project_df)) * 100\n",
        "project_df_na = project_df_na.drop(project_df_na[project_df_na == 0].index).sort_values(ascending=False)\n",
        "missing_data = pd.DataFrame({'Missing Ratio' :project_df_na})\n",
        "missing_data.head()"
      ]
    },
    {
      "cell_type": "code",
      "execution_count": 19,
      "metadata": {
        "id": "_KW3crp4w4ey"
      },
      "outputs": [],
      "source": [
        "#Data Preprocessing - Feature Engineering\n",
        "\n",
        "#Turns recommend, CEO approval, and outlok into numerical features as shown below \n",
        "# recommend, ceo_approval, outlook: v: 3, r: 2, o: 1, x: 0\n",
        "temp_dict = {'v': 3.0, 'r': 2.0, 'o': 1.0, 'x': 0.0}\n",
        "temp_dict3 = {'v': 2.0, 'o': 1.0, 'x': 0.0}\n",
        "\n",
        "rec_numeric = []\n",
        "ceo_approv_numeric = []\n",
        "outlook_numeric = []\n",
        "\n",
        "for row in project_df.iterrows():\n",
        "  rec_numeric.append(temp_dict3[row[1]['recommend']])  \n",
        "  ceo_approv_numeric.append(temp_dict[row[1]['ceo_approv']])  \n",
        "  outlook_numeric.append(temp_dict[row[1]['outlook']])  \n",
        "\n",
        "\n",
        "\n",
        "project_df['recommend_numeric'] = rec_numeric\n",
        "project_df['ceo_approv_numeric'] = ceo_approv_numeric\n",
        "project_df['outlook_numeric'] = outlook_numeric"
      ]
    },
    {
      "cell_type": "code",
      "execution_count": null,
      "metadata": {
        "colab": {
          "base_uri": "https://localhost:8080/",
          "height": 1000
        },
        "id": "VjD52EVwPw0j",
        "outputId": "6ac55d34-78f2-4c5f-c75b-7febe482c286"
      },
      "outputs": [
        {
          "output_type": "execute_result",
          "data": {
            "text/plain": [
              "        Unnamed: 0  column_label                              firm  \\\n",
              "0                1             1                         Sotheby-s   \n",
              "1                2             1                         Sotheby-s   \n",
              "2                3             1                         Sotheby-s   \n",
              "3                4             1                         Sotheby-s   \n",
              "4                5             1                         Sotheby-s   \n",
              "...            ...           ...                               ...   \n",
              "838561      838562            71  Department-for-Work-And-Pensions   \n",
              "838562      838563            71  Department-for-Work-And-Pensions   \n",
              "838563      838564            71  Department-for-Work-And-Pensions   \n",
              "838564      838565            71  Department-for-Work-And-Pensions   \n",
              "838565      838566            71  Department-for-Work-And-Pensions   \n",
              "\n",
              "       date_review                        job_title  \\\n",
              "0       2021-05-25                Financial Analyst   \n",
              "1       2021-05-25                    Administrator   \n",
              "2       2021-05-24   Client Services Representative   \n",
              "3       2021-05-22               Anonymous Employee   \n",
              "4       2021-05-15                    Administrator   \n",
              "...            ...                              ...   \n",
              "838561  2010-09-03                          Analyst   \n",
              "838562  2010-04-25              Assistant Economist   \n",
              "838563  2009-11-08                Private Secretary   \n",
              "838564  2009-07-16                   DASO Jobcentre   \n",
              "838565  2008-12-24                              CSO   \n",
              "\n",
              "                                   current                        location  \\\n",
              "0        Former Employee, more than 1 year                    New York, NY   \n",
              "1                          Former Employee                       Hong Kong   \n",
              "2        Former Employee, more than 1 year        London, England, England   \n",
              "3                         Current Employee                       Hong Kong   \n",
              "4       Current Employee, less than 1 year        London, England, England   \n",
              "...                                    ...                             ...   \n",
              "838561                     Former Employee        London, England, England   \n",
              "838562                    Current Employee        London, England, England   \n",
              "838563                    Current Employee        London, England, England   \n",
              "838564                    Current Employee  Newport, Newport, Wales, Wales   \n",
              "838565                    Current Employee                            None   \n",
              "\n",
              "        work_life_balance  culture_values  career_opp  ...  senior_mgmt  \\\n",
              "0                     1.0             1.0         1.0  ...          1.0   \n",
              "1                     4.0             5.0         3.0  ...          4.0   \n",
              "2                     5.0             4.0         5.0  ...          5.0   \n",
              "3                     2.0             2.0         3.0  ...          3.0   \n",
              "4                     4.0             4.0         3.0  ...          3.0   \n",
              "...                   ...             ...         ...  ...          ...   \n",
              "838561                4.0             4.0         2.0  ...          3.0   \n",
              "838562                5.0             4.0         5.0  ...          2.0   \n",
              "838563                4.0             4.0         4.0  ...          3.0   \n",
              "838564                5.0             4.0         3.0  ...          2.0   \n",
              "838565                2.0             4.0         2.0  ...          1.0   \n",
              "\n",
              "        recommend ceo_approv outlook  \\\n",
              "0               x          r       x   \n",
              "1               o          o       o   \n",
              "2               v          v       v   \n",
              "3               o          o       o   \n",
              "4               v          r       v   \n",
              "...           ...        ...     ...   \n",
              "838561          o          v       o   \n",
              "838562          o          r       o   \n",
              "838563          v          v       o   \n",
              "838564          v          x       o   \n",
              "838565          x          x       o   \n",
              "\n",
              "                                                 headline  \\\n",
              "0                                             Don't do it   \n",
              "1                             international auction house   \n",
              "2                     Fast-paced, difficult and rewarding   \n",
              "3                                                  Review   \n",
              "4       Fun job and nice people but huge workload and ...   \n",
              "...                                                   ...   \n",
              "838561                               DWP Analyst Position   \n",
              "838562  Stress free job with very strong work life bal...   \n",
              "838563                       Inner workings - interesting   \n",
              "838564                                        Band B - AO   \n",
              "838565      Terrible organisation now - used to beOK once   \n",
              "\n",
              "                                                     pros  \\\n",
              "0       People in leadership roles have been there for...   \n",
              "1       great exposure, respectful environment and bea...   \n",
              "2                         Good team, support and training   \n",
              "3         Exposure to artworks, great team of specialists   \n",
              "4       Fantastic art, nice enthusiastic people and a ...   \n",
              "...                                                   ...   \n",
              "838561  Workforce consists of highly motivated and int...   \n",
              "838562  Only 36 hours a week.\\r\\nLots of opportunities...   \n",
              "838563  Big department, with lots of opportunities to ...   \n",
              "838564  Safe place to work when in recession.  People ...   \n",
              "838565                           Cant think of any at all   \n",
              "\n",
              "                                                     cons recommend_numeric  \\\n",
              "0       Pressure to do whatever the leaders want\\r\\nNo...               0.0   \n",
              "1              OT during peak seasons and often underpaid               1.0   \n",
              "2            High-stress with relatively low conpensation               2.0   \n",
              "3                      Work life balance, company culture               1.0   \n",
              "4                          Very low pay and huge workload               2.0   \n",
              "...                                                   ...               ...   \n",
              "838561  Often too relaxed and many lack much drive on ...               1.0   \n",
              "838562  Pay is OK at first but with little growth or b...               1.0   \n",
              "838563  Long hours tend to be unrewarded when they hap...               2.0   \n",
              "838564  90% of the time its only a very short contract...               2.0   \n",
              "838565  Hopeless management turning into acall centre ...               0.0   \n",
              "\n",
              "        ceo_approv_numeric  outlook_numeric  \n",
              "0                      2.0              0.0  \n",
              "1                      1.0              1.0  \n",
              "2                      3.0              3.0  \n",
              "3                      1.0              1.0  \n",
              "4                      2.0              3.0  \n",
              "...                    ...              ...  \n",
              "838561                 3.0              1.0  \n",
              "838562                 2.0              1.0  \n",
              "838563                 3.0              1.0  \n",
              "838564                 0.0              1.0  \n",
              "838565                 0.0              1.0  \n",
              "\n",
              "[838566 rows x 21 columns]"
            ],
            "text/html": [
              "\n",
              "  <div id=\"df-0866d0c6-c55f-434d-bb99-c294c8c34bb2\">\n",
              "    <div class=\"colab-df-container\">\n",
              "      <div>\n",
              "<style scoped>\n",
              "    .dataframe tbody tr th:only-of-type {\n",
              "        vertical-align: middle;\n",
              "    }\n",
              "\n",
              "    .dataframe tbody tr th {\n",
              "        vertical-align: top;\n",
              "    }\n",
              "\n",
              "    .dataframe thead th {\n",
              "        text-align: right;\n",
              "    }\n",
              "</style>\n",
              "<table border=\"1\" class=\"dataframe\">\n",
              "  <thead>\n",
              "    <tr style=\"text-align: right;\">\n",
              "      <th></th>\n",
              "      <th>Unnamed: 0</th>\n",
              "      <th>column_label</th>\n",
              "      <th>firm</th>\n",
              "      <th>date_review</th>\n",
              "      <th>job_title</th>\n",
              "      <th>current</th>\n",
              "      <th>location</th>\n",
              "      <th>work_life_balance</th>\n",
              "      <th>culture_values</th>\n",
              "      <th>career_opp</th>\n",
              "      <th>...</th>\n",
              "      <th>senior_mgmt</th>\n",
              "      <th>recommend</th>\n",
              "      <th>ceo_approv</th>\n",
              "      <th>outlook</th>\n",
              "      <th>headline</th>\n",
              "      <th>pros</th>\n",
              "      <th>cons</th>\n",
              "      <th>recommend_numeric</th>\n",
              "      <th>ceo_approv_numeric</th>\n",
              "      <th>outlook_numeric</th>\n",
              "    </tr>\n",
              "  </thead>\n",
              "  <tbody>\n",
              "    <tr>\n",
              "      <th>0</th>\n",
              "      <td>1</td>\n",
              "      <td>1</td>\n",
              "      <td>Sotheby-s</td>\n",
              "      <td>2021-05-25</td>\n",
              "      <td>Financial Analyst</td>\n",
              "      <td>Former Employee, more than 1 year</td>\n",
              "      <td>New York, NY</td>\n",
              "      <td>1.0</td>\n",
              "      <td>1.0</td>\n",
              "      <td>1.0</td>\n",
              "      <td>...</td>\n",
              "      <td>1.0</td>\n",
              "      <td>x</td>\n",
              "      <td>r</td>\n",
              "      <td>x</td>\n",
              "      <td>Don't do it</td>\n",
              "      <td>People in leadership roles have been there for...</td>\n",
              "      <td>Pressure to do whatever the leaders want\\r\\nNo...</td>\n",
              "      <td>0.0</td>\n",
              "      <td>2.0</td>\n",
              "      <td>0.0</td>\n",
              "    </tr>\n",
              "    <tr>\n",
              "      <th>1</th>\n",
              "      <td>2</td>\n",
              "      <td>1</td>\n",
              "      <td>Sotheby-s</td>\n",
              "      <td>2021-05-25</td>\n",
              "      <td>Administrator</td>\n",
              "      <td>Former Employee</td>\n",
              "      <td>Hong Kong</td>\n",
              "      <td>4.0</td>\n",
              "      <td>5.0</td>\n",
              "      <td>3.0</td>\n",
              "      <td>...</td>\n",
              "      <td>4.0</td>\n",
              "      <td>o</td>\n",
              "      <td>o</td>\n",
              "      <td>o</td>\n",
              "      <td>international auction house</td>\n",
              "      <td>great exposure, respectful environment and bea...</td>\n",
              "      <td>OT during peak seasons and often underpaid</td>\n",
              "      <td>1.0</td>\n",
              "      <td>1.0</td>\n",
              "      <td>1.0</td>\n",
              "    </tr>\n",
              "    <tr>\n",
              "      <th>2</th>\n",
              "      <td>3</td>\n",
              "      <td>1</td>\n",
              "      <td>Sotheby-s</td>\n",
              "      <td>2021-05-24</td>\n",
              "      <td>Client Services Representative</td>\n",
              "      <td>Former Employee, more than 1 year</td>\n",
              "      <td>London, England, England</td>\n",
              "      <td>5.0</td>\n",
              "      <td>4.0</td>\n",
              "      <td>5.0</td>\n",
              "      <td>...</td>\n",
              "      <td>5.0</td>\n",
              "      <td>v</td>\n",
              "      <td>v</td>\n",
              "      <td>v</td>\n",
              "      <td>Fast-paced, difficult and rewarding</td>\n",
              "      <td>Good team, support and training</td>\n",
              "      <td>High-stress with relatively low conpensation</td>\n",
              "      <td>2.0</td>\n",
              "      <td>3.0</td>\n",
              "      <td>3.0</td>\n",
              "    </tr>\n",
              "    <tr>\n",
              "      <th>3</th>\n",
              "      <td>4</td>\n",
              "      <td>1</td>\n",
              "      <td>Sotheby-s</td>\n",
              "      <td>2021-05-22</td>\n",
              "      <td>Anonymous Employee</td>\n",
              "      <td>Current Employee</td>\n",
              "      <td>Hong Kong</td>\n",
              "      <td>2.0</td>\n",
              "      <td>2.0</td>\n",
              "      <td>3.0</td>\n",
              "      <td>...</td>\n",
              "      <td>3.0</td>\n",
              "      <td>o</td>\n",
              "      <td>o</td>\n",
              "      <td>o</td>\n",
              "      <td>Review</td>\n",
              "      <td>Exposure to artworks, great team of specialists</td>\n",
              "      <td>Work life balance, company culture</td>\n",
              "      <td>1.0</td>\n",
              "      <td>1.0</td>\n",
              "      <td>1.0</td>\n",
              "    </tr>\n",
              "    <tr>\n",
              "      <th>4</th>\n",
              "      <td>5</td>\n",
              "      <td>1</td>\n",
              "      <td>Sotheby-s</td>\n",
              "      <td>2021-05-15</td>\n",
              "      <td>Administrator</td>\n",
              "      <td>Current Employee, less than 1 year</td>\n",
              "      <td>London, England, England</td>\n",
              "      <td>4.0</td>\n",
              "      <td>4.0</td>\n",
              "      <td>3.0</td>\n",
              "      <td>...</td>\n",
              "      <td>3.0</td>\n",
              "      <td>v</td>\n",
              "      <td>r</td>\n",
              "      <td>v</td>\n",
              "      <td>Fun job and nice people but huge workload and ...</td>\n",
              "      <td>Fantastic art, nice enthusiastic people and a ...</td>\n",
              "      <td>Very low pay and huge workload</td>\n",
              "      <td>2.0</td>\n",
              "      <td>2.0</td>\n",
              "      <td>3.0</td>\n",
              "    </tr>\n",
              "    <tr>\n",
              "      <th>...</th>\n",
              "      <td>...</td>\n",
              "      <td>...</td>\n",
              "      <td>...</td>\n",
              "      <td>...</td>\n",
              "      <td>...</td>\n",
              "      <td>...</td>\n",
              "      <td>...</td>\n",
              "      <td>...</td>\n",
              "      <td>...</td>\n",
              "      <td>...</td>\n",
              "      <td>...</td>\n",
              "      <td>...</td>\n",
              "      <td>...</td>\n",
              "      <td>...</td>\n",
              "      <td>...</td>\n",
              "      <td>...</td>\n",
              "      <td>...</td>\n",
              "      <td>...</td>\n",
              "      <td>...</td>\n",
              "      <td>...</td>\n",
              "      <td>...</td>\n",
              "    </tr>\n",
              "    <tr>\n",
              "      <th>838561</th>\n",
              "      <td>838562</td>\n",
              "      <td>71</td>\n",
              "      <td>Department-for-Work-And-Pensions</td>\n",
              "      <td>2010-09-03</td>\n",
              "      <td>Analyst</td>\n",
              "      <td>Former Employee</td>\n",
              "      <td>London, England, England</td>\n",
              "      <td>4.0</td>\n",
              "      <td>4.0</td>\n",
              "      <td>2.0</td>\n",
              "      <td>...</td>\n",
              "      <td>3.0</td>\n",
              "      <td>o</td>\n",
              "      <td>v</td>\n",
              "      <td>o</td>\n",
              "      <td>DWP Analyst Position</td>\n",
              "      <td>Workforce consists of highly motivated and int...</td>\n",
              "      <td>Often too relaxed and many lack much drive on ...</td>\n",
              "      <td>1.0</td>\n",
              "      <td>3.0</td>\n",
              "      <td>1.0</td>\n",
              "    </tr>\n",
              "    <tr>\n",
              "      <th>838562</th>\n",
              "      <td>838563</td>\n",
              "      <td>71</td>\n",
              "      <td>Department-for-Work-And-Pensions</td>\n",
              "      <td>2010-04-25</td>\n",
              "      <td>Assistant Economist</td>\n",
              "      <td>Current Employee</td>\n",
              "      <td>London, England, England</td>\n",
              "      <td>5.0</td>\n",
              "      <td>4.0</td>\n",
              "      <td>5.0</td>\n",
              "      <td>...</td>\n",
              "      <td>2.0</td>\n",
              "      <td>o</td>\n",
              "      <td>r</td>\n",
              "      <td>o</td>\n",
              "      <td>Stress free job with very strong work life bal...</td>\n",
              "      <td>Only 36 hours a week.\\r\\nLots of opportunities...</td>\n",
              "      <td>Pay is OK at first but with little growth or b...</td>\n",
              "      <td>1.0</td>\n",
              "      <td>2.0</td>\n",
              "      <td>1.0</td>\n",
              "    </tr>\n",
              "    <tr>\n",
              "      <th>838563</th>\n",
              "      <td>838564</td>\n",
              "      <td>71</td>\n",
              "      <td>Department-for-Work-And-Pensions</td>\n",
              "      <td>2009-11-08</td>\n",
              "      <td>Private Secretary</td>\n",
              "      <td>Current Employee</td>\n",
              "      <td>London, England, England</td>\n",
              "      <td>4.0</td>\n",
              "      <td>4.0</td>\n",
              "      <td>4.0</td>\n",
              "      <td>...</td>\n",
              "      <td>3.0</td>\n",
              "      <td>v</td>\n",
              "      <td>v</td>\n",
              "      <td>o</td>\n",
              "      <td>Inner workings - interesting</td>\n",
              "      <td>Big department, with lots of opportunities to ...</td>\n",
              "      <td>Long hours tend to be unrewarded when they hap...</td>\n",
              "      <td>2.0</td>\n",
              "      <td>3.0</td>\n",
              "      <td>1.0</td>\n",
              "    </tr>\n",
              "    <tr>\n",
              "      <th>838564</th>\n",
              "      <td>838565</td>\n",
              "      <td>71</td>\n",
              "      <td>Department-for-Work-And-Pensions</td>\n",
              "      <td>2009-07-16</td>\n",
              "      <td>DASO Jobcentre</td>\n",
              "      <td>Current Employee</td>\n",
              "      <td>Newport, Newport, Wales, Wales</td>\n",
              "      <td>5.0</td>\n",
              "      <td>4.0</td>\n",
              "      <td>3.0</td>\n",
              "      <td>...</td>\n",
              "      <td>2.0</td>\n",
              "      <td>v</td>\n",
              "      <td>x</td>\n",
              "      <td>o</td>\n",
              "      <td>Band B - AO</td>\n",
              "      <td>Safe place to work when in recession.  People ...</td>\n",
              "      <td>90% of the time its only a very short contract...</td>\n",
              "      <td>2.0</td>\n",
              "      <td>0.0</td>\n",
              "      <td>1.0</td>\n",
              "    </tr>\n",
              "    <tr>\n",
              "      <th>838565</th>\n",
              "      <td>838566</td>\n",
              "      <td>71</td>\n",
              "      <td>Department-for-Work-And-Pensions</td>\n",
              "      <td>2008-12-24</td>\n",
              "      <td>CSO</td>\n",
              "      <td>Current Employee</td>\n",
              "      <td>None</td>\n",
              "      <td>2.0</td>\n",
              "      <td>4.0</td>\n",
              "      <td>2.0</td>\n",
              "      <td>...</td>\n",
              "      <td>1.0</td>\n",
              "      <td>x</td>\n",
              "      <td>x</td>\n",
              "      <td>o</td>\n",
              "      <td>Terrible organisation now - used to beOK once</td>\n",
              "      <td>Cant think of any at all</td>\n",
              "      <td>Hopeless management turning into acall centre ...</td>\n",
              "      <td>0.0</td>\n",
              "      <td>0.0</td>\n",
              "      <td>1.0</td>\n",
              "    </tr>\n",
              "  </tbody>\n",
              "</table>\n",
              "<p>838566 rows × 21 columns</p>\n",
              "</div>\n",
              "      <button class=\"colab-df-convert\" onclick=\"convertToInteractive('df-0866d0c6-c55f-434d-bb99-c294c8c34bb2')\"\n",
              "              title=\"Convert this dataframe to an interactive table.\"\n",
              "              style=\"display:none;\">\n",
              "        \n",
              "  <svg xmlns=\"http://www.w3.org/2000/svg\" height=\"24px\"viewBox=\"0 0 24 24\"\n",
              "       width=\"24px\">\n",
              "    <path d=\"M0 0h24v24H0V0z\" fill=\"none\"/>\n",
              "    <path d=\"M18.56 5.44l.94 2.06.94-2.06 2.06-.94-2.06-.94-.94-2.06-.94 2.06-2.06.94zm-11 1L8.5 8.5l.94-2.06 2.06-.94-2.06-.94L8.5 2.5l-.94 2.06-2.06.94zm10 10l.94 2.06.94-2.06 2.06-.94-2.06-.94-.94-2.06-.94 2.06-2.06.94z\"/><path d=\"M17.41 7.96l-1.37-1.37c-.4-.4-.92-.59-1.43-.59-.52 0-1.04.2-1.43.59L10.3 9.45l-7.72 7.72c-.78.78-.78 2.05 0 2.83L4 21.41c.39.39.9.59 1.41.59.51 0 1.02-.2 1.41-.59l7.78-7.78 2.81-2.81c.8-.78.8-2.07 0-2.86zM5.41 20L4 18.59l7.72-7.72 1.47 1.35L5.41 20z\"/>\n",
              "  </svg>\n",
              "      </button>\n",
              "      \n",
              "  <style>\n",
              "    .colab-df-container {\n",
              "      display:flex;\n",
              "      flex-wrap:wrap;\n",
              "      gap: 12px;\n",
              "    }\n",
              "\n",
              "    .colab-df-convert {\n",
              "      background-color: #E8F0FE;\n",
              "      border: none;\n",
              "      border-radius: 50%;\n",
              "      cursor: pointer;\n",
              "      display: none;\n",
              "      fill: #1967D2;\n",
              "      height: 32px;\n",
              "      padding: 0 0 0 0;\n",
              "      width: 32px;\n",
              "    }\n",
              "\n",
              "    .colab-df-convert:hover {\n",
              "      background-color: #E2EBFA;\n",
              "      box-shadow: 0px 1px 2px rgba(60, 64, 67, 0.3), 0px 1px 3px 1px rgba(60, 64, 67, 0.15);\n",
              "      fill: #174EA6;\n",
              "    }\n",
              "\n",
              "    [theme=dark] .colab-df-convert {\n",
              "      background-color: #3B4455;\n",
              "      fill: #D2E3FC;\n",
              "    }\n",
              "\n",
              "    [theme=dark] .colab-df-convert:hover {\n",
              "      background-color: #434B5C;\n",
              "      box-shadow: 0px 1px 3px 1px rgba(0, 0, 0, 0.15);\n",
              "      filter: drop-shadow(0px 1px 2px rgba(0, 0, 0, 0.3));\n",
              "      fill: #FFFFFF;\n",
              "    }\n",
              "  </style>\n",
              "\n",
              "      <script>\n",
              "        const buttonEl =\n",
              "          document.querySelector('#df-0866d0c6-c55f-434d-bb99-c294c8c34bb2 button.colab-df-convert');\n",
              "        buttonEl.style.display =\n",
              "          google.colab.kernel.accessAllowed ? 'block' : 'none';\n",
              "\n",
              "        async function convertToInteractive(key) {\n",
              "          const element = document.querySelector('#df-0866d0c6-c55f-434d-bb99-c294c8c34bb2');\n",
              "          const dataTable =\n",
              "            await google.colab.kernel.invokeFunction('convertToInteractive',\n",
              "                                                     [key], {});\n",
              "          if (!dataTable) return;\n",
              "\n",
              "          const docLinkHtml = 'Like what you see? Visit the ' +\n",
              "            '<a target=\"_blank\" href=https://colab.research.google.com/notebooks/data_table.ipynb>data table notebook</a>'\n",
              "            + ' to learn more about interactive tables.';\n",
              "          element.innerHTML = '';\n",
              "          dataTable['output_type'] = 'display_data';\n",
              "          await google.colab.output.renderOutput(dataTable, element);\n",
              "          const docLink = document.createElement('div');\n",
              "          docLink.innerHTML = docLinkHtml;\n",
              "          element.appendChild(docLink);\n",
              "        }\n",
              "      </script>\n",
              "    </div>\n",
              "  </div>\n",
              "  "
            ]
          },
          "metadata": {},
          "execution_count": 16
        }
      ],
      "source": [
        "project_df"
      ]
    },
    {
      "cell_type": "code",
      "execution_count": 20,
      "metadata": {
        "colab": {
          "base_uri": "https://localhost:8080/"
        },
        "id": "6b6Y8ny7QQcv",
        "outputId": "ef03244d-f3be-49db-f1d7-61524d43f362"
      },
      "outputs": [
        {
          "output_type": "execute_result",
          "data": {
            "text/plain": [
              "count     838566\n",
              "unique       428\n",
              "top          IBM\n",
              "freq       60436\n",
              "Name: firm, dtype: object"
            ]
          },
          "metadata": {},
          "execution_count": 20
        }
      ],
      "source": [
        "# NLP Aspect would be too complex\n",
        "project_df['firm'].describe()"
      ]
    },
    {
      "cell_type": "code",
      "source": [
        "#Verification that the feature engineering worked as expected"
      ],
      "metadata": {
        "id": "-r8qe1O8JSdd"
      },
      "execution_count": 21,
      "outputs": []
    },
    {
      "cell_type": "code",
      "execution_count": 22,
      "metadata": {
        "colab": {
          "base_uri": "https://localhost:8080/",
          "height": 298
        },
        "id": "Tn7eeMaFQV_T",
        "outputId": "a210883a-9d34-4c50-dd53-c7eaf36d1f5d"
      },
      "outputs": [
        {
          "output_type": "execute_result",
          "data": {
            "text/plain": [
              "<matplotlib.axes._subplots.AxesSubplot at 0x7f4a74532a50>"
            ]
          },
          "metadata": {},
          "execution_count": 22
        },
        {
          "output_type": "display_data",
          "data": {
            "text/plain": [
              "<Figure size 432x288 with 1 Axes>"
            ],
            "image/png": "[encoded data removed]"
          },
          "metadata": {
            "needs_background": "light"
          }
        }
      ],
      "source": [
        "sns.histplot(project_df['recommend_numeric'], color='g', bins=3)"
      ]
    },
    {
      "cell_type": "code",
      "execution_count": 23,
      "metadata": {
        "colab": {
          "base_uri": "https://localhost:8080/",
          "height": 280
        },
        "id": "FW9bdtgkQq-D",
        "outputId": "7199e63a-7b0f-421e-a99e-e584f0ee94f6"
      },
      "outputs": [
        {
          "output_type": "display_data",
          "data": {
            "text/plain": [
              "<Figure size 432x288 with 1 Axes>"
            ],
            "image/png": "[encoded data removed]"
          },
          "metadata": {
            "needs_background": "light"
          }
        }
      ],
      "source": [
        "sns.histplot(project_df['ceo_approv_numeric'], color='g', bins=4);"
      ]
    },
    {
      "cell_type": "code",
      "execution_count": 24,
      "metadata": {
        "colab": {
          "base_uri": "https://localhost:8080/",
          "height": 280
        },
        "id": "m_j7oVNzQzDQ",
        "outputId": "0a6771bf-05b2-42e1-9d83-e757e1a3fc36"
      },
      "outputs": [
        {
          "output_type": "display_data",
          "data": {
            "text/plain": [
              "<Figure size 432x288 with 1 Axes>"
            ],
            "image/png": "[encoded data removed]"
          },
          "metadata": {
            "needs_background": "light"
          }
        }
      ],
      "source": [
        "sns.histplot(project_df['outlook_numeric'], color='g', bins=4);"
      ]
    },
    {
      "cell_type": "code",
      "execution_count": 25,
      "metadata": {
        "id": "fC3R2dhSR8Zk"
      },
      "outputs": [],
      "source": [
        "#Feature Selction\n",
        "\n",
        "X = project_df[['work_life_balance', 'culture_values', 'career_opp',\n",
        "                'comp_benefits', 'senior_mgmt', 'ceo_approv_numeric', 'recommend_numeric', 'outlook_numeric']]\n"
      ]
    },
    {
      "cell_type": "code",
      "execution_count": null,
      "metadata": {
        "colab": {
          "base_uri": "https://localhost:8080/",
          "height": 468
        },
        "id": "rvxXqbr7WVBv",
        "outputId": "6d8e6778-99b2-4b40-8b4c-7694a1da55db"
      },
      "outputs": [
        {
          "output_type": "execute_result",
          "data": {
            "text/plain": [
              "        work_life_balance  culture_values  career_opp  comp_benefits  \\\n",
              "0                     1.0             1.0         1.0            2.0   \n",
              "1                     4.0             5.0         3.0            4.0   \n",
              "2                     5.0             4.0         5.0            4.0   \n",
              "3                     2.0             2.0         3.0            2.0   \n",
              "4                     4.0             4.0         3.0            3.0   \n",
              "...                   ...             ...         ...            ...   \n",
              "838561                4.0             4.0         2.0            2.0   \n",
              "838562                5.0             4.0         5.0            1.0   \n",
              "838563                4.0             4.0         4.0            2.0   \n",
              "838564                5.0             4.0         3.0            3.0   \n",
              "838565                2.0             4.0         2.0            1.0   \n",
              "\n",
              "        senior_mgmt  ceo_approv_numeric  recommend_numeric  outlook_numeric  \n",
              "0               1.0                 2.0                0.0              0.0  \n",
              "1               4.0                 1.0                1.0              1.0  \n",
              "2               5.0                 3.0                2.0              3.0  \n",
              "3               3.0                 1.0                1.0              1.0  \n",
              "4               3.0                 2.0                2.0              3.0  \n",
              "...             ...                 ...                ...              ...  \n",
              "838561          3.0                 3.0                1.0              1.0  \n",
              "838562          2.0                 2.0                1.0              1.0  \n",
              "838563          3.0                 3.0                2.0              1.0  \n",
              "838564          2.0                 0.0                2.0              1.0  \n",
              "838565          1.0                 0.0                0.0              1.0  \n",
              "\n",
              "[838566 rows x 8 columns]"
            ],
            "text/html": [
              "\n",
              "  <div id=\"df-dc1fa7d0-aefa-4b57-b214-f29909eccdce\">\n",
              "    <div class=\"colab-df-container\">\n",
              "      <div>\n",
              "<style scoped>\n",
              "    .dataframe tbody tr th:only-of-type {\n",
              "        vertical-align: middle;\n",
              "    }\n",
              "\n",
              "    .dataframe tbody tr th {\n",
              "        vertical-align: top;\n",
              "    }\n",
              "\n",
              "    .dataframe thead th {\n",
              "        text-align: right;\n",
              "    }\n",
              "</style>\n",
              "<table border=\"1\" class=\"dataframe\">\n",
              "  <thead>\n",
              "    <tr style=\"text-align: right;\">\n",
              "      <th></th>\n",
              "      <th>work_life_balance</th>\n",
              "      <th>culture_values</th>\n",
              "      <th>career_opp</th>\n",
              "      <th>comp_benefits</th>\n",
              "      <th>senior_mgmt</th>\n",
              "      <th>ceo_approv_numeric</th>\n",
              "      <th>recommend_numeric</th>\n",
              "      <th>outlook_numeric</th>\n",
              "    </tr>\n",
              "  </thead>\n",
              "  <tbody>\n",
              "    <tr>\n",
              "      <th>0</th>\n",
              "      <td>1.0</td>\n",
              "      <td>1.0</td>\n",
              "      <td>1.0</td>\n",
              "      <td>2.0</td>\n",
              "      <td>1.0</td>\n",
              "      <td>2.0</td>\n",
              "      <td>0.0</td>\n",
              "      <td>0.0</td>\n",
              "    </tr>\n",
              "    <tr>\n",
              "      <th>1</th>\n",
              "      <td>4.0</td>\n",
              "      <td>5.0</td>\n",
              "      <td>3.0</td>\n",
              "      <td>4.0</td>\n",
              "      <td>4.0</td>\n",
              "      <td>1.0</td>\n",
              "      <td>1.0</td>\n",
              "      <td>1.0</td>\n",
              "    </tr>\n",
              "    <tr>\n",
              "      <th>2</th>\n",
              "      <td>5.0</td>\n",
              "      <td>4.0</td>\n",
              "      <td>5.0</td>\n",
              "      <td>4.0</td>\n",
              "      <td>5.0</td>\n",
              "      <td>3.0</td>\n",
              "      <td>2.0</td>\n",
              "      <td>3.0</td>\n",
              "    </tr>\n",
              "    <tr>\n",
              "      <th>3</th>\n",
              "      <td>2.0</td>\n",
              "      <td>2.0</td>\n",
              "      <td>3.0</td>\n",
              "      <td>2.0</td>\n",
              "      <td>3.0</td>\n",
              "      <td>1.0</td>\n",
              "      <td>1.0</td>\n",
              "      <td>1.0</td>\n",
              "    </tr>\n",
              "    <tr>\n",
              "      <th>4</th>\n",
              "      <td>4.0</td>\n",
              "      <td>4.0</td>\n",
              "      <td>3.0</td>\n",
              "      <td>3.0</td>\n",
              "      <td>3.0</td>\n",
              "      <td>2.0</td>\n",
              "      <td>2.0</td>\n",
              "      <td>3.0</td>\n",
              "    </tr>\n",
              "    <tr>\n",
              "      <th>...</th>\n",
              "      <td>...</td>\n",
              "      <td>...</td>\n",
              "      <td>...</td>\n",
              "      <td>...</td>\n",
              "      <td>...</td>\n",
              "      <td>...</td>\n",
              "      <td>...</td>\n",
              "      <td>...</td>\n",
              "    </tr>\n",
              "    <tr>\n",
              "      <th>838561</th>\n",
              "      <td>4.0</td>\n",
              "      <td>4.0</td>\n",
              "      <td>2.0</td>\n",
              "      <td>2.0</td>\n",
              "      <td>3.0</td>\n",
              "      <td>3.0</td>\n",
              "      <td>1.0</td>\n",
              "      <td>1.0</td>\n",
              "    </tr>\n",
              "    <tr>\n",
              "      <th>838562</th>\n",
              "      <td>5.0</td>\n",
              "      <td>4.0</td>\n",
              "      <td>5.0</td>\n",
              "      <td>1.0</td>\n",
              "      <td>2.0</td>\n",
              "      <td>2.0</td>\n",
              "      <td>1.0</td>\n",
              "      <td>1.0</td>\n",
              "    </tr>\n",
              "    <tr>\n",
              "      <th>838563</th>\n",
              "      <td>4.0</td>\n",
              "      <td>4.0</td>\n",
              "      <td>4.0</td>\n",
              "      <td>2.0</td>\n",
              "      <td>3.0</td>\n",
              "      <td>3.0</td>\n",
              "      <td>2.0</td>\n",
              "      <td>1.0</td>\n",
              "    </tr>\n",
              "    <tr>\n",
              "      <th>838564</th>\n",
              "      <td>5.0</td>\n",
              "      <td>4.0</td>\n",
              "      <td>3.0</td>\n",
              "      <td>3.0</td>\n",
              "      <td>2.0</td>\n",
              "      <td>0.0</td>\n",
              "      <td>2.0</td>\n",
              "      <td>1.0</td>\n",
              "    </tr>\n",
              "    <tr>\n",
              "      <th>838565</th>\n",
              "      <td>2.0</td>\n",
              "      <td>4.0</td>\n",
              "      <td>2.0</td>\n",
              "      <td>1.0</td>\n",
              "      <td>1.0</td>\n",
              "      <td>0.0</td>\n",
              "      <td>0.0</td>\n",
              "      <td>1.0</td>\n",
              "    </tr>\n",
              "  </tbody>\n",
              "</table>\n",
              "<p>838566 rows × 8 columns</p>\n",
              "</div>\n",
              "      <button class=\"colab-df-convert\" onclick=\"convertToInteractive('df-dc1fa7d0-aefa-4b57-b214-f29909eccdce')\"\n",
              "              title=\"Convert this dataframe to an interactive table.\"\n",
              "              style=\"display:none;\">\n",
              "        \n",
              "  <svg xmlns=\"http://www.w3.org/2000/svg\" height=\"24px\"viewBox=\"0 0 24 24\"\n",
              "       width=\"24px\">\n",
              "    <path d=\"M0 0h24v24H0V0z\" fill=\"none\"/>\n",
              "    <path d=\"M18.56 5.44l.94 2.06.94-2.06 2.06-.94-2.06-.94-.94-2.06-.94 2.06-2.06.94zm-11 1L8.5 8.5l.94-2.06 2.06-.94-2.06-.94L8.5 2.5l-.94 2.06-2.06.94zm10 10l.94 2.06.94-2.06 2.06-.94-2.06-.94-.94-2.06-.94 2.06-2.06.94z\"/><path d=\"M17.41 7.96l-1.37-1.37c-.4-.4-.92-.59-1.43-.59-.52 0-1.04.2-1.43.59L10.3 9.45l-7.72 7.72c-.78.78-.78 2.05 0 2.83L4 21.41c.39.39.9.59 1.41.59.51 0 1.02-.2 1.41-.59l7.78-7.78 2.81-2.81c.8-.78.8-2.07 0-2.86zM5.41 20L4 18.59l7.72-7.72 1.47 1.35L5.41 20z\"/>\n",
              "  </svg>\n",
              "      </button>\n",
              "      \n",
              "  <style>\n",
              "    .colab-df-container {\n",
              "      display:flex;\n",
              "      flex-wrap:wrap;\n",
              "      gap: 12px;\n",
              "    }\n",
              "\n",
              "    .colab-df-convert {\n",
              "      background-color: #E8F0FE;\n",
              "      border: none;\n",
              "      border-radius: 50%;\n",
              "      cursor: pointer;\n",
              "      display: none;\n",
              "      fill: #1967D2;\n",
              "      height: 32px;\n",
              "      padding: 0 0 0 0;\n",
              "      width: 32px;\n",
              "    }\n",
              "\n",
              "    .colab-df-convert:hover {\n",
              "      background-color: #E2EBFA;\n",
              "      box-shadow: 0px 1px 2px rgba(60, 64, 67, 0.3), 0px 1px 3px 1px rgba(60, 64, 67, 0.15);\n",
              "      fill: #174EA6;\n",
              "    }\n",
              "\n",
              "    [theme=dark] .colab-df-convert {\n",
              "      background-color: #3B4455;\n",
              "      fill: #D2E3FC;\n",
              "    }\n",
              "\n",
              "    [theme=dark] .colab-df-convert:hover {\n",
              "      background-color: #434B5C;\n",
              "      box-shadow: 0px 1px 3px 1px rgba(0, 0, 0, 0.15);\n",
              "      filter: drop-shadow(0px 1px 2px rgba(0, 0, 0, 0.3));\n",
              "      fill: #FFFFFF;\n",
              "    }\n",
              "  </style>\n",
              "\n",
              "      <script>\n",
              "        const buttonEl =\n",
              "          document.querySelector('#df-dc1fa7d0-aefa-4b57-b214-f29909eccdce button.colab-df-convert');\n",
              "        buttonEl.style.display =\n",
              "          google.colab.kernel.accessAllowed ? 'block' : 'none';\n",
              "\n",
              "        async function convertToInteractive(key) {\n",
              "          const element = document.querySelector('#df-dc1fa7d0-aefa-4b57-b214-f29909eccdce');\n",
              "          const dataTable =\n",
              "            await google.colab.kernel.invokeFunction('convertToInteractive',\n",
              "                                                     [key], {});\n",
              "          if (!dataTable) return;\n",
              "\n",
              "          const docLinkHtml = 'Like what you see? Visit the ' +\n",
              "            '<a target=\"_blank\" href=https://colab.research.google.com/notebooks/data_table.ipynb>data table notebook</a>'\n",
              "            + ' to learn more about interactive tables.';\n",
              "          element.innerHTML = '';\n",
              "          dataTable['output_type'] = 'display_data';\n",
              "          await google.colab.output.renderOutput(dataTable, element);\n",
              "          const docLink = document.createElement('div');\n",
              "          docLink.innerHTML = docLinkHtml;\n",
              "          element.appendChild(docLink);\n",
              "        }\n",
              "      </script>\n",
              "    </div>\n",
              "  </div>\n",
              "  "
            ]
          },
          "metadata": {},
          "execution_count": 21
        }
      ],
      "source": [
        "X"
      ]
    },
    {
      "cell_type": "code",
      "execution_count": 26,
      "metadata": {
        "colab": {
          "base_uri": "https://localhost:8080/"
        },
        "id": "zz4RaRC4R1hJ",
        "outputId": "df0c5ed7-9f19-40c2-b9ba-98c6acfd446e"
      },
      "outputs": [
        {
          "output_type": "execute_result",
          "data": {
            "text/plain": [
              "0         1\n",
              "1         4\n",
              "2         4\n",
              "3         3\n",
              "4         4\n",
              "         ..\n",
              "838561    2\n",
              "838562    3\n",
              "838563    4\n",
              "838564    4\n",
              "838565    2\n",
              "Name: overall_rating, Length: 838566, dtype: int64"
            ]
          },
          "metadata": {},
          "execution_count": 26
        }
      ],
      "source": [
        "y"
      ]
    },
    {
      "cell_type": "code",
      "execution_count": 28,
      "metadata": {
        "id": "FsFmvO9bWX0U"
      },
      "outputs": [],
      "source": [
        "from sklearn.model_selection import train_test_split\n",
        "\n",
        "X_train, X_test, y_train, y_test = train_test_split(X, y, test_size=0.2, random_state=42)"
      ]
    },
    {
      "cell_type": "code",
      "execution_count": 30,
      "metadata": {
        "colab": {
          "base_uri": "https://localhost:8080/"
        },
        "id": "B9l9YEgDWhXK",
        "outputId": "74fc327f-ae79-4711-c731-db647cafe240"
      },
      "outputs": [
        {
          "output_type": "stream",
          "name": "stdout",
          "text": [
            "Training Accuracy Score:  0.548393684449029\n",
            "Training F1 Score:  0.5241021999383288\n",
            "Testing Accuracy Score:  0.5489464206923691\n",
            "Testing F1 Score:  0.5248825684147252\n"
          ]
        }
      ],
      "source": [
        "#Baseline Logistic Regression Model\n",
        "from sklearn.linear_model import LogisticRegression\n",
        "from sklearn.metrics import accuracy_score, precision_score, f1_score, recall_score\n",
        "\n",
        "model = LogisticRegression(multi_class='ovr')\n",
        "model.fit(X_train, y_train)\n",
        "pred = model.predict(X_test)\n",
        "train_pred = model.predict(X_train)\n",
        "\n",
        "\n",
        "\n",
        "# Baseline: 0.2 by random chance so 0.55 is actually decent\n",
        "\n",
        "print('Training Accuracy Score: ', accuracy_score(y_train, train_pred))\n",
        "print('Training F1 Score: ', f1_score(y_train, train_pred, average='weighted'))\n",
        "\n",
        "\n",
        "print('Testing Accuracy Score: ', accuracy_score(y_test, pred))\n",
        "print('Testing F1 Score: ', f1_score(y_test, pred, average='weighted'))\n"
      ]
    },
    {
      "cell_type": "code",
      "execution_count": 27,
      "metadata": {
        "id": "8fc243kvfbdt",
        "colab": {
          "base_uri": "https://localhost:8080/",
          "height": 364
        },
        "outputId": "195a9a60-cc32-4bcf-b77b-785b16218c1c"
      },
      "outputs": [
        {
          "output_type": "execute_result",
          "data": {
            "text/plain": [
              "                    work_life_balance  culture_values  career_opp  \\\n",
              "work_life_balance            1.000000        0.545670    0.415344   \n",
              "culture_values               0.545670        1.000000    0.617620   \n",
              "career_opp                   0.415344        0.617620    1.000000   \n",
              "comp_benefits                0.391664        0.496804    0.520092   \n",
              "senior_mgmt                  0.512961        0.704626    0.636450   \n",
              "ceo_approv_numeric           0.173484        0.306665    0.249942   \n",
              "recommend_numeric            0.392197        0.562605    0.509847   \n",
              "outlook_numeric              0.213914        0.368453    0.353095   \n",
              "\n",
              "                    comp_benefits  senior_mgmt  ceo_approv_numeric  \\\n",
              "work_life_balance        0.391664     0.512961            0.173484   \n",
              "culture_values           0.496804     0.704626            0.306665   \n",
              "career_opp               0.520092     0.636450            0.249942   \n",
              "comp_benefits            1.000000     0.539798            0.327364   \n",
              "senior_mgmt              0.539798     1.000000            0.381093   \n",
              "ceo_approv_numeric       0.327364     0.381093            1.000000   \n",
              "recommend_numeric        0.459481     0.589150            0.460642   \n",
              "outlook_numeric          0.378232     0.445071            0.544539   \n",
              "\n",
              "                    recommend_numeric  outlook_numeric  \n",
              "work_life_balance            0.392197         0.213914  \n",
              "culture_values               0.562605         0.368453  \n",
              "career_opp                   0.509847         0.353095  \n",
              "comp_benefits                0.459481         0.378232  \n",
              "senior_mgmt                  0.589150         0.445071  \n",
              "ceo_approv_numeric           0.460642         0.544539  \n",
              "recommend_numeric            1.000000         0.568163  \n",
              "outlook_numeric              0.568163         1.000000  "
            ],
            "text/html": [
              "\n",
              "  <div id=\"df-512ed2c9-0f30-403f-a0b8-8d7b8914e57c\">\n",
              "    <div class=\"colab-df-container\">\n",
              "      <div>\n",
              "<style scoped>\n",
              "    .dataframe tbody tr th:only-of-type {\n",
              "        vertical-align: middle;\n",
              "    }\n",
              "\n",
              "    .dataframe tbody tr th {\n",
              "        vertical-align: top;\n",
              "    }\n",
              "\n",
              "    .dataframe thead th {\n",
              "        text-align: right;\n",
              "    }\n",
              "</style>\n",
              "<table border=\"1\" class=\"dataframe\">\n",
              "  <thead>\n",
              "    <tr style=\"text-align: right;\">\n",
              "      <th></th>\n",
              "      <th>work_life_balance</th>\n",
              "      <th>culture_values</th>\n",
              "      <th>career_opp</th>\n",
              "      <th>comp_benefits</th>\n",
              "      <th>senior_mgmt</th>\n",
              "      <th>ceo_approv_numeric</th>\n",
              "      <th>recommend_numeric</th>\n",
              "      <th>outlook_numeric</th>\n",
              "    </tr>\n",
              "  </thead>\n",
              "  <tbody>\n",
              "    <tr>\n",
              "      <th>work_life_balance</th>\n",
              "      <td>1.000000</td>\n",
              "      <td>0.545670</td>\n",
              "      <td>0.415344</td>\n",
              "      <td>0.391664</td>\n",
              "      <td>0.512961</td>\n",
              "      <td>0.173484</td>\n",
              "      <td>0.392197</td>\n",
              "      <td>0.213914</td>\n",
              "    </tr>\n",
              "    <tr>\n",
              "      <th>culture_values</th>\n",
              "      <td>0.545670</td>\n",
              "      <td>1.000000</td>\n",
              "      <td>0.617620</td>\n",
              "      <td>0.496804</td>\n",
              "      <td>0.704626</td>\n",
              "      <td>0.306665</td>\n",
              "      <td>0.562605</td>\n",
              "      <td>0.368453</td>\n",
              "    </tr>\n",
              "    <tr>\n",
              "      <th>career_opp</th>\n",
              "      <td>0.415344</td>\n",
              "      <td>0.617620</td>\n",
              "      <td>1.000000</td>\n",
              "      <td>0.520092</td>\n",
              "      <td>0.636450</td>\n",
              "      <td>0.249942</td>\n",
              "      <td>0.509847</td>\n",
              "      <td>0.353095</td>\n",
              "    </tr>\n",
              "    <tr>\n",
              "      <th>comp_benefits</th>\n",
              "      <td>0.391664</td>\n",
              "      <td>0.496804</td>\n",
              "      <td>0.520092</td>\n",
              "      <td>1.000000</td>\n",
              "      <td>0.539798</td>\n",
              "      <td>0.327364</td>\n",
              "      <td>0.459481</td>\n",
              "      <td>0.378232</td>\n",
              "    </tr>\n",
              "    <tr>\n",
              "      <th>senior_mgmt</th>\n",
              "      <td>0.512961</td>\n",
              "      <td>0.704626</td>\n",
              "      <td>0.636450</td>\n",
              "      <td>0.539798</td>\n",
              "      <td>1.000000</td>\n",
              "      <td>0.381093</td>\n",
              "      <td>0.589150</td>\n",
              "      <td>0.445071</td>\n",
              "    </tr>\n",
              "    <tr>\n",
              "      <th>ceo_approv_numeric</th>\n",
              "      <td>0.173484</td>\n",
              "      <td>0.306665</td>\n",
              "      <td>0.249942</td>\n",
              "      <td>0.327364</td>\n",
              "      <td>0.381093</td>\n",
              "      <td>1.000000</td>\n",
              "      <td>0.460642</td>\n",
              "      <td>0.544539</td>\n",
              "    </tr>\n",
              "    <tr>\n",
              "      <th>recommend_numeric</th>\n",
              "      <td>0.392197</td>\n",
              "      <td>0.562605</td>\n",
              "      <td>0.509847</td>\n",
              "      <td>0.459481</td>\n",
              "      <td>0.589150</td>\n",
              "      <td>0.460642</td>\n",
              "      <td>1.000000</td>\n",
              "      <td>0.568163</td>\n",
              "    </tr>\n",
              "    <tr>\n",
              "      <th>outlook_numeric</th>\n",
              "      <td>0.213914</td>\n",
              "      <td>0.368453</td>\n",
              "      <td>0.353095</td>\n",
              "      <td>0.378232</td>\n",
              "      <td>0.445071</td>\n",
              "      <td>0.544539</td>\n",
              "      <td>0.568163</td>\n",
              "      <td>1.000000</td>\n",
              "    </tr>\n",
              "  </tbody>\n",
              "</table>\n",
              "</div>\n",
              "      <button class=\"colab-df-convert\" onclick=\"convertToInteractive('df-512ed2c9-0f30-403f-a0b8-8d7b8914e57c')\"\n",
              "              title=\"Convert this dataframe to an interactive table.\"\n",
              "              style=\"display:none;\">\n",
              "        \n",
              "  <svg xmlns=\"http://www.w3.org/2000/svg\" height=\"24px\"viewBox=\"0 0 24 24\"\n",
              "       width=\"24px\">\n",
              "    <path d=\"M0 0h24v24H0V0z\" fill=\"none\"/>\n",
              "    <path d=\"M18.56 5.44l.94 2.06.94-2.06 2.06-.94-2.06-.94-.94-2.06-.94 2.06-2.06.94zm-11 1L8.5 8.5l.94-2.06 2.06-.94-2.06-.94L8.5 2.5l-.94 2.06-2.06.94zm10 10l.94 2.06.94-2.06 2.06-.94-2.06-.94-.94-2.06-.94 2.06-2.06.94z\"/><path d=\"M17.41 7.96l-1.37-1.37c-.4-.4-.92-.59-1.43-.59-.52 0-1.04.2-1.43.59L10.3 9.45l-7.72 7.72c-.78.78-.78 2.05 0 2.83L4 21.41c.39.39.9.59 1.41.59.51 0 1.02-.2 1.41-.59l7.78-7.78 2.81-2.81c.8-.78.8-2.07 0-2.86zM5.41 20L4 18.59l7.72-7.72 1.47 1.35L5.41 20z\"/>\n",
              "  </svg>\n",
              "      </button>\n",
              "      \n",
              "  <style>\n",
              "    .colab-df-container {\n",
              "      display:flex;\n",
              "      flex-wrap:wrap;\n",
              "      gap: 12px;\n",
              "    }\n",
              "\n",
              "    .colab-df-convert {\n",
              "      background-color: #E8F0FE;\n",
              "      border: none;\n",
              "      border-radius: 50%;\n",
              "      cursor: pointer;\n",
              "      display: none;\n",
              "      fill: #1967D2;\n",
              "      height: 32px;\n",
              "      padding: 0 0 0 0;\n",
              "      width: 32px;\n",
              "    }\n",
              "\n",
              "    .colab-df-convert:hover {\n",
              "      background-color: #E2EBFA;\n",
              "      box-shadow: 0px 1px 2px rgba(60, 64, 67, 0.3), 0px 1px 3px 1px rgba(60, 64, 67, 0.15);\n",
              "      fill: #174EA6;\n",
              "    }\n",
              "\n",
              "    [theme=dark] .colab-df-convert {\n",
              "      background-color: #3B4455;\n",
              "      fill: #D2E3FC;\n",
              "    }\n",
              "\n",
              "    [theme=dark] .colab-df-convert:hover {\n",
              "      background-color: #434B5C;\n",
              "      box-shadow: 0px 1px 3px 1px rgba(0, 0, 0, 0.15);\n",
              "      filter: drop-shadow(0px 1px 2px rgba(0, 0, 0, 0.3));\n",
              "      fill: #FFFFFF;\n",
              "    }\n",
              "  </style>\n",
              "\n",
              "      <script>\n",
              "        const buttonEl =\n",
              "          document.querySelector('#df-512ed2c9-0f30-403f-a0b8-8d7b8914e57c button.colab-df-convert');\n",
              "        buttonEl.style.display =\n",
              "          google.colab.kernel.accessAllowed ? 'block' : 'none';\n",
              "\n",
              "        async function convertToInteractive(key) {\n",
              "          const element = document.querySelector('#df-512ed2c9-0f30-403f-a0b8-8d7b8914e57c');\n",
              "          const dataTable =\n",
              "            await google.colab.kernel.invokeFunction('convertToInteractive',\n",
              "                                                     [key], {});\n",
              "          if (!dataTable) return;\n",
              "\n",
              "          const docLinkHtml = 'Like what you see? Visit the ' +\n",
              "            '<a target=\"_blank\" href=https://colab.research.google.com/notebooks/data_table.ipynb>data table notebook</a>'\n",
              "            + ' to learn more about interactive tables.';\n",
              "          element.innerHTML = '';\n",
              "          dataTable['output_type'] = 'display_data';\n",
              "          await google.colab.output.renderOutput(dataTable, element);\n",
              "          const docLink = document.createElement('div');\n",
              "          docLink.innerHTML = docLinkHtml;\n",
              "          element.appendChild(docLink);\n",
              "        }\n",
              "      </script>\n",
              "    </div>\n",
              "  </div>\n",
              "  "
            ]
          },
          "metadata": {},
          "execution_count": 27
        }
      ],
      "source": [
        "# senior_mgmt has strong correlations with ceo_approval and culture_values, so we will remove it as a feature\n",
        "X.corr()"
      ]
    },
    {
      "cell_type": "code",
      "execution_count": 31,
      "metadata": {
        "colab": {
          "base_uri": "https://localhost:8080/"
        },
        "id": "wNtPFrtSZCfr",
        "outputId": "8bac8b9f-c8a2-4add-db11-d535238c2ce1"
      },
      "outputs": [
        {
          "output_type": "stream",
          "name": "stdout",
          "text": [
            "Training Accuracy Score:  0.5860949956175132\n",
            "Training F1 Score:  0.5804457031208463\n",
            "Testing Accuracy Score:  0.5856636893759615\n",
            "Testing F1 Score:  0.5801484994990115\n"
          ]
        }
      ],
      "source": [
        "#project_df.drop(['senior_mgmt'], axis=1, inplace=True)\n",
        "# Slightly improved model with fewer collinear features and more suitable solver\n",
        "\n",
        "model = LogisticRegression(multi_class='multinomial',solver='sag')\n",
        "model.fit(X_train, y_train)\n",
        "pred = model.predict(X_test)\n",
        "train_pred = model.predict(X_train)\n",
        "\n",
        "\n",
        "\n",
        "# Baseline: 0.2 by random chance so 0.585 is good\n",
        "\n",
        "print('Training Accuracy Score: ', accuracy_score(y_train, train_pred))\n",
        "print('Training F1 Score: ', f1_score(y_train, train_pred, average='weighted'))\n",
        "\n",
        "\n",
        "print('Testing Accuracy Score: ', accuracy_score(y_test, pred))\n",
        "print('Testing F1 Score: ', f1_score(y_test, pred, average='weighted'))"
      ]
    },
    {
      "cell_type": "code",
      "execution_count": 32,
      "metadata": {
        "id": "Pz3du4nnWxGt",
        "colab": {
          "base_uri": "https://localhost:8080/"
        },
        "outputId": "3482361f-b81a-41b5-8401-0d375af0f7a2"
      },
      "outputs": [
        {
          "output_type": "execute_result",
          "data": {
            "text/plain": [
              "array([1, 2, 3, 4, 5])"
            ]
          },
          "metadata": {},
          "execution_count": 32
        }
      ],
      "source": [
        "model.classes_"
      ]
    },
    {
      "cell_type": "code",
      "execution_count": null,
      "metadata": {
        "id": "sR4xTqIdwQAl"
      },
      "outputs": [],
      "source": [
        "#Splits the data into training and testing sets (20% for testing)\n",
        "X_train, X_test, y_train, y_test = train_test_split(X, y, test_size=0.2, random_state=42)"
      ]
    },
    {
      "cell_type": "code",
      "execution_count": null,
      "metadata": {
        "id": "ZqiMcbfU5Cjc"
      },
      "outputs": [],
      "source": [
        "#Feature Normalization \n",
        "from sklearn.preprocessing import StandardScaler\n",
        "modeling_feature_normalizer = StandardScaler()\n",
        "X_train_normalized = modeling_feature_normalizer.fit_transform(X_train)"
      ]
    },
    {
      "cell_type": "code",
      "source": [
        "#XG Boost Algorithm"
      ],
      "metadata": {
        "id": "63u4HveGMjX6"
      },
      "execution_count": null,
      "outputs": []
    },
    {
      "cell_type": "code",
      "source": [
        "#!pip install xgboost"
      ],
      "metadata": {
        "id": "Ciu9P3HECF5z"
      },
      "execution_count": null,
      "outputs": []
    },
    {
      "cell_type": "code",
      "source": [
        "from xgboost import XGBClassifier\n",
        "\n",
        "clf = XGBClassifier()\n",
        "clf.fit(X_train, y_train)\n",
        "\n",
        "#X_test_normalized = modeling_feature_normalizer.fit_transform(X_test)\n",
        "y_pred = clf.predict(X_test)\n",
        "y_train_pred = clf.predict(X_train)\n",
        "\n",
        "# print('Training Accuracy Score: ', accuracy_score(y_train, y_train_pred))\n",
        "# print('Training F1 Score: ', f1_score(y_train, y_train_pred, average='weighted'))\n",
        "\n",
        "print('Training Accuracy Score: ', accuracy_score(y_train, y_train_pred))\n",
        "print('Training F1 Score: ', f1_score(y_train, y_train_pred, average='weighted'))\n",
        "\n",
        "print('Testing Accuracy Score: ', accuracy_score(y_test, y_pred))\n",
        "print('Testing F1 Score: ', f1_score(y_test, y_pred, average='weighted'))\n",
        "print('Testing Recall Score: ', recall_score(y_test, y_pred,  average='weighted'))\n",
        "print('Testing Precision Score: ', precision_score(y_test, y_pred, average='weighted'))"
      ],
      "metadata": {
        "colab": {
          "base_uri": "https://localhost:8080/"
        },
        "id": "QM4OTYr3CLjM",
        "outputId": "1b6654da-c893-443c-9aab-4ae0febde344"
      },
      "execution_count": null,
      "outputs": [
        {
          "output_type": "stream",
          "name": "stdout",
          "text": [
            "Training Accuracy Score:  0.6076198625032049\n",
            "Training F1 Score:  0.6055553646960531\n",
            "Testing Accuracy Score:  0.6069737767866725\n",
            "Testing F1 Score:  0.604824768615506\n",
            "Testing Recall Score:  0.6069737767866725\n",
            "Testing Precision Score:  0.6294388732183926\n"
          ]
        }
      ]
    },
    {
      "cell_type": "code",
      "source": [
        "from sklearn.model_selection import RandomizedSearchCV\n",
        "\n",
        "# Hyper Parameter Optimization\n",
        "# Found optimal hyperparameters using RandomizedSearchCV - ran externally on a AWS EC2 cluster\n",
        "# Accuracy seems to max out at around 0.605 \n",
        "# Next steps: explore different classifier types - 'dart', 'xglinear' etc. as well as more hyperparameter options\n",
        "# Further optimizations: Run RandomizedSearchCV on a sample of the dataset instead of the whole thing to save time.\n",
        "# TODO: Experiment with removing more features, and normalizing the most skewed ones\n",
        "\n",
        "\n",
        "clf = XGBClassifier(max_depth=5, learning_rate=0.2, n_estimators=80, reg_lambda=0.3)\n",
        "clf.fit(X_train, y_train)\n",
        "\n",
        "y_pred = clf.predict(X_test)\n",
        "y_train_pred = clf.predict(X_train)\n",
        "\n",
        "print('Training Accuracy Score: ', accuracy_score(y_train, y_train_pred))\n",
        "print('Training F1 Score: ', f1_score(y_train, y_train_pred, average='weighted'))\n",
        "\n",
        "\n",
        "print('Testing Accuracy Score: ', accuracy_score(y_test, y_pred))\n",
        "print('Testing F1 Score: ', f1_score(y_test, y_pred, average='weighted'))\n",
        "print('Testing Recall Score: ', recall_score(y_test, y_pred,  average='weighted'))\n",
        "print('Testing Precision Score: ', precision_score(y_test, y_pred, average='weighted'))"
      ],
      "metadata": {
        "colab": {
          "base_uri": "https://localhost:8080/"
        },
        "id": "ICACE694E8xj",
        "outputId": "bbb8090a-d40a-4a81-d794-b970d50f4c77"
      },
      "execution_count": null,
      "outputs": [
        {
          "output_type": "stream",
          "name": "stdout",
          "text": [
            "Training Accuracy Score:  0.613795591277957\n",
            "Training F1 Score:  0.6129563948395174\n",
            "Testing Accuracy Score:  0.610879234887964\n",
            "Testing F1 Score:  0.609946496140654\n",
            "Testing Recall Score:  0.610879234887964\n",
            "Testing Precision Score:  0.6310494587626773\n"
          ]
        }
      ]
    },
    {
      "cell_type": "code",
      "source": [
        "#Feature Importances\n",
        "clf.feature_importances_"
      ],
      "metadata": {
        "colab": {
          "base_uri": "https://localhost:8080/"
        },
        "id": "8o0GGgo6yzE5",
        "outputId": "450c4cd5-8e23-488b-a71d-8bc1c5ec3dda"
      },
      "execution_count": null,
      "outputs": [
        {
          "output_type": "execute_result",
          "data": {
            "text/plain": [
              "array([0.04158537, 0.31338054, 0.18610427, 0.05401601, 0.01468488,\n",
              "       0.36809212, 0.02213687], dtype=float32)"
            ]
          },
          "metadata": {},
          "execution_count": 32
        }
      ]
    },
    {
      "cell_type": "code",
      "source": [
        "X_train.columns"
      ],
      "metadata": {
        "colab": {
          "base_uri": "https://localhost:8080/"
        },
        "id": "O12MJ2TU5PId",
        "outputId": "cfb377b7-adcf-4f69-d39d-7dd7c35b13fc"
      },
      "execution_count": null,
      "outputs": [
        {
          "output_type": "execute_result",
          "data": {
            "text/plain": [
              "Index(['work_life_balance', 'culture_values', 'career_opp', 'comp_benefits',\n",
              "       'ceo_approv_numeric', 'recommend_numeric', 'outlook_numeric'],\n",
              "      dtype='object')"
            ]
          },
          "metadata": {},
          "execution_count": 33
        }
      ]
    },
    {
      "cell_type": "code",
      "source": [
        "#Plotting the Feature Importances\n",
        "plt.barh(X_train.columns, list(clf.feature_importances_), color='orange')\n",
        "plt.xlabel(\"Feature importance\")\n",
        "plt.ylabel(\"Feature\")\n",
        "plt.title(\"Feature Importances in XGBoost Classification of Overall Job Approval\")"
      ],
      "metadata": {
        "colab": {
          "base_uri": "https://localhost:8080/",
          "height": 313
        },
        "id": "PSZg-XsV5SkO",
        "outputId": "04a3159f-bb75-42c2-bc53-f57458a19836"
      },
      "execution_count": null,
      "outputs": [
        {
          "output_type": "execute_result",
          "data": {
            "text/plain": [
              "Text(0.5, 1.0, 'Feature Importances in XGBoost Classification of Overall Job Approval')"
            ]
          },
          "metadata": {},
          "execution_count": 44
        },
        {
          "output_type": "display_data",
          "data": {
            "text/plain": [
              "<Figure size 432x288 with 1 Axes>"
            ],
            "image/png": "[encoded data removed]"
          },
          "metadata": {
            "needs_background": "light"
          }
        }
      ]
    },
    {
      "cell_type": "code",
      "source": [
        "#MLP Classifier\n",
        "from sklearn.neural_network import MLPClassifier\n",
        "\n",
        "\n",
        "# Baseline Neural Network\n",
        "mlp_classifier  = MLPClassifier(random_state=42)\n",
        "mlp_classifier.fit(X_train, y_train)\n",
        "\n",
        "y_pred = mlp_classifier.predict(X_test)\n",
        "y_train_pred = clf.predict(X_train)\n",
        "\n",
        "print('Training Accuracy Score: ', accuracy_score(y_train, y_train_pred))\n",
        "print('Training F1 Score: ', f1_score(y_train, y_train_pred, average='weighted'))\n",
        "\n",
        "\n",
        "print('Testing Accuracy Score: ', accuracy_score(y_test, y_pred))\n",
        "print('Testing F1 Score: ', f1_score(y_test, y_pred, average='weighted'))\n",
        "print('Testing Recall Score: ', recall_score(y_test, y_pred,  average='weighted'))\n",
        "print('Testing Precision Score: ', precision_score(y_test, y_pred, average='weighted'))\n"
      ],
      "metadata": {
        "colab": {
          "base_uri": "https://localhost:8080/"
        },
        "id": "vj5HtGIy8Uqr",
        "outputId": "94ea899d-df9d-4d2b-9c32-2587409fced7"
      },
      "execution_count": null,
      "outputs": [
        {
          "output_type": "stream",
          "name": "stdout",
          "text": [
            "Training Accuracy Score:  0.6043851699033468\n",
            "Training F1 Score:  0.603265885163487\n",
            "Testing Accuracy Score:  0.6007488939504156\n",
            "Testing F1 Score:  0.6002469161750815\n",
            "Testing Recall Score:  0.6007488939504156\n",
            "Testing Precision Score:  0.6179291161778434\n"
          ]
        }
      ]
    },
    {
      "cell_type": "code",
      "source": [
        "# Neural Network with Tuned Solver\n",
        "mlp_classifier  = MLPClassifier(random_state=42, solver='sgd')\n",
        "mlp_classifier.fit(X_train, y_train)\n",
        "\n",
        "y_pred = mlp_classifier.predict(X_test)\n",
        "y_train_pred = clf.predict(X_train)\n",
        "\n",
        "print('Training Accuracy Score: ', accuracy_score(y_train, y_train_pred))\n",
        "print('Training F1 Score: ', f1_score(y_train, y_train_pred, average='weighted'))\n",
        "\n",
        "\n",
        "print('Testing Accuracy Score: ', accuracy_score(y_test, y_pred))\n",
        "print('Testing F1 Score: ', f1_score(y_test, y_pred, average='weighted'))\n"
      ],
      "metadata": {
        "colab": {
          "base_uri": "https://localhost:8080/"
        },
        "id": "m9ikUPKbH7TI",
        "outputId": "50506ca8-dfa4-40e2-fca8-82be1f9a15d4"
      },
      "execution_count": null,
      "outputs": [
        {
          "output_type": "stream",
          "name": "stdout",
          "text": [
            "Training Accuracy Score:  0.613795591277957\n",
            "Training F1 Score:  0.6129563948395174\n",
            "Testing Accuracy Score:  0.6088221615369022\n",
            "Testing F1 Score:  0.6089455207260847\n"
          ]
        }
      ]
    }
  ],
  "metadata": {
    "colab": {
      "collapsed_sections": [
        "-iFcxHPnQQp0",
        "1fCjcnBRQQp0"
      ],
      "provenance": []
    },
    "kernelspec": {
      "display_name": "Python 3 (ipykernel)",
      "language": "python",
      "name": "python3"
    },
    "language_info": {
      "codemirror_mode": {
        "name": "ipython",
        "version": 3
      },
      "file_extension": ".py",
      "mimetype": "text/x-python",
      "name": "python",
      "nbconvert_exporter": "python",
      "pygments_lexer": "ipython3",
      "version": "3.9.12"
    }
  },
  "nbformat": 4,
  "nbformat_minor": 0
}