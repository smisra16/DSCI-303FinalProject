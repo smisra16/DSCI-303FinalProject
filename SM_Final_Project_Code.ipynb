{
  "cells": [
    {
      "cell_type": "code",
      "execution_count": null,
      "id": "23c3eca0",
      "metadata": {
        "id": "23c3eca0"
      },
      "outputs": [],
      "source": [
        "#Data Pre-Processing - Imports Necessary Libraries\n",
        "import pandas as pd\n",
        "import seaborn as sns\n",
        "import matplotlib.pyplot as plt\n",
        "import math\n",
        "import numpy as np"
      ]
    },
    {
      "cell_type": "code",
      "execution_count": null,
      "id": "3a502e9b",
      "metadata": {
        "id": "3a502e9b",
        "outputId": "29ec1848-e5be-4440-939c-1c2fbcb1385a"
      },
      "outputs": [
        {
          "data": {
            "text/html": [
              "<div>\n",
              "<style scoped>\n",
              "    .dataframe tbody tr th:only-of-type {\n",
              "        vertical-align: middle;\n",
              "    }\n",
              "\n",
              "    .dataframe tbody tr th {\n",
              "        vertical-align: top;\n",
              "    }\n",
              "\n",
              "    .dataframe thead th {\n",
              "        text-align: right;\n",
              "    }\n",
              "</style>\n",
              "<table border=\"1\" class=\"dataframe\">\n",
              "  <thead>\n",
              "    <tr style=\"text-align: right;\">\n",
              "      <th></th>\n",
              "      <th>Unnamed: 0</th>\n",
              "      <th>column_label</th>\n",
              "      <th>firm</th>\n",
              "      <th>date_review</th>\n",
              "      <th>job_title</th>\n",
              "      <th>current</th>\n",
              "      <th>location</th>\n",
              "      <th>overall_rating</th>\n",
              "      <th>work_life_balance</th>\n",
              "      <th>culture_values</th>\n",
              "      <th>...</th>\n",
              "      <th>career_opp</th>\n",
              "      <th>comp_benefits</th>\n",
              "      <th>senior_mgmt</th>\n",
              "      <th>recommend</th>\n",
              "      <th>ceo_approv</th>\n",
              "      <th>outlook</th>\n",
              "      <th>headline</th>\n",
              "      <th>pros</th>\n",
              "      <th>cons</th>\n",
              "      <th>use</th>\n",
              "    </tr>\n",
              "  </thead>\n",
              "  <tbody>\n",
              "    <tr>\n",
              "      <th>0</th>\n",
              "      <td>1</td>\n",
              "      <td>1</td>\n",
              "      <td>Sotheby-s</td>\n",
              "      <td>2021-05-25</td>\n",
              "      <td>Financial Analyst</td>\n",
              "      <td>Former Employee, more than 1 year</td>\n",
              "      <td>New York, NY</td>\n",
              "      <td>1</td>\n",
              "      <td>1.0</td>\n",
              "      <td>1.0</td>\n",
              "      <td>...</td>\n",
              "      <td>1.0</td>\n",
              "      <td>2.0</td>\n",
              "      <td>1.0</td>\n",
              "      <td>x</td>\n",
              "      <td>r</td>\n",
              "      <td>x</td>\n",
              "      <td>Don't do it</td>\n",
              "      <td>People in leadership roles have been there for...</td>\n",
              "      <td>Pressure to do whatever the leaders want\\r\\nNo...</td>\n",
              "      <td>NaN</td>\n",
              "    </tr>\n",
              "    <tr>\n",
              "      <th>1</th>\n",
              "      <td>2</td>\n",
              "      <td>1</td>\n",
              "      <td>Sotheby-s</td>\n",
              "      <td>2021-05-25</td>\n",
              "      <td>Administrator</td>\n",
              "      <td>Former Employee</td>\n",
              "      <td>Hong Kong</td>\n",
              "      <td>4</td>\n",
              "      <td>4.0</td>\n",
              "      <td>5.0</td>\n",
              "      <td>...</td>\n",
              "      <td>3.0</td>\n",
              "      <td>4.0</td>\n",
              "      <td>4.0</td>\n",
              "      <td>o</td>\n",
              "      <td>o</td>\n",
              "      <td>o</td>\n",
              "      <td>international auction house</td>\n",
              "      <td>great exposure, respectful environment and bea...</td>\n",
              "      <td>OT during peak seasons and often underpaid</td>\n",
              "      <td>NaN</td>\n",
              "    </tr>\n",
              "    <tr>\n",
              "      <th>2</th>\n",
              "      <td>3</td>\n",
              "      <td>1</td>\n",
              "      <td>Sotheby-s</td>\n",
              "      <td>2021-05-24</td>\n",
              "      <td>Client Services Representative</td>\n",
              "      <td>Former Employee, more than 1 year</td>\n",
              "      <td>London, England, England</td>\n",
              "      <td>4</td>\n",
              "      <td>5.0</td>\n",
              "      <td>4.0</td>\n",
              "      <td>...</td>\n",
              "      <td>5.0</td>\n",
              "      <td>4.0</td>\n",
              "      <td>5.0</td>\n",
              "      <td>v</td>\n",
              "      <td>v</td>\n",
              "      <td>v</td>\n",
              "      <td>Fast-paced, difficult and rewarding</td>\n",
              "      <td>Good team, support and training</td>\n",
              "      <td>High-stress with relatively low conpensation</td>\n",
              "      <td>NaN</td>\n",
              "    </tr>\n",
              "    <tr>\n",
              "      <th>3</th>\n",
              "      <td>4</td>\n",
              "      <td>1</td>\n",
              "      <td>Sotheby-s</td>\n",
              "      <td>2021-05-22</td>\n",
              "      <td>Anonymous Employee</td>\n",
              "      <td>Current Employee</td>\n",
              "      <td>Hong Kong</td>\n",
              "      <td>3</td>\n",
              "      <td>2.0</td>\n",
              "      <td>2.0</td>\n",
              "      <td>...</td>\n",
              "      <td>3.0</td>\n",
              "      <td>2.0</td>\n",
              "      <td>3.0</td>\n",
              "      <td>o</td>\n",
              "      <td>o</td>\n",
              "      <td>o</td>\n",
              "      <td>Review</td>\n",
              "      <td>Exposure to artworks, great team of specialists</td>\n",
              "      <td>Work life balance, company culture</td>\n",
              "      <td>NaN</td>\n",
              "    </tr>\n",
              "    <tr>\n",
              "      <th>4</th>\n",
              "      <td>5</td>\n",
              "      <td>1</td>\n",
              "      <td>Sotheby-s</td>\n",
              "      <td>2021-05-15</td>\n",
              "      <td>Administrator</td>\n",
              "      <td>Current Employee, less than 1 year</td>\n",
              "      <td>London, England, England</td>\n",
              "      <td>4</td>\n",
              "      <td>4.0</td>\n",
              "      <td>4.0</td>\n",
              "      <td>...</td>\n",
              "      <td>3.0</td>\n",
              "      <td>3.0</td>\n",
              "      <td>3.0</td>\n",
              "      <td>v</td>\n",
              "      <td>r</td>\n",
              "      <td>v</td>\n",
              "      <td>Fun job and nice people but huge workload and ...</td>\n",
              "      <td>Fantastic art, nice enthusiastic people and a ...</td>\n",
              "      <td>Very low pay and huge workload</td>\n",
              "      <td>NaN</td>\n",
              "    </tr>\n",
              "  </tbody>\n",
              "</table>\n",
              "<p>5 rows × 21 columns</p>\n",
              "</div>"
            ],
            "text/plain": [
              "   Unnamed: 0  column_label       firm date_review  \\\n",
              "0           1             1  Sotheby-s  2021-05-25   \n",
              "1           2             1  Sotheby-s  2021-05-25   \n",
              "2           3             1  Sotheby-s  2021-05-24   \n",
              "3           4             1  Sotheby-s  2021-05-22   \n",
              "4           5             1  Sotheby-s  2021-05-15   \n",
              "\n",
              "                         job_title                             current  \\\n",
              "0                Financial Analyst   Former Employee, more than 1 year   \n",
              "1                    Administrator                     Former Employee   \n",
              "2   Client Services Representative   Former Employee, more than 1 year   \n",
              "3               Anonymous Employee                    Current Employee   \n",
              "4                    Administrator  Current Employee, less than 1 year   \n",
              "\n",
              "                   location  overall_rating  work_life_balance  \\\n",
              "0              New York, NY               1                1.0   \n",
              "1                 Hong Kong               4                4.0   \n",
              "2  London, England, England               4                5.0   \n",
              "3                 Hong Kong               3                2.0   \n",
              "4  London, England, England               4                4.0   \n",
              "\n",
              "   culture_values  ...  career_opp  comp_benefits  senior_mgmt  recommend  \\\n",
              "0             1.0  ...         1.0            2.0          1.0          x   \n",
              "1             5.0  ...         3.0            4.0          4.0          o   \n",
              "2             4.0  ...         5.0            4.0          5.0          v   \n",
              "3             2.0  ...         3.0            2.0          3.0          o   \n",
              "4             4.0  ...         3.0            3.0          3.0          v   \n",
              "\n",
              "  ceo_approv outlook                                           headline  \\\n",
              "0          r       x                                        Don't do it   \n",
              "1          o       o                        international auction house   \n",
              "2          v       v                Fast-paced, difficult and rewarding   \n",
              "3          o       o                                             Review   \n",
              "4          r       v  Fun job and nice people but huge workload and ...   \n",
              "\n",
              "                                                pros  \\\n",
              "0  People in leadership roles have been there for...   \n",
              "1  great exposure, respectful environment and bea...   \n",
              "2                    Good team, support and training   \n",
              "3    Exposure to artworks, great team of specialists   \n",
              "4  Fantastic art, nice enthusiastic people and a ...   \n",
              "\n",
              "                                                cons use  \n",
              "0  Pressure to do whatever the leaders want\\r\\nNo... NaN  \n",
              "1         OT during peak seasons and often underpaid NaN  \n",
              "2       High-stress with relatively low conpensation NaN  \n",
              "3                 Work life balance, company culture NaN  \n",
              "4                     Very low pay and huge workload NaN  \n",
              "\n",
              "[5 rows x 21 columns]"
            ]
          },
          "execution_count": 2,
          "metadata": {},
          "output_type": "execute_result"
        }
      ],
      "source": [
        "project_df = pd.read_csv('glassdoor_reviews.csv')\n",
        "project_df.head()"
      ]
    },
    {
      "cell_type": "code",
      "execution_count": null,
      "id": "7e72500f",
      "metadata": {
        "id": "7e72500f",
        "outputId": "488771bf-62ba-4025-a41c-506513f8c417"
      },
      "outputs": [
        {
          "data": {
            "text/html": [
              "<div>\n",
              "<style scoped>\n",
              "    .dataframe tbody tr th:only-of-type {\n",
              "        vertical-align: middle;\n",
              "    }\n",
              "\n",
              "    .dataframe tbody tr th {\n",
              "        vertical-align: top;\n",
              "    }\n",
              "\n",
              "    .dataframe thead th {\n",
              "        text-align: right;\n",
              "    }\n",
              "</style>\n",
              "<table border=\"1\" class=\"dataframe\">\n",
              "  <thead>\n",
              "    <tr style=\"text-align: right;\">\n",
              "      <th></th>\n",
              "      <th>Unnamed: 0</th>\n",
              "      <th>column_label</th>\n",
              "      <th>firm</th>\n",
              "      <th>date_review</th>\n",
              "      <th>job_title</th>\n",
              "      <th>current</th>\n",
              "      <th>location</th>\n",
              "      <th>work_life_balance</th>\n",
              "      <th>culture_values</th>\n",
              "      <th>diversity_inclusion</th>\n",
              "      <th>...</th>\n",
              "      <th>comp_benefits</th>\n",
              "      <th>senior_mgmt</th>\n",
              "      <th>recommend</th>\n",
              "      <th>ceo_approv</th>\n",
              "      <th>outlook</th>\n",
              "      <th>headline</th>\n",
              "      <th>pros</th>\n",
              "      <th>cons</th>\n",
              "      <th>use</th>\n",
              "      <th>overall_rating</th>\n",
              "    </tr>\n",
              "  </thead>\n",
              "  <tbody>\n",
              "    <tr>\n",
              "      <th>0</th>\n",
              "      <td>1</td>\n",
              "      <td>1</td>\n",
              "      <td>Sotheby-s</td>\n",
              "      <td>2021-05-25</td>\n",
              "      <td>Financial Analyst</td>\n",
              "      <td>Former Employee, more than 1 year</td>\n",
              "      <td>New York, NY</td>\n",
              "      <td>1.0</td>\n",
              "      <td>1.0</td>\n",
              "      <td>1.0</td>\n",
              "      <td>...</td>\n",
              "      <td>2.0</td>\n",
              "      <td>1.0</td>\n",
              "      <td>x</td>\n",
              "      <td>r</td>\n",
              "      <td>x</td>\n",
              "      <td>Don't do it</td>\n",
              "      <td>People in leadership roles have been there for...</td>\n",
              "      <td>Pressure to do whatever the leaders want\\r\\nNo...</td>\n",
              "      <td>NaN</td>\n",
              "      <td>1</td>\n",
              "    </tr>\n",
              "    <tr>\n",
              "      <th>1</th>\n",
              "      <td>2</td>\n",
              "      <td>1</td>\n",
              "      <td>Sotheby-s</td>\n",
              "      <td>2021-05-25</td>\n",
              "      <td>Administrator</td>\n",
              "      <td>Former Employee</td>\n",
              "      <td>Hong Kong</td>\n",
              "      <td>4.0</td>\n",
              "      <td>5.0</td>\n",
              "      <td>4.0</td>\n",
              "      <td>...</td>\n",
              "      <td>4.0</td>\n",
              "      <td>4.0</td>\n",
              "      <td>o</td>\n",
              "      <td>o</td>\n",
              "      <td>o</td>\n",
              "      <td>international auction house</td>\n",
              "      <td>great exposure, respectful environment and bea...</td>\n",
              "      <td>OT during peak seasons and often underpaid</td>\n",
              "      <td>NaN</td>\n",
              "      <td>4</td>\n",
              "    </tr>\n",
              "    <tr>\n",
              "      <th>2</th>\n",
              "      <td>3</td>\n",
              "      <td>1</td>\n",
              "      <td>Sotheby-s</td>\n",
              "      <td>2021-05-24</td>\n",
              "      <td>Client Services Representative</td>\n",
              "      <td>Former Employee, more than 1 year</td>\n",
              "      <td>London, England, England</td>\n",
              "      <td>5.0</td>\n",
              "      <td>4.0</td>\n",
              "      <td>4.0</td>\n",
              "      <td>...</td>\n",
              "      <td>4.0</td>\n",
              "      <td>5.0</td>\n",
              "      <td>v</td>\n",
              "      <td>v</td>\n",
              "      <td>v</td>\n",
              "      <td>Fast-paced, difficult and rewarding</td>\n",
              "      <td>Good team, support and training</td>\n",
              "      <td>High-stress with relatively low conpensation</td>\n",
              "      <td>NaN</td>\n",
              "      <td>4</td>\n",
              "    </tr>\n",
              "    <tr>\n",
              "      <th>3</th>\n",
              "      <td>4</td>\n",
              "      <td>1</td>\n",
              "      <td>Sotheby-s</td>\n",
              "      <td>2021-05-22</td>\n",
              "      <td>Anonymous Employee</td>\n",
              "      <td>Current Employee</td>\n",
              "      <td>Hong Kong</td>\n",
              "      <td>2.0</td>\n",
              "      <td>2.0</td>\n",
              "      <td>3.0</td>\n",
              "      <td>...</td>\n",
              "      <td>2.0</td>\n",
              "      <td>3.0</td>\n",
              "      <td>o</td>\n",
              "      <td>o</td>\n",
              "      <td>o</td>\n",
              "      <td>Review</td>\n",
              "      <td>Exposure to artworks, great team of specialists</td>\n",
              "      <td>Work life balance, company culture</td>\n",
              "      <td>NaN</td>\n",
              "      <td>3</td>\n",
              "    </tr>\n",
              "    <tr>\n",
              "      <th>4</th>\n",
              "      <td>5</td>\n",
              "      <td>1</td>\n",
              "      <td>Sotheby-s</td>\n",
              "      <td>2021-05-15</td>\n",
              "      <td>Administrator</td>\n",
              "      <td>Current Employee, less than 1 year</td>\n",
              "      <td>London, England, England</td>\n",
              "      <td>4.0</td>\n",
              "      <td>4.0</td>\n",
              "      <td>3.0</td>\n",
              "      <td>...</td>\n",
              "      <td>3.0</td>\n",
              "      <td>3.0</td>\n",
              "      <td>v</td>\n",
              "      <td>r</td>\n",
              "      <td>v</td>\n",
              "      <td>Fun job and nice people but huge workload and ...</td>\n",
              "      <td>Fantastic art, nice enthusiastic people and a ...</td>\n",
              "      <td>Very low pay and huge workload</td>\n",
              "      <td>NaN</td>\n",
              "      <td>4</td>\n",
              "    </tr>\n",
              "  </tbody>\n",
              "</table>\n",
              "<p>5 rows × 21 columns</p>\n",
              "</div>"
            ],
            "text/plain": [
              "   Unnamed: 0  column_label       firm date_review  \\\n",
              "0           1             1  Sotheby-s  2021-05-25   \n",
              "1           2             1  Sotheby-s  2021-05-25   \n",
              "2           3             1  Sotheby-s  2021-05-24   \n",
              "3           4             1  Sotheby-s  2021-05-22   \n",
              "4           5             1  Sotheby-s  2021-05-15   \n",
              "\n",
              "                         job_title                             current  \\\n",
              "0                Financial Analyst   Former Employee, more than 1 year   \n",
              "1                    Administrator                     Former Employee   \n",
              "2   Client Services Representative   Former Employee, more than 1 year   \n",
              "3               Anonymous Employee                    Current Employee   \n",
              "4                    Administrator  Current Employee, less than 1 year   \n",
              "\n",
              "                   location  work_life_balance  culture_values  \\\n",
              "0              New York, NY                1.0             1.0   \n",
              "1                 Hong Kong                4.0             5.0   \n",
              "2  London, England, England                5.0             4.0   \n",
              "3                 Hong Kong                2.0             2.0   \n",
              "4  London, England, England                4.0             4.0   \n",
              "\n",
              "   diversity_inclusion  ...  comp_benefits  senior_mgmt  recommend ceo_approv  \\\n",
              "0                  1.0  ...            2.0          1.0          x          r   \n",
              "1                  4.0  ...            4.0          4.0          o          o   \n",
              "2                  4.0  ...            4.0          5.0          v          v   \n",
              "3                  3.0  ...            2.0          3.0          o          o   \n",
              "4                  3.0  ...            3.0          3.0          v          r   \n",
              "\n",
              "  outlook                                           headline  \\\n",
              "0       x                                        Don't do it   \n",
              "1       o                        international auction house   \n",
              "2       v                Fast-paced, difficult and rewarding   \n",
              "3       o                                             Review   \n",
              "4       v  Fun job and nice people but huge workload and ...   \n",
              "\n",
              "                                                pros  \\\n",
              "0  People in leadership roles have been there for...   \n",
              "1  great exposure, respectful environment and bea...   \n",
              "2                    Good team, support and training   \n",
              "3    Exposure to artworks, great team of specialists   \n",
              "4  Fantastic art, nice enthusiastic people and a ...   \n",
              "\n",
              "                                                cons use  overall_rating  \n",
              "0  Pressure to do whatever the leaders want\\r\\nNo... NaN               1  \n",
              "1         OT during peak seasons and often underpaid NaN               4  \n",
              "2       High-stress with relatively low conpensation NaN               4  \n",
              "3                 Work life balance, company culture NaN               3  \n",
              "4                     Very low pay and huge workload NaN               4  \n",
              "\n",
              "[5 rows x 21 columns]"
            ]
          },
          "execution_count": 3,
          "metadata": {},
          "output_type": "execute_result"
        }
      ],
      "source": [
        "#Reorders the columns so the label is in the last column  \n",
        "new_col_order = [col for col in project_df.columns if col != 'overall_rating'] + ['overall_rating']\n",
        "project_df = project_df[new_col_order]\n",
        "project_df.head()"
      ]
    },
    {
      "cell_type": "code",
      "execution_count": null,
      "id": "2b792746",
      "metadata": {
        "id": "2b792746"
      },
      "outputs": [],
      "source": [
        "project_df = pd.read_csv('glassdoor_reviews.csv')\n",
        "y = project_df.overall_rating\n",
        "#Drops the label for processing/feature engineering \n",
        "project_df.drop(['overall_rating'], axis=1, inplace=True)"
      ]
    },
    {
      "cell_type": "code",
      "execution_count": null,
      "id": "c268ddcc",
      "metadata": {
        "id": "c268ddcc",
        "outputId": "0aae47c6-e016-45b6-db8c-0613cdfa07a2"
      },
      "outputs": [
        {
          "data": {
            "text/html": [
              "<div>\n",
              "<style scoped>\n",
              "    .dataframe tbody tr th:only-of-type {\n",
              "        vertical-align: middle;\n",
              "    }\n",
              "\n",
              "    .dataframe tbody tr th {\n",
              "        vertical-align: top;\n",
              "    }\n",
              "\n",
              "    .dataframe thead th {\n",
              "        text-align: right;\n",
              "    }\n",
              "</style>\n",
              "<table border=\"1\" class=\"dataframe\">\n",
              "  <thead>\n",
              "    <tr style=\"text-align: right;\">\n",
              "      <th></th>\n",
              "      <th>Missing Ratio</th>\n",
              "    </tr>\n",
              "  </thead>\n",
              "  <tbody>\n",
              "    <tr>\n",
              "      <th>use</th>\n",
              "      <td>100.000000</td>\n",
              "    </tr>\n",
              "    <tr>\n",
              "      <th>diversity_inclusion</th>\n",
              "      <td>83.773967</td>\n",
              "    </tr>\n",
              "    <tr>\n",
              "      <th>location</th>\n",
              "      <td>35.457913</td>\n",
              "    </tr>\n",
              "    <tr>\n",
              "      <th>culture_values</th>\n",
              "      <td>22.821459</td>\n",
              "    </tr>\n",
              "    <tr>\n",
              "      <th>senior_mgmt</th>\n",
              "      <td>18.588400</td>\n",
              "    </tr>\n",
              "    <tr>\n",
              "      <th>comp_benefits</th>\n",
              "      <td>17.897458</td>\n",
              "    </tr>\n",
              "    <tr>\n",
              "      <th>work_life_balance</th>\n",
              "      <td>17.875039</td>\n",
              "    </tr>\n",
              "    <tr>\n",
              "      <th>career_opp</th>\n",
              "      <td>17.589671</td>\n",
              "    </tr>\n",
              "    <tr>\n",
              "      <th>headline</th>\n",
              "      <td>0.264618</td>\n",
              "    </tr>\n",
              "    <tr>\n",
              "      <th>cons</th>\n",
              "      <td>0.000954</td>\n",
              "    </tr>\n",
              "  </tbody>\n",
              "</table>\n",
              "</div>"
            ],
            "text/plain": [
              "                     Missing Ratio\n",
              "use                     100.000000\n",
              "diversity_inclusion      83.773967\n",
              "location                 35.457913\n",
              "culture_values           22.821459\n",
              "senior_mgmt              18.588400\n",
              "comp_benefits            17.897458\n",
              "work_life_balance        17.875039\n",
              "career_opp               17.589671\n",
              "headline                  0.264618\n",
              "cons                      0.000954"
            ]
          },
          "execution_count": 5,
          "metadata": {},
          "output_type": "execute_result"
        }
      ],
      "source": [
        "#Finding the Missing Data\n",
        "project_df_na = (project_df.isnull().sum() / len(project_df)) * 100\n",
        "project_df_na = project_df_na.drop(project_df_na[project_df_na == 0].index).sort_values(ascending=False)[:30]\n",
        "project_missing_data = pd.DataFrame({'Missing Ratio' :project_df_na})\n",
        "project_missing_data.head(20)"
      ]
    },
    {
      "cell_type": "code",
      "source": [
        "#Imputes missing values with the median value for continuous features\n",
        "#Imputes missing values with None for categorical features\n",
        "#Deletes columns with high percentages of missing values "
      ],
      "metadata": {
        "id": "tfI72bD-CUmx"
      },
      "id": "tfI72bD-CUmx",
      "execution_count": null,
      "outputs": []
    },
    {
      "cell_type": "code",
      "execution_count": null,
      "id": "4bbedbd2",
      "metadata": {
        "id": "4bbedbd2"
      },
      "outputs": [],
      "source": [
        "del project_df[\"use\"]"
      ]
    },
    {
      "cell_type": "code",
      "execution_count": null,
      "id": "8fe00613",
      "metadata": {
        "id": "8fe00613"
      },
      "outputs": [],
      "source": [
        "del project_df[\"diversity_inclusion\"]"
      ]
    },
    {
      "cell_type": "code",
      "execution_count": null,
      "id": "77a8fecb",
      "metadata": {
        "id": "77a8fecb"
      },
      "outputs": [],
      "source": [
        "project_df[\"location\"] = project_df[\"location\"].fillna(\"None\")"
      ]
    },
    {
      "cell_type": "code",
      "execution_count": null,
      "id": "3c4eb16e",
      "metadata": {
        "id": "3c4eb16e"
      },
      "outputs": [],
      "source": [
        "project_df[\"culture_values\"].fillna(project_df[\"culture_values\"].median(), inplace=True)"
      ]
    },
    {
      "cell_type": "code",
      "execution_count": null,
      "id": "b5055e4b",
      "metadata": {
        "id": "b5055e4b"
      },
      "outputs": [],
      "source": [
        "project_df[\"senior_mgmt\"].fillna(project_df[\"senior_mgmt\"].median(), inplace=True)"
      ]
    },
    {
      "cell_type": "code",
      "execution_count": null,
      "id": "141a21c7",
      "metadata": {
        "id": "141a21c7"
      },
      "outputs": [],
      "source": [
        "project_df[\"comp_benefits\"].fillna(project_df[\"comp_benefits\"].median(), inplace=True)"
      ]
    },
    {
      "cell_type": "code",
      "execution_count": null,
      "id": "5c32d3da",
      "metadata": {
        "id": "5c32d3da"
      },
      "outputs": [],
      "source": [
        "project_df[\"work_life_balance\"].fillna(project_df[\"work_life_balance\"].median(), inplace=True)"
      ]
    },
    {
      "cell_type": "code",
      "execution_count": null,
      "id": "8fb282bc",
      "metadata": {
        "id": "8fb282bc"
      },
      "outputs": [],
      "source": [
        "project_df[\"career_opp\"].fillna(project_df[\"career_opp\"].median(), inplace=True)"
      ]
    },
    {
      "cell_type": "code",
      "execution_count": null,
      "id": "a4c32aed",
      "metadata": {
        "id": "a4c32aed"
      },
      "outputs": [],
      "source": [
        "project_df[\"headline\"] = project_df[\"headline\"].fillna(\"None\")"
      ]
    },
    {
      "cell_type": "code",
      "execution_count": null,
      "id": "61a79688",
      "metadata": {
        "id": "61a79688"
      },
      "outputs": [],
      "source": [
        "project_df[\"cons\"] = project_df[\"cons\"].fillna(\"None\")"
      ]
    },
    {
      "cell_type": "code",
      "execution_count": null,
      "id": "0e4f106a",
      "metadata": {
        "id": "0e4f106a",
        "outputId": "a559cb26-0d20-456f-95fc-1ab3d42a06b9"
      },
      "outputs": [
        {
          "data": {
            "text/html": [
              "<div>\n",
              "<style scoped>\n",
              "    .dataframe tbody tr th:only-of-type {\n",
              "        vertical-align: middle;\n",
              "    }\n",
              "\n",
              "    .dataframe tbody tr th {\n",
              "        vertical-align: top;\n",
              "    }\n",
              "\n",
              "    .dataframe thead th {\n",
              "        text-align: right;\n",
              "    }\n",
              "</style>\n",
              "<table border=\"1\" class=\"dataframe\">\n",
              "  <thead>\n",
              "    <tr style=\"text-align: right;\">\n",
              "      <th></th>\n",
              "      <th>Missing Ratio</th>\n",
              "    </tr>\n",
              "  </thead>\n",
              "  <tbody>\n",
              "  </tbody>\n",
              "</table>\n",
              "</div>"
            ],
            "text/plain": [
              "Empty DataFrame\n",
              "Columns: [Missing Ratio]\n",
              "Index: []"
            ]
          },
          "execution_count": 16,
          "metadata": {},
          "output_type": "execute_result"
        }
      ],
      "source": [
        "#Checks if there is still any missing data \n",
        "project_df_na = (project_df.isnull().sum() / len(project_df)) * 100\n",
        "project_df_na = project_df_na.drop(project_df_na[project_df_na == 0].index).sort_values(ascending=False)\n",
        "missing_data = pd.DataFrame({'Missing Ratio' :project_df_na})\n",
        "missing_data.head()"
      ]
    },
    {
      "cell_type": "code",
      "execution_count": null,
      "id": "bafc2010",
      "metadata": {
        "id": "bafc2010"
      },
      "outputs": [],
      "source": [
        "#Data Preprocessing - Featur Engineering \n",
        "\n",
        "#Turns recommend, CEO approval, and outlok into numerical features as shown below \n",
        "# recommend, ceo_approval, outlook: v: 3, r: 2, o: 1, x: 0\n",
        "temp_dict = {'v': 3.0, 'r': 2.0, 'o': 1.0, 'x': 0.0}\n",
        "temp_dict3 = {'v': 2.0, 'o': 1.0, 'x': 0.0}\n",
        "\n",
        "rec_numeric = []\n",
        "ceo_approv_numeric = []\n",
        "outlook_numeric = []\n",
        "\n",
        "for row in project_df.iterrows():\n",
        "  rec_numeric.append(temp_dict3[row[1]['recommend']])  \n",
        "  ceo_approv_numeric.append(temp_dict[row[1]['ceo_approv']])  \n",
        "  outlook_numeric.append(temp_dict[row[1]['outlook']])  \n",
        "\n",
        "\n",
        "\n",
        "project_df['recommend_numeric'] = rec_numeric\n",
        "project_df['ceo_approv_numeric'] = ceo_approv_numeric\n",
        "project_df['outlook_numeric'] = outlook_numeric"
      ]
    },
    {
      "cell_type": "code",
      "execution_count": null,
      "id": "c1563c40",
      "metadata": {
        "id": "c1563c40",
        "outputId": "a05cec8d-f2ed-4106-bdbf-be9ed81b8a04"
      },
      "outputs": [
        {
          "data": {
            "text/html": [
              "<div>\n",
              "<style scoped>\n",
              "    .dataframe tbody tr th:only-of-type {\n",
              "        vertical-align: middle;\n",
              "    }\n",
              "\n",
              "    .dataframe tbody tr th {\n",
              "        vertical-align: top;\n",
              "    }\n",
              "\n",
              "    .dataframe thead th {\n",
              "        text-align: right;\n",
              "    }\n",
              "</style>\n",
              "<table border=\"1\" class=\"dataframe\">\n",
              "  <thead>\n",
              "    <tr style=\"text-align: right;\">\n",
              "      <th></th>\n",
              "      <th>Unnamed: 0</th>\n",
              "      <th>column_label</th>\n",
              "      <th>firm</th>\n",
              "      <th>date_review</th>\n",
              "      <th>job_title</th>\n",
              "      <th>current</th>\n",
              "      <th>location</th>\n",
              "      <th>work_life_balance</th>\n",
              "      <th>culture_values</th>\n",
              "      <th>career_opp</th>\n",
              "      <th>...</th>\n",
              "      <th>senior_mgmt</th>\n",
              "      <th>recommend</th>\n",
              "      <th>ceo_approv</th>\n",
              "      <th>outlook</th>\n",
              "      <th>headline</th>\n",
              "      <th>pros</th>\n",
              "      <th>cons</th>\n",
              "      <th>recommend_numeric</th>\n",
              "      <th>ceo_approv_numeric</th>\n",
              "      <th>outlook_numeric</th>\n",
              "    </tr>\n",
              "  </thead>\n",
              "  <tbody>\n",
              "    <tr>\n",
              "      <th>0</th>\n",
              "      <td>1</td>\n",
              "      <td>1</td>\n",
              "      <td>Sotheby-s</td>\n",
              "      <td>2021-05-25</td>\n",
              "      <td>Financial Analyst</td>\n",
              "      <td>Former Employee, more than 1 year</td>\n",
              "      <td>New York, NY</td>\n",
              "      <td>1.0</td>\n",
              "      <td>1.0</td>\n",
              "      <td>1.0</td>\n",
              "      <td>...</td>\n",
              "      <td>1.0</td>\n",
              "      <td>x</td>\n",
              "      <td>r</td>\n",
              "      <td>x</td>\n",
              "      <td>Don't do it</td>\n",
              "      <td>People in leadership roles have been there for...</td>\n",
              "      <td>Pressure to do whatever the leaders want\\r\\nNo...</td>\n",
              "      <td>0.0</td>\n",
              "      <td>2.0</td>\n",
              "      <td>0.0</td>\n",
              "    </tr>\n",
              "    <tr>\n",
              "      <th>1</th>\n",
              "      <td>2</td>\n",
              "      <td>1</td>\n",
              "      <td>Sotheby-s</td>\n",
              "      <td>2021-05-25</td>\n",
              "      <td>Administrator</td>\n",
              "      <td>Former Employee</td>\n",
              "      <td>Hong Kong</td>\n",
              "      <td>4.0</td>\n",
              "      <td>5.0</td>\n",
              "      <td>3.0</td>\n",
              "      <td>...</td>\n",
              "      <td>4.0</td>\n",
              "      <td>o</td>\n",
              "      <td>o</td>\n",
              "      <td>o</td>\n",
              "      <td>international auction house</td>\n",
              "      <td>great exposure, respectful environment and bea...</td>\n",
              "      <td>OT during peak seasons and often underpaid</td>\n",
              "      <td>1.0</td>\n",
              "      <td>1.0</td>\n",
              "      <td>1.0</td>\n",
              "    </tr>\n",
              "    <tr>\n",
              "      <th>2</th>\n",
              "      <td>3</td>\n",
              "      <td>1</td>\n",
              "      <td>Sotheby-s</td>\n",
              "      <td>2021-05-24</td>\n",
              "      <td>Client Services Representative</td>\n",
              "      <td>Former Employee, more than 1 year</td>\n",
              "      <td>London, England, England</td>\n",
              "      <td>5.0</td>\n",
              "      <td>4.0</td>\n",
              "      <td>5.0</td>\n",
              "      <td>...</td>\n",
              "      <td>5.0</td>\n",
              "      <td>v</td>\n",
              "      <td>v</td>\n",
              "      <td>v</td>\n",
              "      <td>Fast-paced, difficult and rewarding</td>\n",
              "      <td>Good team, support and training</td>\n",
              "      <td>High-stress with relatively low conpensation</td>\n",
              "      <td>2.0</td>\n",
              "      <td>3.0</td>\n",
              "      <td>3.0</td>\n",
              "    </tr>\n",
              "    <tr>\n",
              "      <th>3</th>\n",
              "      <td>4</td>\n",
              "      <td>1</td>\n",
              "      <td>Sotheby-s</td>\n",
              "      <td>2021-05-22</td>\n",
              "      <td>Anonymous Employee</td>\n",
              "      <td>Current Employee</td>\n",
              "      <td>Hong Kong</td>\n",
              "      <td>2.0</td>\n",
              "      <td>2.0</td>\n",
              "      <td>3.0</td>\n",
              "      <td>...</td>\n",
              "      <td>3.0</td>\n",
              "      <td>o</td>\n",
              "      <td>o</td>\n",
              "      <td>o</td>\n",
              "      <td>Review</td>\n",
              "      <td>Exposure to artworks, great team of specialists</td>\n",
              "      <td>Work life balance, company culture</td>\n",
              "      <td>1.0</td>\n",
              "      <td>1.0</td>\n",
              "      <td>1.0</td>\n",
              "    </tr>\n",
              "    <tr>\n",
              "      <th>4</th>\n",
              "      <td>5</td>\n",
              "      <td>1</td>\n",
              "      <td>Sotheby-s</td>\n",
              "      <td>2021-05-15</td>\n",
              "      <td>Administrator</td>\n",
              "      <td>Current Employee, less than 1 year</td>\n",
              "      <td>London, England, England</td>\n",
              "      <td>4.0</td>\n",
              "      <td>4.0</td>\n",
              "      <td>3.0</td>\n",
              "      <td>...</td>\n",
              "      <td>3.0</td>\n",
              "      <td>v</td>\n",
              "      <td>r</td>\n",
              "      <td>v</td>\n",
              "      <td>Fun job and nice people but huge workload and ...</td>\n",
              "      <td>Fantastic art, nice enthusiastic people and a ...</td>\n",
              "      <td>Very low pay and huge workload</td>\n",
              "      <td>2.0</td>\n",
              "      <td>2.0</td>\n",
              "      <td>3.0</td>\n",
              "    </tr>\n",
              "    <tr>\n",
              "      <th>...</th>\n",
              "      <td>...</td>\n",
              "      <td>...</td>\n",
              "      <td>...</td>\n",
              "      <td>...</td>\n",
              "      <td>...</td>\n",
              "      <td>...</td>\n",
              "      <td>...</td>\n",
              "      <td>...</td>\n",
              "      <td>...</td>\n",
              "      <td>...</td>\n",
              "      <td>...</td>\n",
              "      <td>...</td>\n",
              "      <td>...</td>\n",
              "      <td>...</td>\n",
              "      <td>...</td>\n",
              "      <td>...</td>\n",
              "      <td>...</td>\n",
              "      <td>...</td>\n",
              "      <td>...</td>\n",
              "      <td>...</td>\n",
              "      <td>...</td>\n",
              "    </tr>\n",
              "    <tr>\n",
              "      <th>838561</th>\n",
              "      <td>838562</td>\n",
              "      <td>71</td>\n",
              "      <td>Department-for-Work-And-Pensions</td>\n",
              "      <td>2010-09-03</td>\n",
              "      <td>Analyst</td>\n",
              "      <td>Former Employee</td>\n",
              "      <td>London, England, England</td>\n",
              "      <td>4.0</td>\n",
              "      <td>4.0</td>\n",
              "      <td>2.0</td>\n",
              "      <td>...</td>\n",
              "      <td>3.0</td>\n",
              "      <td>o</td>\n",
              "      <td>v</td>\n",
              "      <td>o</td>\n",
              "      <td>DWP Analyst Position</td>\n",
              "      <td>Workforce consists of highly motivated and int...</td>\n",
              "      <td>Often too relaxed and many lack much drive on ...</td>\n",
              "      <td>1.0</td>\n",
              "      <td>3.0</td>\n",
              "      <td>1.0</td>\n",
              "    </tr>\n",
              "    <tr>\n",
              "      <th>838562</th>\n",
              "      <td>838563</td>\n",
              "      <td>71</td>\n",
              "      <td>Department-for-Work-And-Pensions</td>\n",
              "      <td>2010-04-25</td>\n",
              "      <td>Assistant Economist</td>\n",
              "      <td>Current Employee</td>\n",
              "      <td>London, England, England</td>\n",
              "      <td>5.0</td>\n",
              "      <td>4.0</td>\n",
              "      <td>5.0</td>\n",
              "      <td>...</td>\n",
              "      <td>2.0</td>\n",
              "      <td>o</td>\n",
              "      <td>r</td>\n",
              "      <td>o</td>\n",
              "      <td>Stress free job with very strong work life bal...</td>\n",
              "      <td>Only 36 hours a week.\\r\\nLots of opportunities...</td>\n",
              "      <td>Pay is OK at first but with little growth or b...</td>\n",
              "      <td>1.0</td>\n",
              "      <td>2.0</td>\n",
              "      <td>1.0</td>\n",
              "    </tr>\n",
              "    <tr>\n",
              "      <th>838563</th>\n",
              "      <td>838564</td>\n",
              "      <td>71</td>\n",
              "      <td>Department-for-Work-And-Pensions</td>\n",
              "      <td>2009-11-08</td>\n",
              "      <td>Private Secretary</td>\n",
              "      <td>Current Employee</td>\n",
              "      <td>London, England, England</td>\n",
              "      <td>4.0</td>\n",
              "      <td>4.0</td>\n",
              "      <td>4.0</td>\n",
              "      <td>...</td>\n",
              "      <td>3.0</td>\n",
              "      <td>v</td>\n",
              "      <td>v</td>\n",
              "      <td>o</td>\n",
              "      <td>Inner workings - interesting</td>\n",
              "      <td>Big department, with lots of opportunities to ...</td>\n",
              "      <td>Long hours tend to be unrewarded when they hap...</td>\n",
              "      <td>2.0</td>\n",
              "      <td>3.0</td>\n",
              "      <td>1.0</td>\n",
              "    </tr>\n",
              "    <tr>\n",
              "      <th>838564</th>\n",
              "      <td>838565</td>\n",
              "      <td>71</td>\n",
              "      <td>Department-for-Work-And-Pensions</td>\n",
              "      <td>2009-07-16</td>\n",
              "      <td>DASO Jobcentre</td>\n",
              "      <td>Current Employee</td>\n",
              "      <td>Newport, Newport, Wales, Wales</td>\n",
              "      <td>5.0</td>\n",
              "      <td>4.0</td>\n",
              "      <td>3.0</td>\n",
              "      <td>...</td>\n",
              "      <td>2.0</td>\n",
              "      <td>v</td>\n",
              "      <td>x</td>\n",
              "      <td>o</td>\n",
              "      <td>Band B - AO</td>\n",
              "      <td>Safe place to work when in recession.  People ...</td>\n",
              "      <td>90% of the time its only a very short contract...</td>\n",
              "      <td>2.0</td>\n",
              "      <td>0.0</td>\n",
              "      <td>1.0</td>\n",
              "    </tr>\n",
              "    <tr>\n",
              "      <th>838565</th>\n",
              "      <td>838566</td>\n",
              "      <td>71</td>\n",
              "      <td>Department-for-Work-And-Pensions</td>\n",
              "      <td>2008-12-24</td>\n",
              "      <td>CSO</td>\n",
              "      <td>Current Employee</td>\n",
              "      <td>None</td>\n",
              "      <td>2.0</td>\n",
              "      <td>4.0</td>\n",
              "      <td>2.0</td>\n",
              "      <td>...</td>\n",
              "      <td>1.0</td>\n",
              "      <td>x</td>\n",
              "      <td>x</td>\n",
              "      <td>o</td>\n",
              "      <td>Terrible organisation now - used to beOK once</td>\n",
              "      <td>Cant think of any at all</td>\n",
              "      <td>Hopeless management turning into acall centre ...</td>\n",
              "      <td>0.0</td>\n",
              "      <td>0.0</td>\n",
              "      <td>1.0</td>\n",
              "    </tr>\n",
              "  </tbody>\n",
              "</table>\n",
              "<p>838566 rows × 21 columns</p>\n",
              "</div>"
            ],
            "text/plain": [
              "        Unnamed: 0  column_label                              firm  \\\n",
              "0                1             1                         Sotheby-s   \n",
              "1                2             1                         Sotheby-s   \n",
              "2                3             1                         Sotheby-s   \n",
              "3                4             1                         Sotheby-s   \n",
              "4                5             1                         Sotheby-s   \n",
              "...            ...           ...                               ...   \n",
              "838561      838562            71  Department-for-Work-And-Pensions   \n",
              "838562      838563            71  Department-for-Work-And-Pensions   \n",
              "838563      838564            71  Department-for-Work-And-Pensions   \n",
              "838564      838565            71  Department-for-Work-And-Pensions   \n",
              "838565      838566            71  Department-for-Work-And-Pensions   \n",
              "\n",
              "       date_review                        job_title  \\\n",
              "0       2021-05-25                Financial Analyst   \n",
              "1       2021-05-25                    Administrator   \n",
              "2       2021-05-24   Client Services Representative   \n",
              "3       2021-05-22               Anonymous Employee   \n",
              "4       2021-05-15                    Administrator   \n",
              "...            ...                              ...   \n",
              "838561  2010-09-03                          Analyst   \n",
              "838562  2010-04-25              Assistant Economist   \n",
              "838563  2009-11-08                Private Secretary   \n",
              "838564  2009-07-16                   DASO Jobcentre   \n",
              "838565  2008-12-24                              CSO   \n",
              "\n",
              "                                   current                        location  \\\n",
              "0        Former Employee, more than 1 year                    New York, NY   \n",
              "1                          Former Employee                       Hong Kong   \n",
              "2        Former Employee, more than 1 year        London, England, England   \n",
              "3                         Current Employee                       Hong Kong   \n",
              "4       Current Employee, less than 1 year        London, England, England   \n",
              "...                                    ...                             ...   \n",
              "838561                     Former Employee        London, England, England   \n",
              "838562                    Current Employee        London, England, England   \n",
              "838563                    Current Employee        London, England, England   \n",
              "838564                    Current Employee  Newport, Newport, Wales, Wales   \n",
              "838565                    Current Employee                            None   \n",
              "\n",
              "        work_life_balance  culture_values  career_opp  ...  senior_mgmt  \\\n",
              "0                     1.0             1.0         1.0  ...          1.0   \n",
              "1                     4.0             5.0         3.0  ...          4.0   \n",
              "2                     5.0             4.0         5.0  ...          5.0   \n",
              "3                     2.0             2.0         3.0  ...          3.0   \n",
              "4                     4.0             4.0         3.0  ...          3.0   \n",
              "...                   ...             ...         ...  ...          ...   \n",
              "838561                4.0             4.0         2.0  ...          3.0   \n",
              "838562                5.0             4.0         5.0  ...          2.0   \n",
              "838563                4.0             4.0         4.0  ...          3.0   \n",
              "838564                5.0             4.0         3.0  ...          2.0   \n",
              "838565                2.0             4.0         2.0  ...          1.0   \n",
              "\n",
              "        recommend ceo_approv outlook  \\\n",
              "0               x          r       x   \n",
              "1               o          o       o   \n",
              "2               v          v       v   \n",
              "3               o          o       o   \n",
              "4               v          r       v   \n",
              "...           ...        ...     ...   \n",
              "838561          o          v       o   \n",
              "838562          o          r       o   \n",
              "838563          v          v       o   \n",
              "838564          v          x       o   \n",
              "838565          x          x       o   \n",
              "\n",
              "                                                 headline  \\\n",
              "0                                             Don't do it   \n",
              "1                             international auction house   \n",
              "2                     Fast-paced, difficult and rewarding   \n",
              "3                                                  Review   \n",
              "4       Fun job and nice people but huge workload and ...   \n",
              "...                                                   ...   \n",
              "838561                               DWP Analyst Position   \n",
              "838562  Stress free job with very strong work life bal...   \n",
              "838563                       Inner workings - interesting   \n",
              "838564                                        Band B - AO   \n",
              "838565      Terrible organisation now - used to beOK once   \n",
              "\n",
              "                                                     pros  \\\n",
              "0       People in leadership roles have been there for...   \n",
              "1       great exposure, respectful environment and bea...   \n",
              "2                         Good team, support and training   \n",
              "3         Exposure to artworks, great team of specialists   \n",
              "4       Fantastic art, nice enthusiastic people and a ...   \n",
              "...                                                   ...   \n",
              "838561  Workforce consists of highly motivated and int...   \n",
              "838562  Only 36 hours a week.\\r\\nLots of opportunities...   \n",
              "838563  Big department, with lots of opportunities to ...   \n",
              "838564  Safe place to work when in recession.  People ...   \n",
              "838565                           Cant think of any at all   \n",
              "\n",
              "                                                     cons recommend_numeric  \\\n",
              "0       Pressure to do whatever the leaders want\\r\\nNo...               0.0   \n",
              "1              OT during peak seasons and often underpaid               1.0   \n",
              "2            High-stress with relatively low conpensation               2.0   \n",
              "3                      Work life balance, company culture               1.0   \n",
              "4                          Very low pay and huge workload               2.0   \n",
              "...                                                   ...               ...   \n",
              "838561  Often too relaxed and many lack much drive on ...               1.0   \n",
              "838562  Pay is OK at first but with little growth or b...               1.0   \n",
              "838563  Long hours tend to be unrewarded when they hap...               2.0   \n",
              "838564  90% of the time its only a very short contract...               2.0   \n",
              "838565  Hopeless management turning into acall centre ...               0.0   \n",
              "\n",
              "        ceo_approv_numeric  outlook_numeric  \n",
              "0                      2.0              0.0  \n",
              "1                      1.0              1.0  \n",
              "2                      3.0              3.0  \n",
              "3                      1.0              1.0  \n",
              "4                      2.0              3.0  \n",
              "...                    ...              ...  \n",
              "838561                 3.0              1.0  \n",
              "838562                 2.0              1.0  \n",
              "838563                 3.0              1.0  \n",
              "838564                 0.0              1.0  \n",
              "838565                 0.0              1.0  \n",
              "\n",
              "[838566 rows x 21 columns]"
            ]
          },
          "execution_count": 18,
          "metadata": {},
          "output_type": "execute_result"
        }
      ],
      "source": [
        "project_df"
      ]
    },
    {
      "cell_type": "code",
      "execution_count": null,
      "id": "a56e22d8",
      "metadata": {
        "id": "a56e22d8"
      },
      "outputs": [],
      "source": [
        "#Feature Selection \n",
        "X = project_df[['work_life_balance', 'culture_values', 'career_opp',\n",
        "                'comp_benefits', 'senior_mgmt', 'ceo_approv_numeric', 'recommend_numeric', 'outlook_numeric']]"
      ]
    },
    {
      "cell_type": "code",
      "execution_count": null,
      "id": "0b48aa1a",
      "metadata": {
        "id": "0b48aa1a",
        "outputId": "204f0736-fbf6-4bcd-9b02-a69b36ed0317"
      },
      "outputs": [
        {
          "data": {
            "text/plain": [
              "0         1\n",
              "1         4\n",
              "2         4\n",
              "3         3\n",
              "4         4\n",
              "         ..\n",
              "838561    2\n",
              "838562    3\n",
              "838563    4\n",
              "838564    4\n",
              "838565    2\n",
              "Name: overall_rating, Length: 838566, dtype: int64"
            ]
          },
          "execution_count": 20,
          "metadata": {},
          "output_type": "execute_result"
        }
      ],
      "source": [
        "y"
      ]
    },
    {
      "cell_type": "code",
      "execution_count": null,
      "id": "2515396f",
      "metadata": {
        "id": "2515396f",
        "outputId": "b08c4510-3702-46b9-dfc1-b26e768465a4"
      },
      "outputs": [
        {
          "name": "stderr",
          "output_type": "stream",
          "text": [
            "/var/folders/hm/r4w78y_j2gx6lqf698vt1ry80000gn/T/ipykernel_83024/2812719940.py:1: SettingWithCopyWarning: \n",
            "A value is trying to be set on a copy of a slice from a DataFrame\n",
            "\n",
            "See the caveats in the documentation: https://pandas.pydata.org/pandas-docs/stable/user_guide/indexing.html#returning-a-view-versus-a-copy\n",
            "  X.drop(['senior_mgmt'], axis=1, inplace=True)\n"
          ]
        }
      ],
      "source": [
        "#senior_mgmt has strong correlations with ceo_approval and culture_values, so we will remove it as a feature\n",
        "X.drop(['senior_mgmt'], axis=1, inplace=True)"
      ]
    },
    {
      "cell_type": "code",
      "execution_count": null,
      "id": "b44a608f",
      "metadata": {
        "id": "b44a608f"
      },
      "outputs": [],
      "source": [
        "y = y - 1"
      ]
    },
    {
      "cell_type": "code",
      "execution_count": null,
      "id": "21007c2a",
      "metadata": {
        "id": "21007c2a",
        "outputId": "bb4e17bd-bb3d-4b4e-9c02-3e8defe6dae2"
      },
      "outputs": [
        {
          "data": {
            "text/plain": [
              "count    838566.000000\n",
              "mean          2.655956\n",
              "std           1.174684\n",
              "min           0.000000\n",
              "25%           2.000000\n",
              "50%           3.000000\n",
              "75%           4.000000\n",
              "max           4.000000\n",
              "Name: overall_rating, dtype: float64"
            ]
          },
          "execution_count": 23,
          "metadata": {},
          "output_type": "execute_result"
        }
      ],
      "source": [
        "y.describe()"
      ]
    },
    {
      "cell_type": "code",
      "execution_count": null,
      "id": "9a663501",
      "metadata": {
        "id": "9a663501"
      },
      "outputs": [],
      "source": [
        "from sklearn.metrics import accuracy_score, precision_score, f1_score, recall_score\n",
        "from sklearn.model_selection import train_test_split"
      ]
    },
    {
      "cell_type": "code",
      "execution_count": null,
      "id": "672d564b",
      "metadata": {
        "id": "672d564b"
      },
      "outputs": [],
      "source": [
        "X_train, X_test, y_train, y_test = train_test_split(X, y, test_size=0.2, random_state=42)"
      ]
    },
    {
      "cell_type": "code",
      "execution_count": null,
      "id": "e0099bbc",
      "metadata": {
        "id": "e0099bbc"
      },
      "outputs": [],
      "source": [
        "from sklearn.preprocessing import StandardScaler\n",
        "modeling_feature_normalizer = StandardScaler()\n",
        "X_train_normalized = modeling_feature_normalizer.fit_transform(X_train)"
      ]
    },
    {
      "cell_type": "code",
      "execution_count": null,
      "id": "61f5c7c4",
      "metadata": {
        "id": "61f5c7c4",
        "outputId": "cafac72f-95d9-4fd2-cb94-b810443a6c12"
      },
      "outputs": [
        {
          "data": {
            "text/plain": [
              "SVC(kernel='linear')"
            ]
          },
          "execution_count": 30,
          "metadata": {},
          "output_type": "execute_result"
        }
      ],
      "source": [
        "from sklearn.svm import SVC\n",
        "svm_classification = SVC(kernel = 'linear')\n",
        "svm_classification.fit(X_train_normalized, y_train)"
      ]
    },
    {
      "cell_type": "code",
      "execution_count": null,
      "id": "9df1add4",
      "metadata": {
        "id": "9df1add4",
        "outputId": "0ff43fc7-d45a-4d55-b754-29fd3814dd12"
      },
      "outputs": [
        {
          "name": "stdout",
          "output_type": "stream",
          "text": [
            "Training Accuracy Score:  0.5831539594426193\n",
            "Training F1 Score:  0.5766019706305674\n",
            "Testing Accuracy Score:  0.5831057633829019\n",
            "Testing F1 Score:  0.5765439561495599\n"
          ]
        }
      ],
      "source": [
        "#F1 Score and Accuracy Score for SVM\n",
        "X_test_normalized = modeling_feature_normalizer.fit_transform(X_test)\n",
        "svm_pred = svm_classification.predict(X_test_normalized)\n",
        "svm_train_pred = svm_classification.predict(X_train_normalized)\n",
        "\n",
        "print('Training Accuracy Score: ', accuracy_score(y_train, svm_train_pred))\n",
        "print('Training F1 Score: ', f1_score(y_train, svm_train_pred, average='weighted'))\n",
        "\n",
        "\n",
        "print('Testing Accuracy Score: ', accuracy_score(y_test, svm_pred))\n",
        "print('Testing F1 Score: ', f1_score(y_test, svm_pred, average='weighted'))"
      ]
    },
    {
      "cell_type": "code",
      "execution_count": null,
      "id": "d4a87b93",
      "metadata": {
        "id": "d4a87b93"
      },
      "outputs": [],
      "source": [
        "#Feature Importances\n",
        "def f_importances(coef, names):\n",
        "    imp = coef\n",
        "    imp,names = zip(*sorted(zip(imp,names)))\n",
        "    plt.barh(range(len(names)), imp, align='center')\n",
        "    plt.yticks(range(len(names)), names)\n",
        "    plt.show()"
      ]
    },
    {
      "cell_type": "code",
      "execution_count": null,
      "id": "70eb9b8f",
      "metadata": {
        "id": "70eb9b8f",
        "outputId": "02e52bb6-dd09-4041-b9a4-1ab3dea322d9"
      },
      "outputs": [
        {
          "data": {
            "image/png": "[encoded data removed]",
            "text/plain": [
              "<Figure size 640x480 with 1 Axes>"
            ]
          },
          "metadata": {},
          "output_type": "display_data"
        }
      ],
      "source": [
        "#Plotting Feature Importance \n",
        "feature_names = X_train.columns\n",
        "f_importances(abs(svm_classification.coef_[0]), feature_names)"
      ]
    },
    {
      "cell_type": "code",
      "execution_count": null,
      "id": "a0c197a2",
      "metadata": {
        "id": "a0c197a2",
        "outputId": "2fa16ac0-a30e-4186-bb5e-661ec508805e"
      },
      "outputs": [
        {
          "name": "stdout",
          "output_type": "stream",
          "text": [
            "1\n",
            "2\n",
            "3\n",
            "4\n",
            "5\n",
            "6\n",
            "7\n",
            "8\n",
            "9\n",
            "10\n",
            "11\n",
            "12\n",
            "13\n",
            "14\n",
            "15\n",
            "16\n",
            "17\n",
            "18\n",
            "19\n",
            "20\n",
            "21\n",
            "22\n",
            "23\n",
            "24\n",
            "25\n",
            "26\n",
            "27\n",
            "28\n",
            "29\n",
            "30\n",
            "31\n",
            "32\n",
            "33\n",
            "34\n",
            "35\n",
            "36\n",
            "37\n",
            "38\n",
            "39\n",
            "40\n",
            "41\n",
            "42\n",
            "43\n",
            "44\n",
            "45\n",
            "46\n",
            "47\n",
            "48\n",
            "49\n",
            "50\n"
          ]
        }
      ],
      "source": [
        "#Cross Validation to find the ideal number of neighbors\n",
        "from sklearn.model_selection import cross_val_score\n",
        "from sklearn.neighbors import KNeighborsClassifier\n",
        "k_list = list(range(1,51))\n",
        "cv_scores = []\n",
        "for k in k_list:\n",
        "    knn = KNeighborsClassifier(n_neighbors=k)\n",
        "    scores = cross_val_score(knn, X_train_normalized, y_train, cv=10, scoring='accuracy')\n",
        "    cv_scores.append(scores.mean())\n",
        "    print(k)"
      ]
    },
    {
      "cell_type": "code",
      "execution_count": null,
      "id": "a1b48987",
      "metadata": {
        "id": "a1b48987",
        "outputId": "2c01e99b-523a-4e5a-ff5d-9abc510edf5c"
      },
      "outputs": [
        {
          "name": "stdout",
          "output_type": "stream",
          "text": [
            "The optimal number of neighbors is 50.\n"
          ]
        }
      ],
      "source": [
        "MSE = [1-x for x in cv_scores]\n",
        "best_k = k_list[MSE.index(min(MSE))]\n",
        "print(\"The optimal number of neighbors is %d.\" % best_k)"
      ]
    },
    {
      "cell_type": "code",
      "execution_count": null,
      "id": "be87c1e9",
      "metadata": {
        "id": "be87c1e9",
        "outputId": "2779e26e-795a-4762-af8a-ebaea4cb4774"
      },
      "outputs": [
        {
          "data": {
            "text/plain": [
              "KNeighborsClassifier(n_neighbors=50)"
            ]
          },
          "execution_count": 42,
          "metadata": {},
          "output_type": "execute_result"
        }
      ],
      "source": [
        "#Model with the Optimized Number of Neighbors\n",
        "from sklearn.neighbors import KNeighborsClassifier\n",
        "knn_classification = KNeighborsClassifier(n_neighbors = 50)\n",
        "knn_classification.fit(X_train_normalized, y_train)"
      ]
    },
    {
      "cell_type": "code",
      "execution_count": null,
      "id": "865dca66",
      "metadata": {
        "id": "865dca66",
        "outputId": "3293fbde-3bdb-459f-9ffb-b055aa35d950"
      },
      "outputs": [
        {
          "name": "stdout",
          "output_type": "stream",
          "text": [
            "Training Accuracy Score:  0.6048278905034196\n",
            "Training F1 Score:  0.6039663722201419\n",
            "Testing Accuracy Score:  0.5971475249531941\n",
            "Testing F1 Score:  0.5961298436690043\n"
          ]
        }
      ],
      "source": [
        "X_test_normalized = modeling_feature_normalizer.fit_transform(X_test)\n",
        "knn_pred = knn_classification.predict(X_test_normalized)\n",
        "knn_train_pred = knn_classification.predict(X_train_normalized)\n",
        "\n",
        "print('Training Accuracy Score: ', accuracy_score(y_train, knn_train_pred))\n",
        "print('Training F1 Score: ', f1_score(y_train, knn_train_pred, average='weighted'))\n",
        "\n",
        "\n",
        "print('Testing Accuracy Score: ', accuracy_score(y_test, knn_pred))\n",
        "print('Testing F1 Score: ', f1_score(y_test, knn_pred, average='weighted'))"
      ]
    },
    {
      "cell_type": "code",
      "execution_count": null,
      "id": "6510c0d0",
      "metadata": {
        "id": "6510c0d0",
        "outputId": "8c78e922-7b98-4fa7-b02d-bbc11b53d7d6"
      },
      "outputs": [
        {
          "data": {
            "text/plain": [
              "<Figure size 640x480 with 0 Axes>"
            ]
          },
          "metadata": {},
          "output_type": "display_data"
        },
        {
          "data": {
            "image/png": "[encoded data removed]",
            "text/plain": [
              "<Figure size 1500x1000 with 1 Axes>"
            ]
          },
          "metadata": {},
          "output_type": "display_data"
        }
      ],
      "source": [
        "#Plotting the Error vs Number of Neighbors\n",
        "import seaborn as sns\n",
        "\n",
        "# changing to misclassification error\n",
        "MSE = [1-x for x in cv_scores]\n",
        "\n",
        "plt.figure()\n",
        "plt.figure(figsize=(15,10))\n",
        "plt.title('The optimal number of neighbors', fontsize=20, fontweight='bold')\n",
        "plt.xlabel('Number of Neighbors K', fontsize=15)\n",
        "plt.ylabel('Misclassification Error', fontsize=15)\n",
        "sns.set_style(\"whitegrid\")\n",
        "plt.plot(k_list, MSE)\n",
        "\n",
        "plt.show()"
      ]
    },
    {
      "cell_type": "code",
      "execution_count": null,
      "id": "64fe3aa3",
      "metadata": {
        "id": "64fe3aa3"
      },
      "outputs": [],
      "source": [
        "#Random Forest Model \n",
        "import mglearn\n",
        "from sklearn.ensemble import RandomForestClassifier"
      ]
    },
    {
      "cell_type": "code",
      "execution_count": null,
      "id": "8948d868",
      "metadata": {
        "id": "8948d868",
        "outputId": "2e9814cf-e1fb-489c-fd47-9ca5b5499bf9"
      },
      "outputs": [
        {
          "name": "stderr",
          "output_type": "stream",
          "text": [
            "/Users/suchirmisra/opt/anaconda3/lib/python3.9/site-packages/sklearn/ensemble/_forest.py:560: UserWarning: Some inputs do not have OOB scores. This probably means too few trees were used to compute any reliable OOB estimates.\n",
            "  warn(\n",
            "/Users/suchirmisra/opt/anaconda3/lib/python3.9/site-packages/sklearn/ensemble/_forest.py:560: UserWarning: Some inputs do not have OOB scores. This probably means too few trees were used to compute any reliable OOB estimates.\n",
            "  warn(\n",
            "/Users/suchirmisra/opt/anaconda3/lib/python3.9/site-packages/sklearn/ensemble/_forest.py:560: UserWarning: Some inputs do not have OOB scores. This probably means too few trees were used to compute any reliable OOB estimates.\n",
            "  warn(\n",
            "/Users/suchirmisra/opt/anaconda3/lib/python3.9/site-packages/sklearn/ensemble/_forest.py:560: UserWarning: Some inputs do not have OOB scores. This probably means too few trees were used to compute any reliable OOB estimates.\n",
            "  warn(\n",
            "/Users/suchirmisra/opt/anaconda3/lib/python3.9/site-packages/sklearn/ensemble/_forest.py:560: UserWarning: Some inputs do not have OOB scores. This probably means too few trees were used to compute any reliable OOB estimates.\n",
            "  warn(\n",
            "/Users/suchirmisra/opt/anaconda3/lib/python3.9/site-packages/sklearn/ensemble/_forest.py:560: UserWarning: Some inputs do not have OOB scores. This probably means too few trees were used to compute any reliable OOB estimates.\n",
            "  warn(\n",
            "/Users/suchirmisra/opt/anaconda3/lib/python3.9/site-packages/sklearn/ensemble/_forest.py:560: UserWarning: Some inputs do not have OOB scores. This probably means too few trees were used to compute any reliable OOB estimates.\n",
            "  warn(\n",
            "/Users/suchirmisra/opt/anaconda3/lib/python3.9/site-packages/sklearn/ensemble/_forest.py:560: UserWarning: Some inputs do not have OOB scores. This probably means too few trees were used to compute any reliable OOB estimates.\n",
            "  warn(\n",
            "/Users/suchirmisra/opt/anaconda3/lib/python3.9/site-packages/sklearn/ensemble/_forest.py:560: UserWarning: Some inputs do not have OOB scores. This probably means too few trees were used to compute any reliable OOB estimates.\n",
            "  warn(\n",
            "/Users/suchirmisra/opt/anaconda3/lib/python3.9/site-packages/sklearn/ensemble/_forest.py:560: UserWarning: Some inputs do not have OOB scores. This probably means too few trees were used to compute any reliable OOB estimates.\n",
            "  warn(\n"
          ]
        }
      ],
      "source": [
        "#Generates an array of all tree values to iterate through \n",
        "num_trees = np.arange(2, 22, 2)\n",
        "oob_accuracy = []\n",
        "#Iterates through the possible number of trees to store their error \n",
        "for idx in range (0, len(num_trees)):\n",
        "    classifier = RandomForestClassifier(n_estimators = num_trees[idx],\n",
        "                                       random_state = 2, oob_score = True)\n",
        "    classifier.fit(X_train_normalized, y_train)\n",
        "    oob_accuracy.append(classifier.oob_score_)"
      ]
    },
    {
      "cell_type": "code",
      "execution_count": null,
      "id": "419aefdc",
      "metadata": {
        "id": "419aefdc",
        "outputId": "d6c7f3bb-be24-4905-eade-80043e2e3ba9"
      },
      "outputs": [
        {
          "data": {
            "text/plain": [
              "Text(0, 0.5, 'OOB Accuracy')"
            ]
          },
          "execution_count": 50,
          "metadata": {},
          "output_type": "execute_result"
        },
        {
          "data": {
            "image/png": "[encoded data removed]",
            "text/plain": [
              "<Figure size 640x480 with 1 Axes>"
            ]
          },
          "metadata": {},
          "output_type": "display_data"
        }
      ],
      "source": [
        "plt.plot(num_trees, oob_accuracy)\n",
        "plt.xlabel(\"Number of Trees\")\n",
        "plt.ylabel(\"OOB Accuracy\")"
      ]
    },
    {
      "cell_type": "code",
      "execution_count": null,
      "id": "c0737e7f",
      "metadata": {
        "id": "c0737e7f",
        "outputId": "d0e0497b-8879-4423-9aeb-bc93905f3b08"
      },
      "outputs": [
        {
          "data": {
            "text/plain": [
              "[0.3833483391269609,\n",
              " 0.509648924054784,\n",
              " 0.559968517646217,\n",
              " 0.5806064526900121,\n",
              " 0.589015162807892,\n",
              " 0.5926150626367663,\n",
              " 0.594190670967665,\n",
              " 0.5949658046782301,\n",
              " 0.5954159784870583,\n",
              " 0.5956842940022539]"
            ]
          },
          "execution_count": 51,
          "metadata": {},
          "output_type": "execute_result"
        }
      ],
      "source": [
        "#Displaying the Raw Data \n",
        "oob_accuracy"
      ]
    },
    {
      "cell_type": "code",
      "execution_count": null,
      "id": "9014ab00",
      "metadata": {
        "id": "9014ab00",
        "outputId": "69429b08-83c3-45eb-fc5d-e80ec0c46a76"
      },
      "outputs": [
        {
          "name": "stderr",
          "output_type": "stream",
          "text": [
            "/Users/suchirmisra/opt/anaconda3/lib/python3.9/site-packages/sklearn/model_selection/_validation.py:372: FitFailedWarning: \n",
            "275 fits failed out of a total of 1375.\n",
            "The score on these train-test partitions for these parameters will be set to nan.\n",
            "If these failures are not expected, you can try to debug them by setting error_score='raise'.\n",
            "\n",
            "Below are more details about the failures:\n",
            "--------------------------------------------------------------------------------\n",
            "275 fits failed with the following error:\n",
            "Traceback (most recent call last):\n",
            "  File \"/Users/suchirmisra/opt/anaconda3/lib/python3.9/site-packages/sklearn/model_selection/_validation.py\", line 680, in _fit_and_score\n",
            "    estimator.fit(X_train, y_train, **fit_params)\n",
            "  File \"/Users/suchirmisra/opt/anaconda3/lib/python3.9/site-packages/sklearn/ensemble/_forest.py\", line 450, in fit\n",
            "    trees = Parallel(\n",
            "  File \"/Users/suchirmisra/opt/anaconda3/lib/python3.9/site-packages/joblib/parallel.py\", line 1048, in __call__\n",
            "    if self.dispatch_one_batch(iterator):\n",
            "  File \"/Users/suchirmisra/opt/anaconda3/lib/python3.9/site-packages/joblib/parallel.py\", line 864, in dispatch_one_batch\n",
            "    self._dispatch(tasks)\n",
            "  File \"/Users/suchirmisra/opt/anaconda3/lib/python3.9/site-packages/joblib/parallel.py\", line 782, in _dispatch\n",
            "    job = self._backend.apply_async(batch, callback=cb)\n",
            "  File \"/Users/suchirmisra/opt/anaconda3/lib/python3.9/site-packages/joblib/_parallel_backends.py\", line 208, in apply_async\n",
            "    result = ImmediateResult(func)\n",
            "  File \"/Users/suchirmisra/opt/anaconda3/lib/python3.9/site-packages/joblib/_parallel_backends.py\", line 572, in __init__\n",
            "    self.results = batch()\n",
            "  File \"/Users/suchirmisra/opt/anaconda3/lib/python3.9/site-packages/joblib/parallel.py\", line 263, in __call__\n",
            "    return [func(*args, **kwargs)\n",
            "  File \"/Users/suchirmisra/opt/anaconda3/lib/python3.9/site-packages/joblib/parallel.py\", line 263, in <listcomp>\n",
            "    return [func(*args, **kwargs)\n",
            "  File \"/Users/suchirmisra/opt/anaconda3/lib/python3.9/site-packages/sklearn/utils/fixes.py\", line 216, in __call__\n",
            "    return self.function(*args, **kwargs)\n",
            "  File \"/Users/suchirmisra/opt/anaconda3/lib/python3.9/site-packages/sklearn/ensemble/_forest.py\", line 185, in _parallel_build_trees\n",
            "    tree.fit(X, y, sample_weight=curr_sample_weight, check_input=False)\n",
            "  File \"/Users/suchirmisra/opt/anaconda3/lib/python3.9/site-packages/sklearn/tree/_classes.py\", line 937, in fit\n",
            "    super().fit(\n",
            "  File \"/Users/suchirmisra/opt/anaconda3/lib/python3.9/site-packages/sklearn/tree/_classes.py\", line 250, in fit\n",
            "    raise ValueError(\n",
            "ValueError: min_samples_split must be an integer greater than 1 or a float in (0.0, 1.0]; got the integer 1\n",
            "\n",
            "  warnings.warn(some_fits_failed_message, FitFailedWarning)\n",
            "/Users/suchirmisra/opt/anaconda3/lib/python3.9/site-packages/sklearn/model_selection/_search.py:969: UserWarning: One or more of the test scores are non-finite: [       nan        nan        nan        nan        nan        nan\n",
            "        nan        nan        nan        nan        nan 0.59454992\n",
            " 0.59452309 0.59458569 0.59457973 0.59462594 0.59475414 0.59482122\n",
            " 0.59477799 0.59477799 0.59483165 0.59491811 0.59450073 0.5947914\n",
            " 0.59448582 0.59508208 0.59476755 0.59469451 0.59508208 0.59485252\n",
            " 0.59480929 0.59499115 0.59485252 0.59459613 0.59484358 0.59502394\n",
            " 0.59496879 0.59514618 0.59494643 0.5949673  0.59507015 0.59527884\n",
            " 0.59528928 0.59529822 0.59490022 0.59530567 0.59519984 0.59521475\n",
            " 0.59540555 0.59538766 0.59568132 0.59547412 0.59560827 0.5956366\n",
            " 0.5953489         nan        nan        nan        nan        nan\n",
            "        nan        nan        nan        nan        nan        nan\n",
            " 0.59632676 0.59644452 0.59667408 0.59650266 0.59648775 0.59673967\n",
            " 0.59683358 0.59658912 0.59677545 0.59670837 0.59694687 0.59617472\n",
            " 0.59642664 0.59661297 0.59641471 0.59683954 0.5967188  0.5969111\n",
            " 0.59689321 0.59679483 0.59663235 0.59677247 0.59646688 0.59646539\n",
            " 0.59655483 0.59660402 0.59685445 0.59683358 0.59650862 0.59658464\n",
            " 0.59676799 0.59669943 0.59692451 0.59658166 0.59650266 0.59656676\n",
            " 0.5967665  0.59677992 0.59677396 0.59659508 0.59680377 0.59665918\n",
            " 0.59700203 0.59707208        nan        nan        nan        nan\n",
            "        nan        nan        nan        nan        nan        nan\n",
            "        nan 0.59781741 0.59773095 0.59783529 0.59787852 0.59784573\n",
            " 0.59805591 0.59807678 0.59807678 0.59802759 0.59822584 0.59806336\n",
            " 0.59766983 0.59766089 0.59777865 0.59821541 0.59795007 0.59791728\n",
            " 0.59795305 0.59790088 0.59817963 0.59808125 0.59799628 0.59743878\n",
            " 0.59767281 0.59785616 0.59761766 0.59782635 0.59798138 0.59828696\n",
            " 0.598041   0.5983749  0.59815429 0.59803653 0.59781293 0.59777567\n",
            " 0.59785914 0.59790088 0.5977861  0.59786212 0.59795604 0.59789343\n",
            " 0.59799628 0.59785467 0.59819901        nan        nan        nan\n",
            "        nan        nan        nan        nan        nan        nan\n",
            "        nan        nan 0.59828547 0.59886384 0.59857018 0.59882657\n",
            " 0.59863279 0.59869838 0.59877738 0.59903824 0.59926184 0.59895924\n",
            " 0.59913811 0.59834807 0.598837   0.59881017 0.59886086 0.59869838\n",
            " 0.59888918 0.59903675 0.59886533 0.59888322 0.59884446 0.59876247\n",
            " 0.59846434 0.5985672  0.59871477 0.59900098 0.59887874 0.59904271\n",
            " 0.59897116 0.59881315 0.59900097 0.59891005 0.59889365 0.59829441\n",
            " 0.59847925 0.59876993 0.59884446 0.59864471 0.59900843 0.59866409\n",
            " 0.59903079 0.59910532 0.5985195  0.59900098        nan        nan\n",
            "        nan        nan        nan        nan        nan        nan\n",
            "        nan        nan        nan 0.59919178 0.599396   0.59948692\n",
            " 0.599396   0.5996494  0.59929314 0.59948096 0.59950481 0.59960021\n",
            " 0.59985809 0.59995499 0.59925737 0.59956593 0.59953761 0.59936767\n",
            " 0.59943773 0.59959276 0.59960916 0.59938258 0.59933339 0.59958382\n",
            " 0.59967474 0.5992991  0.59943624 0.59921265 0.59928867 0.59948245\n",
            " 0.59954357 0.59941239 0.59947202 0.59945115 0.59973139 0.59973437\n",
            " 0.59923352 0.59941687 0.59950332 0.59933339 0.59944668 0.59947798\n",
            " 0.59921563 0.59981785 0.59954357 0.5996658  0.59971499]\n",
            "  warnings.warn(\n"
          ]
        },
        {
          "data": {
            "text/plain": [
              "GridSearchCV(estimator=RandomForestClassifier(),\n",
              "             param_grid={'min_samples_leaf': [1, 2, 3, 4, 5],\n",
              "                         'min_samples_split': [1, 2, 3, 4, 5],\n",
              "                         'n_estimators': array([10, 11, 12, 13, 14, 15, 16, 17, 18, 19, 20])})"
            ]
          },
          "execution_count": 61,
          "metadata": {},
          "output_type": "execute_result"
        }
      ],
      "source": [
        "#Finding best hyperparameters using GridSearchCV\n",
        "from sklearn.model_selection import GridSearchCV\n",
        "n_trees = np.arange(10, 21, 1)\n",
        "split_samples = [1, 2, 3, 4, 5]\n",
        "leaf_samples = [1, 2, 3, 4, 5]\n",
        "new_random_forest = RandomForestClassifier()\n",
        "hyperparameters = {'n_estimators': n_trees, 'min_samples_split': split_samples, \"min_samples_leaf\": leaf_samples}\n",
        "new_hyperparams = GridSearchCV(new_random_forest, hyperparameters)\n",
        "new_hyperparams.fit(X_train_normalized, y_train)"
      ]
    },
    {
      "cell_type": "code",
      "execution_count": null,
      "id": "21165c95",
      "metadata": {
        "id": "21165c95",
        "outputId": "bb59446a-c13e-4eeb-edee-8a5901bef9f9"
      },
      "outputs": [
        {
          "data": {
            "text/plain": [
              "{'min_samples_leaf': 5, 'min_samples_split': 2, 'n_estimators': 20}"
            ]
          },
          "execution_count": 62,
          "metadata": {},
          "output_type": "execute_result"
        }
      ],
      "source": [
        "#Gets the best parameters\n",
        "new_hyperparams.best_params_"
      ]
    },
    {
      "cell_type": "code",
      "execution_count": null,
      "id": "3f0c8f0a",
      "metadata": {
        "id": "3f0c8f0a",
        "outputId": "157f4702-3682-4a62-90eb-a6dafb0a49f8"
      },
      "outputs": [
        {
          "data": {
            "text/plain": [
              "RandomForestClassifier(min_samples_leaf=5, n_estimators=20, random_state=2)"
            ]
          },
          "execution_count": 63,
          "metadata": {},
          "output_type": "execute_result"
        }
      ],
      "source": [
        "#Random Forest Model using Hyperparameters\n",
        "from sklearn.metrics import accuracy_score\n",
        "forest = RandomForestClassifier(n_estimators = 20, min_samples_leaf = 5, min_samples_split = 2, random_state = 2) \n",
        "forest.fit(X_train_normalized, y_train)"
      ]
    },
    {
      "cell_type": "code",
      "execution_count": null,
      "id": "f650e2fc",
      "metadata": {
        "id": "f650e2fc",
        "outputId": "dd2bc8bd-4916-4fa1-8643-9dd86867bbf5"
      },
      "outputs": [
        {
          "name": "stdout",
          "output_type": "stream",
          "text": [
            "Training Accuracy Score:  0.613797081919708\n",
            "Training F1 Score:  0.6127109358561708\n",
            "Testing Accuracy Score:  0.5996875633518967\n",
            "Testing F1 Score:  0.5981475014264542\n"
          ]
        }
      ],
      "source": [
        "X_test_normalized = modeling_feature_normalizer.fit_transform(X_test)\n",
        "randomforest_pred = forest.predict(X_test_normalized)\n",
        "randomforest_train_pred = forest.predict(X_train_normalized)\n",
        "\n",
        "print('Training Accuracy Score: ', accuracy_score(y_train, randomforest_train_pred))\n",
        "print('Training F1 Score: ', f1_score(y_train, randomforest_train_pred, average='weighted'))\n",
        "\n",
        "\n",
        "print('Testing Accuracy Score: ', accuracy_score(y_test, randomforest_pred))\n",
        "print('Testing F1 Score: ', f1_score(y_test, randomforest_pred, average='weighted'))"
      ]
    },
    {
      "cell_type": "code",
      "execution_count": null,
      "id": "338cbff6",
      "metadata": {
        "id": "338cbff6",
        "outputId": "ba59acd2-63e4-4090-e609-785ba887b9fc"
      },
      "outputs": [
        {
          "data": {
            "text/plain": [
              "(-1.0, 7.0)"
            ]
          },
          "execution_count": 65,
          "metadata": {},
          "output_type": "execute_result"
        },
        {
          "data": {
            "image/png": "[encoded data removed]",
            "text/plain": [
              "<Figure size 640x480 with 1 Axes>"
            ]
          },
          "metadata": {},
          "output_type": "display_data"
        }
      ],
      "source": [
        "#Feature Importance\n",
        "n_features = X.shape[1]\n",
        "plt.barh(np.arange(n_features), forest.feature_importances_, align='center')\n",
        "plt.yticks(np.arange(n_features), X.columns)\n",
        "plt.xlabel(\"Feature importance\")\n",
        "plt.ylabel(\"Feature\")\n",
        "plt.ylim(-1, n_features)"
      ]
    },
    {
      "cell_type": "code",
      "execution_count": null,
      "id": "c9c38f8a",
      "metadata": {
        "id": "c9c38f8a"
      },
      "outputs": [],
      "source": [
        "print(\"Complete\")"
      ]
    }
  ],
  "metadata": {
    "kernelspec": {
      "display_name": "Python 3 (ipykernel)",
      "language": "python",
      "name": "python3"
    },
    "language_info": {
      "codemirror_mode": {
        "name": "ipython",
        "version": 3
      },
      "file_extension": ".py",
      "mimetype": "text/x-python",
      "name": "python",
      "nbconvert_exporter": "python",
      "pygments_lexer": "ipython3",
      "version": "3.9.12"
    },
    "colab": {
      "provenance": []
    }
  },
  "nbformat": 4,
  "nbformat_minor": 5
}